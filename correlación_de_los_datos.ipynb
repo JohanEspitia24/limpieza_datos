{
  "nbformat": 4,
  "nbformat_minor": 0,
  "metadata": {
    "colab": {
      "provenance": []
    },
    "kernelspec": {
      "name": "python3",
      "display_name": "Python 3"
    },
    "language_info": {
      "name": "python"
    }
  },
  "cells": [
    {
      "cell_type": "markdown",
      "source": [
        "# Crear conexión SPARK"
      ],
      "metadata": {
        "id": "C4zR3UZ7T7Gn"
      }
    },
    {
      "cell_type": "code",
      "source": [
        "from pyspark.sql import SparkSession\n",
        "\n",
        "spark = SparkSession.builder.appName(\"Limpieza y Correlación\").getOrCreate()\n",
        "\n",
        "cores = spark._jsc.sc().getExecutorMemoryStatus().keySet().size()\n",
        "print(\"Ejcución de las tareas en \", cores, \"core(s) del sistema de cómputo actual\")"
      ],
      "metadata": {
        "colab": {
          "base_uri": "https://localhost:8080/"
        },
        "id": "XzInr-wHUFiG",
        "outputId": "aad3901d-69f8-4836-ee85-88f4b61b9c7a"
      },
      "execution_count": null,
      "outputs": [
        {
          "output_type": "stream",
          "name": "stdout",
          "text": [
            "Ejcución de las tareas en  1 core(s) del sistema de cómputo actual\n"
          ]
        }
      ]
    },
    {
      "cell_type": "markdown",
      "source": [
        "# Carga de datos\n",
        "\n",
        "*   dfxx_Inv: `RedVolucion_20250521_Limpio.csv`\n",
        "*   dfxx_Int: `Internet_Fijo_Penetracion_Municipio_20250521_Limpio.csv`\n",
        "*   dfxx_Icf: `Resultados_icfes_limpios.csv`"
      ],
      "metadata": {
        "id": "RYP8OHDnTxyy"
      }
    },
    {
      "cell_type": "code",
      "source": [
        "from pyspark import SparkFiles\n",
        "from google.colab import drive"
      ],
      "metadata": {
        "id": "FANdoEtyUqZh"
      },
      "execution_count": null,
      "outputs": []
    },
    {
      "cell_type": "code",
      "source": [
        "drive.mount('/content/drive')"
      ],
      "metadata": {
        "colab": {
          "base_uri": "https://localhost:8080/"
        },
        "id": "L02roFkdUvCO",
        "outputId": "30122465-d38b-407c-e312-3a2ac670ee98"
      },
      "execution_count": null,
      "outputs": [
        {
          "output_type": "stream",
          "name": "stdout",
          "text": [
            "Drive already mounted at /content/drive; to attempt to forcibly remount, call drive.mount(\"/content/drive\", force_remount=True).\n"
          ]
        }
      ]
    },
    {
      "cell_type": "code",
      "source": [
        "# Define la ruta a tu dataset en Google Drive\n",
        "dataset_path = '/content/drive/MyDrive/Resultados_icfes_limpios.csv'\n",
        "\n",
        "df00_Icf = spark.read.csv(dataset_path, header=True, inferSchema=True)\n",
        "df00_Icf.count()"
      ],
      "metadata": {
        "colab": {
          "base_uri": "https://localhost:8080/"
        },
        "id": "yTyriJayU1wb",
        "outputId": "fd18bf28-df50-4b26-ddd8-2905134732a7"
      },
      "execution_count": null,
      "outputs": [
        {
          "output_type": "execute_result",
          "data": {
            "text/plain": [
              "1449756"
            ]
          },
          "metadata": {},
          "execution_count": 36
        }
      ]
    },
    {
      "cell_type": "code",
      "execution_count": null,
      "metadata": {
        "colab": {
          "base_uri": "https://localhost:8080/"
        },
        "id": "IcuAovxITepa",
        "outputId": "233e1544-ee4e-4d59-e344-127a905360e1"
      },
      "outputs": [
        {
          "output_type": "execute_result",
          "data": {
            "text/plain": [
              "6682"
            ]
          },
          "metadata": {},
          "execution_count": 39
        }
      ],
      "source": [
        "url_github = \"https://raw.githubusercontent.com/Torrescjua/limpieza_datos/refs/heads/main/RedVolucion_20250521_Limpio.csv\"\n",
        "spark.sparkContext.addFile(url_github)\n",
        "\n",
        "df00_Inv = spark.read.csv(\"file://\" + SparkFiles.get(\"RedVolucion_20250521_Limpio.csv\"), inferSchema=True, header=True)\n",
        "df00_Inv.count()"
      ]
    },
    {
      "cell_type": "code",
      "source": [
        "url_github = \"https://raw.githubusercontent.com/Torrescjua/limpieza_datos/refs/heads/main/Internet_Fijo_Penetracion_Municipio_20250521_Limpio.csv\"\n",
        "spark.sparkContext.addFile(url_github)\n",
        "\n",
        "df00_Int = spark.read.csv(\"file://\" + SparkFiles.get(\"Internet_Fijo_Penetracion_Municipio_20250521_Limpio.csv\"), inferSchema=True, header=True)\n",
        "\n",
        "# Renombramos solo esa columna para quitar el punto y el espacio\n",
        "df00_Int = df00_Int.withColumnRenamed(\n",
        "    \"No. ACCESOS FIJOS A INTERNET\",\n",
        "    \"ACESSO_FIJO_INTERNET\"\n",
        ")\n",
        "\n",
        "df00_Int.count()"
      ],
      "metadata": {
        "colab": {
          "base_uri": "https://localhost:8080/"
        },
        "id": "zwNQWu2KUoPx",
        "outputId": "4c21a85e-18b8-498f-a4f7-50ff15c77496"
      },
      "execution_count": null,
      "outputs": [
        {
          "output_type": "execute_result",
          "data": {
            "text/plain": [
              "35578"
            ]
          },
          "metadata": {},
          "execution_count": 40
        }
      ]
    },
    {
      "cell_type": "markdown",
      "source": [
        "# Inspección exploratoria"
      ],
      "metadata": {
        "id": "ZB96oeX_ZXGt"
      }
    },
    {
      "cell_type": "markdown",
      "source": [
        "## Visión general - Resultados_icfes_limpios.csv"
      ],
      "metadata": {
        "id": "da02xpiiZiLd"
      }
    },
    {
      "cell_type": "code",
      "source": [
        "df00_Icf.printSchema()"
      ],
      "metadata": {
        "colab": {
          "base_uri": "https://localhost:8080/"
        },
        "id": "oo8QyOYwYAj5",
        "outputId": "90900ed7-c8b9-4576-c9fe-3cd06eb5925c"
      },
      "execution_count": null,
      "outputs": [
        {
          "output_type": "stream",
          "name": "stdout",
          "text": [
            "root\n",
            " |-- PERIODO: integer (nullable = true)\n",
            " |-- ESTU_TIPODOCUMENTO: string (nullable = true)\n",
            " |-- ESTU_CONSECUTIVO: string (nullable = true)\n",
            " |-- COLE_AREA_UBICACION: string (nullable = true)\n",
            " |-- COLE_BILINGUE: string (nullable = true)\n",
            " |-- COLE_CALENDARIO: string (nullable = true)\n",
            " |-- COLE_CARACTER: string (nullable = true)\n",
            " |-- COLE_COD_DANE_ESTABLECIMIENTO: long (nullable = true)\n",
            " |-- COLE_COD_DANE_SEDE: long (nullable = true)\n",
            " |-- COLE_COD_DEPTO_UBICACION: integer (nullable = true)\n",
            " |-- COLE_COD_MCPIO_UBICACION: integer (nullable = true)\n",
            " |-- COLE_CODIGO_ICFES: integer (nullable = true)\n",
            " |-- COLE_DEPTO_UBICACION: string (nullable = true)\n",
            " |-- COLE_GENERO: string (nullable = true)\n",
            " |-- COLE_JORNADA: string (nullable = true)\n",
            " |-- COLE_MCPIO_UBICACION: string (nullable = true)\n",
            " |-- COLE_NATURALEZA: string (nullable = true)\n",
            " |-- COLE_NOMBRE_ESTABLECIMIENTO: string (nullable = true)\n",
            " |-- COLE_NOMBRE_SEDE: string (nullable = true)\n",
            " |-- COLE_SEDE_PRINCIPAL: string (nullable = true)\n",
            " |-- ESTU_COD_DEPTO_PRESENTACION: integer (nullable = true)\n",
            " |-- ESTU_COD_MCPIO_PRESENTACION: integer (nullable = true)\n",
            " |-- ESTU_COD_RESIDE_DEPTO: integer (nullable = true)\n",
            " |-- ESTU_COD_RESIDE_MCPIO: integer (nullable = true)\n",
            " |-- ESTU_DEPTO_PRESENTACION: string (nullable = true)\n",
            " |-- ESTU_DEPTO_RESIDE: string (nullable = true)\n",
            " |-- ESTU_ESTADOINVESTIGACION: string (nullable = true)\n",
            " |-- ESTU_ESTUDIANTE: string (nullable = true)\n",
            " |-- ESTU_FECHANACIMIENTO: string (nullable = true)\n",
            " |-- ESTU_GENERO: string (nullable = true)\n",
            " |-- ESTU_MCPIO_PRESENTACION: string (nullable = true)\n",
            " |-- ESTU_MCPIO_RESIDE: string (nullable = true)\n",
            " |-- ESTU_NACIONALIDAD: string (nullable = true)\n",
            " |-- ESTU_PAIS_RESIDE: string (nullable = true)\n",
            " |-- ESTU_PRIVADO_LIBERTAD: string (nullable = true)\n",
            " |-- FAMI_CUARTOSHOGAR: string (nullable = true)\n",
            " |-- FAMI_EDUCACIONMADRE: string (nullable = true)\n",
            " |-- FAMI_EDUCACIONPADRE: string (nullable = true)\n",
            " |-- FAMI_ESTRATOVIVIENDA: string (nullable = true)\n",
            " |-- FAMI_PERSONASHOGAR: string (nullable = true)\n",
            " |-- FAMI_TIENEAUTOMOVIL: string (nullable = true)\n",
            " |-- FAMI_TIENECOMPUTADOR: string (nullable = true)\n",
            " |-- FAMI_TIENEINTERNET: string (nullable = true)\n",
            " |-- FAMI_TIENELAVADORA: string (nullable = true)\n",
            " |-- DESEMP_INGLES: string (nullable = true)\n",
            " |-- PUNT_INGLES: integer (nullable = true)\n",
            " |-- PUNT_MATEMATICAS: integer (nullable = true)\n",
            " |-- PUNT_SOCIALES_CIUDADANAS: integer (nullable = true)\n",
            " |-- PUNT_C_NATURALES: integer (nullable = true)\n",
            " |-- PUNT_LECTURA_CRITICA: integer (nullable = true)\n",
            " |-- PUNT_GLOBAL: integer (nullable = true)\n",
            " |-- AÑOS: integer (nullable = true)\n",
            " |-- TRIMESTRES: integer (nullable = true)\n",
            "\n"
          ]
        }
      ]
    },
    {
      "cell_type": "code",
      "source": [
        "df00_Icf.show(5, truncate=False)"
      ],
      "metadata": {
        "colab": {
          "base_uri": "https://localhost:8080/"
        },
        "id": "OZv37yLRZ2YB",
        "outputId": "181bd4e2-8903-4357-d556-746d324462e9"
      },
      "execution_count": null,
      "outputs": [
        {
          "output_type": "stream",
          "name": "stdout",
          "text": [
            "+-------+------------------+----------------+-------------------+-------------+---------------+-----------------+-----------------------------+------------------+------------------------+------------------------+-----------------+--------------------+-----------+------------+--------------------+---------------+--------------------------------------------------------------+---------------------------------------------------------+-------------------+---------------------------+---------------------------+---------------------+---------------------+-----------------------+-----------------+------------------------+---------------+--------------------+-----------+-----------------------+-----------------+-----------------+----------------+---------------------+-----------------+------------------------------------+----------------------------------+--------------------+------------------+-------------------+--------------------+------------------+------------------+-------------+-----------+----------------+------------------------+----------------+--------------------+-----------+----+----------+\n",
            "|PERIODO|ESTU_TIPODOCUMENTO|ESTU_CONSECUTIVO|COLE_AREA_UBICACION|COLE_BILINGUE|COLE_CALENDARIO|COLE_CARACTER    |COLE_COD_DANE_ESTABLECIMIENTO|COLE_COD_DANE_SEDE|COLE_COD_DEPTO_UBICACION|COLE_COD_MCPIO_UBICACION|COLE_CODIGO_ICFES|COLE_DEPTO_UBICACION|COLE_GENERO|COLE_JORNADA|COLE_MCPIO_UBICACION|COLE_NATURALEZA|COLE_NOMBRE_ESTABLECIMIENTO                                   |COLE_NOMBRE_SEDE                                         |COLE_SEDE_PRINCIPAL|ESTU_COD_DEPTO_PRESENTACION|ESTU_COD_MCPIO_PRESENTACION|ESTU_COD_RESIDE_DEPTO|ESTU_COD_RESIDE_MCPIO|ESTU_DEPTO_PRESENTACION|ESTU_DEPTO_RESIDE|ESTU_ESTADOINVESTIGACION|ESTU_ESTUDIANTE|ESTU_FECHANACIMIENTO|ESTU_GENERO|ESTU_MCPIO_PRESENTACION|ESTU_MCPIO_RESIDE|ESTU_NACIONALIDAD|ESTU_PAIS_RESIDE|ESTU_PRIVADO_LIBERTAD|FAMI_CUARTOSHOGAR|FAMI_EDUCACIONMADRE                 |FAMI_EDUCACIONPADRE               |FAMI_ESTRATOVIVIENDA|FAMI_PERSONASHOGAR|FAMI_TIENEAUTOMOVIL|FAMI_TIENECOMPUTADOR|FAMI_TIENEINTERNET|FAMI_TIENELAVADORA|DESEMP_INGLES|PUNT_INGLES|PUNT_MATEMATICAS|PUNT_SOCIALES_CIUDADANAS|PUNT_C_NATURALES|PUNT_LECTURA_CRITICA|PUNT_GLOBAL|AÑOS|TRIMESTRES|\n",
            "+-------+------------------+----------------+-------------------+-------------+---------------+-----------------+-----------------------------+------------------+------------------------+------------------------+-----------------+--------------------+-----------+------------+--------------------+---------------+--------------------------------------------------------------+---------------------------------------------------------+-------------------+---------------------------+---------------------------+---------------------+---------------------+-----------------------+-----------------+------------------------+---------------+--------------------+-----------+-----------------------+-----------------+-----------------+----------------+---------------------+-----------------+------------------------------------+----------------------------------+--------------------+------------------+-------------------+--------------------+------------------+------------------+-------------+-----------+----------------+------------------------+----------------+--------------------+-----------+----+----------+\n",
            "|20162  |TI                |SB11201620084846|URBANO             |N            |A              |TÉCNICO/ACADÉMICO|176001013310                 |176001013310      |76                      |76001                   |17632            |VALLE               |MIXTO      |MAÑANA      |CALI                |OFICIAL        |INSTITUCION EDUCATIVA POLITECNICO MUNICIPAL DE CALI           |72/01 INSTITUCION EDUCATIVA POLITECNICO MUNICIPAL DE CALI|S                  |76                         |76001                      |76                   |76001                |VALLE                  |VALLE            |PUBLICAR                |ESTUDIANTE     |27/07/2000          |M          |CALI                   |CALI             |COLOMBIA         |COLOMBIA        |N                    |Cuatro           |Secundaria (Bachillerato) incompleta|Secundaria (Bachillerato) completa|Estrato 5           |Cinco             |Si                 |Si                  |Si                |Si                |A2           |59         |57              |46                      |57              |57                  |272        |2016|2         |\n",
            "|20172  |TI                |SB11201720518410|URBANO             |N            |A              |TÉCNICO/ACADÉMICO|405001016946                 |405001016946      |5                       |5001                    |147587           |ANTIOQUIA           |MIXTO      |SABATINA    |MEDELLIN            |NO OFICIAL     |COL COOP SAN ANTONIO DE PRADO (AC)                            |COL COOP SAN ANTONIO DE PRADO (AC)                       |S                  |5                          |5360                       |5                    |5001                 |ANTIOQUIA              |ANTIOQUIA        |PUBLICAR                |ESTUDIANTE     |07/12/1999          |F          |ITAGÜÍ                 |MEDELLÍN         |COLOMBIA         |COLOMBIA        |N                    |Cinco            |Secundaria (Bachillerato) incompleta|Primaria incompleta               |Estrato 2           |5 a 6             |No                 |No                  |Si                |Si                |A-           |44         |53              |54                      |44              |54                  |253        |2017|2         |\n",
            "|20162  |TI                |SB11201620032856|URBANO             |N            |A              |TÉCNICO/ACADÉMICO|147555000627                 |147555000627      |47                      |47555                   |10835            |MAGDALENA           |MIXTO      |MAÑANA      |PLATO               |OFICIAL        |INSTITUCION EDUCATIVA DEPARTAMENTAL GABRIEL ESCOBAR BALLESTAS |COL BTO GABRIEL ESCOBAR B.                               |S                  |47                         |47555                      |47                   |47555                |MAGDALENA              |MAGDALENA        |PUBLICAR                |ESTUDIANTE     |07/09/1998          |M          |PLATO                  |PLATO            |COLOMBIA         |COLOMBIA        |N                    |Tres             |Primaria completa                   |Primaria incompleta               |Estrato 1           |Cuatro            |No                 |No                  |No                |Si                |A-           |32         |56              |56                      |51              |56                  |265        |2016|2         |\n",
            "|20162  |TI                |SB11201620355612|URBANO             |N            |A              |TÉCNICO          |305001004811                 |305001004811      |5                       |5001                    |85837            |ANTIOQUIA           |MIXTO      |COMPLETA    |MEDELLIN            |NO OFICIAL     |COL DIVINO SALVADOR                                           |COL DIVINO SALVADOR                                      |S                  |5                          |5001                       |5                    |5001                 |ANTIOQUIA              |ANTIOQUIA        |PUBLICAR                |ESTUDIANTE     |20/11/1999          |M          |MEDELLÍN               |MEDELLÍN         |COLOMBIA         |COLOMBIA        |N                    |Tres             |Técnica o tecnológica completa      |Secundaria (Bachillerato) completa|Estrato 3           |Cuatro            |No                 |Si                  |Si                |Si                |B1           |75         |71              |73                      |68              |68                  |352        |2016|2         |\n",
            "|20152  |TI                |SB11201520503811|URBANO             |N            |A              |TÉCNICO          |113188000028                 |113188000028      |13                      |13188                   |127373           |BOLIVAR             |MIXTO      |MAÑANA      |CICUCO              |OFICIAL        |INSTITUCIÓN EDUCATIVA TÉCNICA AGROAMBIENTAL SANTA ROSA DE LIMA|I.E.T. AGROAMBIENTAL SANTA ROSA DE LIMA - SEDE PRINCIPAL |S                  |13                         |13468                      |13                   |13188                |BOLIVAR                |BOLIVAR          |PUBLICAR                |ESTUDIANTE     |27/07/1998          |F          |MOMPÓS                 |CICUCO           |COLOMBIA         |COLOMBIA        |N                    |Dos              |Primaria completa                   |Secundaria (Bachillerato) completa|Estrato 1           |Cinco             |No                 |No                  |No                |No                |A-           |44         |47              |44                      |51              |44                  |232        |2015|2         |\n",
            "+-------+------------------+----------------+-------------------+-------------+---------------+-----------------+-----------------------------+------------------+------------------------+------------------------+-----------------+--------------------+-----------+------------+--------------------+---------------+--------------------------------------------------------------+---------------------------------------------------------+-------------------+---------------------------+---------------------------+---------------------+---------------------+-----------------------+-----------------+------------------------+---------------+--------------------+-----------+-----------------------+-----------------+-----------------+----------------+---------------------+-----------------+------------------------------------+----------------------------------+--------------------+------------------+-------------------+--------------------+------------------+------------------+-------------+-----------+----------------+------------------------+----------------+--------------------+-----------+----+----------+\n",
            "only showing top 5 rows\n",
            "\n"
          ]
        }
      ]
    },
    {
      "cell_type": "code",
      "source": [
        "df00_Icf.describe().show()"
      ],
      "metadata": {
        "colab": {
          "base_uri": "https://localhost:8080/"
        },
        "id": "MA1TQh5ianN9",
        "outputId": "c7b7b4fe-d4ba-4905-c6b9-e4ccb3da58d8"
      },
      "execution_count": null,
      "outputs": [
        {
          "output_type": "stream",
          "name": "stdout",
          "text": [
            "+-------+-----------------+------------------+------------------+-------------------+-------------+---------------+-----------------+-----------------------------+--------------------+------------------------+------------------------+-----------------+--------------------+-----------+------------+--------------------+---------------+---------------------------+--------------------+-------------------+---------------------------+---------------------------+---------------------+---------------------+-----------------------+-----------------+------------------------+---------------+--------------------+-----------+-----------------------+-----------------+-----------------+----------------+---------------------+-----------------+--------------------+--------------------+--------------------+------------------+-------------------+--------------------+------------------+------------------+-------------+-----------------+------------------+------------------------+------------------+--------------------+------------------+------------------+------------------+\n",
            "|summary|          PERIODO|ESTU_TIPODOCUMENTO|  ESTU_CONSECUTIVO|COLE_AREA_UBICACION|COLE_BILINGUE|COLE_CALENDARIO|    COLE_CARACTER|COLE_COD_DANE_ESTABLECIMIENTO|  COLE_COD_DANE_SEDE|COLE_COD_DEPTO_UBICACION|COLE_COD_MCPIO_UBICACION|COLE_CODIGO_ICFES|COLE_DEPTO_UBICACION|COLE_GENERO|COLE_JORNADA|COLE_MCPIO_UBICACION|COLE_NATURALEZA|COLE_NOMBRE_ESTABLECIMIENTO|    COLE_NOMBRE_SEDE|COLE_SEDE_PRINCIPAL|ESTU_COD_DEPTO_PRESENTACION|ESTU_COD_MCPIO_PRESENTACION|ESTU_COD_RESIDE_DEPTO|ESTU_COD_RESIDE_MCPIO|ESTU_DEPTO_PRESENTACION|ESTU_DEPTO_RESIDE|ESTU_ESTADOINVESTIGACION|ESTU_ESTUDIANTE|ESTU_FECHANACIMIENTO|ESTU_GENERO|ESTU_MCPIO_PRESENTACION|ESTU_MCPIO_RESIDE|ESTU_NACIONALIDAD|ESTU_PAIS_RESIDE|ESTU_PRIVADO_LIBERTAD|FAMI_CUARTOSHOGAR| FAMI_EDUCACIONMADRE| FAMI_EDUCACIONPADRE|FAMI_ESTRATOVIVIENDA|FAMI_PERSONASHOGAR|FAMI_TIENEAUTOMOVIL|FAMI_TIENECOMPUTADOR|FAMI_TIENEINTERNET|FAMI_TIENELAVADORA|DESEMP_INGLES|      PUNT_INGLES|  PUNT_MATEMATICAS|PUNT_SOCIALES_CIUDADANAS|  PUNT_C_NATURALES|PUNT_LECTURA_CRITICA|       PUNT_GLOBAL|              AÑOS|        TRIMESTRES|\n",
            "+-------+-----------------+------------------+------------------+-------------------+-------------+---------------+-----------------+-----------------------------+--------------------+------------------------+------------------------+-----------------+--------------------+-----------+------------+--------------------+---------------+---------------------------+--------------------+-------------------+---------------------------+---------------------------+---------------------+---------------------+-----------------------+-----------------+------------------------+---------------+--------------------+-----------+-----------------------+-----------------+-----------------+----------------+---------------------+-----------------+--------------------+--------------------+--------------------+------------------+-------------------+--------------------+------------------+------------------+-------------+-----------------+------------------+------------------------+------------------+--------------------+------------------+------------------+------------------+\n",
            "|  count|          1449756|           1449756|           1449756|            1449756|      1449756|        1449756|          1449756|                      1449756|             1449756|                 1449756|                 1449756|          1449756|             1449756|    1449756|     1449756|             1449756|        1449756|                    1449756|             1449756|            1449756|                    1449756|                    1449756|              1449756|              1449756|                1449756|          1449756|                 1449756|        1449756|             1449756|    1449756|                1449756|          1449756|          1449756|         1449756|              1449756|          1449756|             1449756|             1449756|             1449756|           1449756|            1449756|             1449756|           1449756|           1449756|      1449756|          1449756|           1449756|                 1449756|           1449756|             1449756|           1449756|           1449756|           1449756|\n",
            "|   mean|20161.91909742053|              NULL|              NULL|               NULL|         NULL|           NULL|             NULL|         2.060847022706789E11|2.070180893342667...|       33.39140655393045|       33613.89205217981|89156.76394441548|                NULL|       NULL|        NULL|                NULL|           NULL|                       NULL|                NULL|               NULL|         33.334600443109046|          33537.49784929326|    33.63643123394557|   33582.508209657346|                   NULL|             NULL|                    NULL|           NULL|                NULL|       NULL|                   NULL|             NULL|             NULL|            NULL|                 NULL|             NULL|                NULL|                NULL|                NULL|              NULL|               NULL|                NULL|              NULL|              NULL|         NULL|51.75112915552686|51.319063345831985|       51.03394709178648| 52.11780189218048|  52.518059590717336|258.73793797025155| 2015.996721517276| 1.951882247771349|\n",
            "| stddev|8.429152099363998|              NULL|              NULL|               NULL|         NULL|           NULL|             NULL|         9.468813219202286E10|9.690881848629562E10|       27.02910766896157|       27051.97918872382|108014.7152429682|                NULL|       NULL|        NULL|                NULL|           NULL|                       NULL|                NULL|               NULL|         27.067383420676013|         27091.532995490772|    168.2351591647918|   27064.925127285616|                   NULL|             NULL|                    NULL|           NULL|                NULL|       NULL|                   NULL|             NULL|             NULL|            NULL|                 NULL|             NULL|                NULL|                NULL|                NULL|              NULL|               NULL|                NULL|              NULL|              NULL|         NULL|12.23533171683457|12.267503954239174|      11.302355182877664|10.304944923966254|   9.908940024784958| 49.51648726494713|0.8458216547435949|0.2140151063414386|\n",
            "|    min|            20151|                CC|  SB11201510000182|              RURAL|            N|              A|        ACADÉMICO|                 105001000001|        105001000001|                       5|                    5001|               18|            AMAZONAS|   FEMENINO|    COMPLETA|           ABEJORRAL|     NO OFICIAL|       \"CENTRO EDUCATIVO...|\"\"\"CENTRO DE EDUC...|                  N|                          5|                       5001|                    5|                 5001|               AMAZONAS|         AMAZONAS|    NO SE COMPROBO ID...|     ESTUDIANTE|          01/01/1900|          F|              ABEJORRAL|        ABEJORRAL|       AFGANISTÁN|      AFGANISTÁN|                    N|            Cinco|Educación profesi...|Educación profesi...|           Estrato 1|             1 a 2|                 No|                  No|                No|                No|           A-|                0|                 0|                       0|                 0|                   0|                 0|              2015|                 1|\n",
            "|    max|            20181|                 v|SB3599201721316611|             URBANO|            S|           OTRO|TÉCNICO/ACADÉMICO|                 568432001300|        854874000001|                      99|                   99773|           714659|             VICHADA|      MIXTO|       UNICA|       ZONA BANANERA|        OFICIAL|                   ZARAGOZA|ZARAGOZA (sede pr...|                  S|                         99|                      99773|                99999|                99999|                VICHADA|          VICHADA|    VALIDEZ OFICINA J...|     ESTUDIANTE|          31/12/2007|          M|                 ÁBREGO|            ÚTICA|         ZIMBABUE|        ZIMBABUE|                    S|              Uno|Técnica o tecnoló...|Técnica o tecnoló...|         Sin Estrato|               Una|                 Si|                  Si|                Si|                Si|           B1|              100|               100|                     100|               100|                 100|               494|              2018|                 2|\n",
            "+-------+-----------------+------------------+------------------+-------------------+-------------+---------------+-----------------+-----------------------------+--------------------+------------------------+------------------------+-----------------+--------------------+-----------+------------+--------------------+---------------+---------------------------+--------------------+-------------------+---------------------------+---------------------------+---------------------+---------------------+-----------------------+-----------------+------------------------+---------------+--------------------+-----------+-----------------------+-----------------+-----------------+----------------+---------------------+-----------------+--------------------+--------------------+--------------------+------------------+-------------------+--------------------+------------------+------------------+-------------+-----------------+------------------+------------------------+------------------+--------------------+------------------+------------------+------------------+\n",
            "\n"
          ]
        }
      ]
    },
    {
      "cell_type": "code",
      "source": [
        "from pyspark.sql.functions import col, sum as _sum, when\n",
        "\n",
        "df00_Icf.select([\n",
        "    _sum(when(col(c).isNull(), 1).otherwise(0)).alias(c)\n",
        "    for c in df00_Icf.columns\n",
        "]).show()\n"
      ],
      "metadata": {
        "colab": {
          "base_uri": "https://localhost:8080/"
        },
        "id": "jWxCfhp7azQ-",
        "outputId": "bc16f0db-bf80-489a-c8d8-f8a84e021119"
      },
      "execution_count": null,
      "outputs": [
        {
          "output_type": "stream",
          "name": "stdout",
          "text": [
            "+-------+------------------+----------------+-------------------+-------------+---------------+-------------+-----------------------------+------------------+------------------------+------------------------+-----------------+--------------------+-----------+------------+--------------------+---------------+---------------------------+----------------+-------------------+---------------------------+---------------------------+---------------------+---------------------+-----------------------+-----------------+------------------------+---------------+--------------------+-----------+-----------------------+-----------------+-----------------+----------------+---------------------+-----------------+-------------------+-------------------+--------------------+------------------+-------------------+--------------------+------------------+------------------+-------------+-----------+----------------+------------------------+----------------+--------------------+-----------+----+----------+\n",
            "|PERIODO|ESTU_TIPODOCUMENTO|ESTU_CONSECUTIVO|COLE_AREA_UBICACION|COLE_BILINGUE|COLE_CALENDARIO|COLE_CARACTER|COLE_COD_DANE_ESTABLECIMIENTO|COLE_COD_DANE_SEDE|COLE_COD_DEPTO_UBICACION|COLE_COD_MCPIO_UBICACION|COLE_CODIGO_ICFES|COLE_DEPTO_UBICACION|COLE_GENERO|COLE_JORNADA|COLE_MCPIO_UBICACION|COLE_NATURALEZA|COLE_NOMBRE_ESTABLECIMIENTO|COLE_NOMBRE_SEDE|COLE_SEDE_PRINCIPAL|ESTU_COD_DEPTO_PRESENTACION|ESTU_COD_MCPIO_PRESENTACION|ESTU_COD_RESIDE_DEPTO|ESTU_COD_RESIDE_MCPIO|ESTU_DEPTO_PRESENTACION|ESTU_DEPTO_RESIDE|ESTU_ESTADOINVESTIGACION|ESTU_ESTUDIANTE|ESTU_FECHANACIMIENTO|ESTU_GENERO|ESTU_MCPIO_PRESENTACION|ESTU_MCPIO_RESIDE|ESTU_NACIONALIDAD|ESTU_PAIS_RESIDE|ESTU_PRIVADO_LIBERTAD|FAMI_CUARTOSHOGAR|FAMI_EDUCACIONMADRE|FAMI_EDUCACIONPADRE|FAMI_ESTRATOVIVIENDA|FAMI_PERSONASHOGAR|FAMI_TIENEAUTOMOVIL|FAMI_TIENECOMPUTADOR|FAMI_TIENEINTERNET|FAMI_TIENELAVADORA|DESEMP_INGLES|PUNT_INGLES|PUNT_MATEMATICAS|PUNT_SOCIALES_CIUDADANAS|PUNT_C_NATURALES|PUNT_LECTURA_CRITICA|PUNT_GLOBAL|AÑOS|TRIMESTRES|\n",
            "+-------+------------------+----------------+-------------------+-------------+---------------+-------------+-----------------------------+------------------+------------------------+------------------------+-----------------+--------------------+-----------+------------+--------------------+---------------+---------------------------+----------------+-------------------+---------------------------+---------------------------+---------------------+---------------------+-----------------------+-----------------+------------------------+---------------+--------------------+-----------+-----------------------+-----------------+-----------------+----------------+---------------------+-----------------+-------------------+-------------------+--------------------+------------------+-------------------+--------------------+------------------+------------------+-------------+-----------+----------------+------------------------+----------------+--------------------+-----------+----+----------+\n",
            "|      0|                 0|               0|                  0|            0|              0|            0|                            0|                 0|                       0|                       0|                0|                   0|          0|           0|                   0|              0|                          0|               0|                  0|                          0|                          0|                    0|                    0|                      0|                0|                       0|              0|                   0|          0|                      0|                0|                0|               0|                    0|                0|                  0|                  0|                   0|                 0|                  0|                   0|                 0|                 0|            0|          0|               0|                       0|               0|                   0|          0|   0|         0|\n",
            "+-------+------------------+----------------+-------------------+-------------+---------------+-------------+-----------------------------+------------------+------------------------+------------------------+-----------------+--------------------+-----------+------------+--------------------+---------------+---------------------------+----------------+-------------------+---------------------------+---------------------------+---------------------+---------------------+-----------------------+-----------------+------------------------+---------------+--------------------+-----------+-----------------------+-----------------+-----------------+----------------+---------------------+-----------------+-------------------+-------------------+--------------------+------------------+-------------------+--------------------+------------------+------------------+-------------+-----------+----------------+------------------------+----------------+--------------------+-----------+----+----------+\n",
            "\n"
          ]
        }
      ]
    },
    {
      "cell_type": "code",
      "source": [
        "numeric_cols_icf = [c for c, t in df00_Icf.dtypes if t in (\"int\", \"bigint\", \"double\", \"float\")]\n",
        "df00_Icf.select(numeric_cols_icf) \\\n",
        "    .summary(\"count\", \"mean\", \"stddev\", \"min\", \"25%\", \"50%\", \"75%\", \"max\") \\\n",
        "    .show()"
      ],
      "metadata": {
        "colab": {
          "base_uri": "https://localhost:8080/"
        },
        "id": "JjXRrnMJbxxu",
        "outputId": "5ba9a39c-a2ee-4e65-e94e-d1a8f9106347"
      },
      "execution_count": null,
      "outputs": [
        {
          "output_type": "stream",
          "name": "stdout",
          "text": [
            "+-------+-----------------+-----------------------------+--------------------+------------------------+------------------------+-----------------+---------------------------+---------------------------+---------------------+---------------------+-----------------+------------------+------------------------+------------------+--------------------+------------------+------------------+------------------+\n",
            "|summary|          PERIODO|COLE_COD_DANE_ESTABLECIMIENTO|  COLE_COD_DANE_SEDE|COLE_COD_DEPTO_UBICACION|COLE_COD_MCPIO_UBICACION|COLE_CODIGO_ICFES|ESTU_COD_DEPTO_PRESENTACION|ESTU_COD_MCPIO_PRESENTACION|ESTU_COD_RESIDE_DEPTO|ESTU_COD_RESIDE_MCPIO|      PUNT_INGLES|  PUNT_MATEMATICAS|PUNT_SOCIALES_CIUDADANAS|  PUNT_C_NATURALES|PUNT_LECTURA_CRITICA|       PUNT_GLOBAL|              AÑOS|        TRIMESTRES|\n",
            "+-------+-----------------+-----------------------------+--------------------+------------------------+------------------------+-----------------+---------------------------+---------------------------+---------------------+---------------------+-----------------+------------------+------------------------+------------------+--------------------+------------------+------------------+------------------+\n",
            "|  count|          1449756|                      1449756|             1449756|                 1449756|                 1449756|          1449756|                    1449756|                    1449756|              1449756|              1449756|          1449756|           1449756|                 1449756|           1449756|             1449756|           1449756|           1449756|           1449756|\n",
            "|   mean|20161.91909742053|         2.060847022706789E11|2.070180893342667...|       33.39140655393045|       33613.89205217981|89156.76394441548|         33.334600443109046|          33537.49784929326|    33.63643123394557|   33582.508209657346|51.75112915552686|51.319063345831985|       51.03394709178648| 52.11780189218048|  52.518059590717336|258.73793797025155| 2015.996721517276| 1.951882247771349|\n",
            "| stddev|8.429152099363998|         9.468813219202286E10|9.690881848629562E10|       27.02910766896157|       27051.97918872382|108014.7152429682|         27.067383420676013|         27091.532995490772|    168.2351591647918|   27064.925127285616|12.23533171683457|12.267503954239174|      11.302355182877664|10.304944923966254|   9.908940024784958| 49.51648726494713|0.8458216547435949|0.2140151063414386|\n",
            "|    min|            20151|                 105001000001|        105001000001|                       5|                    5001|               18|                          5|                       5001|                    5|                 5001|                0|                 0|                       0|                 0|                   0|                 0|              2015|                 1|\n",
            "|    25%|            20152|                 117513000469|        117614000711|                      11|                   11001|            24927|                         11|                      11001|                   11|                11001|               43|                42|                      43|                45|                  46|               222|              2015|                 2|\n",
            "|    50%|            20162|                 173001010214|        173001011474|                      20|                   20621|            68627|                         20|                      20228|                   20|                20443|               50|                51|                      51|                52|                  52|               255|              2016|                 2|\n",
            "|    75%|            20172|                 308001017203|        308001018021|                      63|                   63001|           113456|                         63|                      63001|                   63|                63001|               58|                59|                      59|                59|                  59|               292|              2017|                 2|\n",
            "|    max|            20181|                 568432001300|        854874000001|                      99|                   99773|           714659|                         99|                      99773|                99999|                99999|              100|               100|                     100|               100|                 100|               494|              2018|                 2|\n",
            "+-------+-----------------+-----------------------------+--------------------+------------------------+------------------------+-----------------+---------------------------+---------------------------+---------------------+---------------------+-----------------+------------------+------------------------+------------------+--------------------+------------------+------------------+------------------+\n",
            "\n"
          ]
        }
      ]
    },
    {
      "cell_type": "code",
      "source": [
        "pdf_icf = df00_Icf.select(\"PUNT_GLOBAL\").toPandas()\n",
        "pdf_icf[\"PUNT_GLOBAL\"].hist(bins=30)"
      ],
      "metadata": {
        "colab": {
          "base_uri": "https://localhost:8080/",
          "height": 452
        },
        "id": "1xFe_eH5jfj7",
        "outputId": "241e673e-9a18-4be2-9856-8f423a0c25a7"
      },
      "execution_count": null,
      "outputs": [
        {
          "output_type": "execute_result",
          "data": {
            "text/plain": [
              "<Axes: >"
            ]
          },
          "metadata": {},
          "execution_count": 60
        },
        {
          "output_type": "display_data",
          "data": {
            "text/plain": [
              "<Figure size 640x480 with 1 Axes>"
            ],
            "image/png": "[encoded data removed]"
          },
          "metadata": {}
        }
      ]
    },
    {
      "cell_type": "markdown",
      "source": [
        "## Visión general - Internet_Fijo_Penetracion_Municipio_20250521_Limpio.csv"
      ],
      "metadata": {
        "id": "SVjkT-nocS-S"
      }
    },
    {
      "cell_type": "code",
      "source": [
        "df00_Int.printSchema()"
      ],
      "metadata": {
        "colab": {
          "base_uri": "https://localhost:8080/"
        },
        "id": "9SVZaz7hcbK7",
        "outputId": "62887f40-f456-4b15-a559-21d610c8c759"
      },
      "execution_count": null,
      "outputs": [
        {
          "output_type": "stream",
          "name": "stdout",
          "text": [
            "root\n",
            " |-- AÑO: integer (nullable = true)\n",
            " |-- TRIMESTRE: integer (nullable = true)\n",
            " |-- COD_DEPARTAMENTO: integer (nullable = true)\n",
            " |-- DEPARTAMENTO: string (nullable = true)\n",
            " |-- COD_MUNICIPIO: integer (nullable = true)\n",
            " |-- MUNICIPIO: string (nullable = true)\n",
            " |-- No. ACCESOS FIJOS A INTERNET: integer (nullable = true)\n",
            " |-- POBLACIÓN DANE: integer (nullable = true)\n",
            " |-- INDICE: double (nullable = true)\n",
            "\n"
          ]
        }
      ]
    },
    {
      "cell_type": "code",
      "source": [
        "df00_Int.show(5, truncate=False)"
      ],
      "metadata": {
        "colab": {
          "base_uri": "https://localhost:8080/"
        },
        "id": "0vjejabrfZ9-",
        "outputId": "7e9d659a-537b-48cf-caf5-3e5ae9fe013f"
      },
      "execution_count": null,
      "outputs": [
        {
          "output_type": "stream",
          "name": "stdout",
          "text": [
            "+----+---------+----------------+------------+-------------+-------------+----------------------------+--------------+------+\n",
            "|AÑO |TRIMESTRE|COD_DEPARTAMENTO|DEPARTAMENTO|COD_MUNICIPIO|MUNICIPIO    |No. ACCESOS FIJOS A INTERNET|POBLACIÓN DANE|INDICE|\n",
            "+----+---------+----------------+------------+-------------+-------------+----------------------------+--------------+------+\n",
            "|2016|1        |50              |META        |50606        |RESTREPO     |490                         |17648         |2.78  |\n",
            "|2016|2        |15              |BOYACÁ      |15518        |PAJARITO     |43                          |2395          |1.8   |\n",
            "|2020|3        |25              |CUNDINAMARCA|25489        |NIMAIMA      |43                          |3808          |1.13  |\n",
            "|2020|3        |73              |TOLIMA      |73030        |AMBALEMA     |38                          |6752          |0.56  |\n",
            "|2017|1        |5               |ANTIOQUIA   |5690         |SANTO DOMINGO|337                         |12426         |2.71  |\n",
            "+----+---------+----------------+------------+-------------+-------------+----------------------------+--------------+------+\n",
            "only showing top 5 rows\n",
            "\n"
          ]
        }
      ]
    },
    {
      "cell_type": "code",
      "source": [
        "df00_Int.describe().show()"
      ],
      "metadata": {
        "colab": {
          "base_uri": "https://localhost:8080/"
        },
        "id": "64AKdXO_fwpc",
        "outputId": "69608591-126e-4912-9477-a0c32fba4825"
      },
      "execution_count": null,
      "outputs": [
        {
          "output_type": "stream",
          "name": "stdout",
          "text": [
            "+-------+------------------+------------------+------------------+------------+------------------+---------+--------------------+------------------+-----------------+\n",
            "|summary|               AÑO|         TRIMESTRE|  COD_DEPARTAMENTO|DEPARTAMENTO|     COD_MUNICIPIO|MUNICIPIO|ACESSO_FIJO_INTERNET|    POBLACIÓN DANE|           INDICE|\n",
            "+-------+------------------+------------------+------------------+------------+------------------+---------+--------------------+------------------+-----------------+\n",
            "|  count|             35578|             35578|             35578|       35578|             35578|    35578|               35578|             35578|            35578|\n",
            "|   mean|2019.2601326662543|2.5000843217718813|37.779920175389286|        NULL|38211.710354713585|     NULL|   6633.804766990837| 44491.30788689639|4.498820057338791|\n",
            "| stddev|2.3311547789013436|1.1178485582544055| 26.17113628351531|        NULL| 26152.92116560164|     NULL|   67065.73359861718|261170.14884452784|5.976250890367004|\n",
            "|    min|              2015|                 1|                 5|    AMAZONAS|              5001|ABEJORRAL|                   1|               262|              0.0|\n",
            "|    max|              2023|                 4|                99|     VICHADA|             99773|    ÚTICA|             2638171|           7907281|           122.03|\n",
            "+-------+------------------+------------------+------------------+------------+------------------+---------+--------------------+------------------+-----------------+\n",
            "\n"
          ]
        }
      ]
    },
    {
      "cell_type": "code",
      "source": [
        "df00_Int.select([\n",
        "    _sum(when(col(c).isNull(), 1).otherwise(0)).alias(c)\n",
        "    for c in df00_Int.columns\n",
        "]).show()"
      ],
      "metadata": {
        "colab": {
          "base_uri": "https://localhost:8080/"
        },
        "id": "2_KSkNqtgI_p",
        "outputId": "8af735c7-3923-48c1-f394-1fbd1f91c38c"
      },
      "execution_count": null,
      "outputs": [
        {
          "output_type": "stream",
          "name": "stdout",
          "text": [
            "+---+---------+----------------+------------+-------------+---------+--------------------+--------------+------+\n",
            "|AÑO|TRIMESTRE|COD_DEPARTAMENTO|DEPARTAMENTO|COD_MUNICIPIO|MUNICIPIO|ACESSO_FIJO_INTERNET|POBLACIÓN DANE|INDICE|\n",
            "+---+---------+----------------+------------+-------------+---------+--------------------+--------------+------+\n",
            "|  0|        0|               0|           0|            0|        0|                   0|             0|     0|\n",
            "+---+---------+----------------+------------+-------------+---------+--------------------+--------------+------+\n",
            "\n"
          ]
        }
      ]
    },
    {
      "cell_type": "code",
      "source": [
        "numeric_cols_icf = [c for c, t in df00_Int.dtypes if t in (\"int\", \"bigint\", \"double\", \"float\")]\n",
        "df00_Int.select(numeric_cols_icf) \\\n",
        "    .summary(\"count\", \"mean\", \"stddev\", \"min\", \"25%\", \"50%\", \"75%\", \"max\") \\\n",
        "    .show()"
      ],
      "metadata": {
        "colab": {
          "base_uri": "https://localhost:8080/"
        },
        "id": "4gaYNdGRgfiZ",
        "outputId": "4331ff1f-3efc-4dbf-e62a-f88eeda2505e"
      },
      "execution_count": null,
      "outputs": [
        {
          "output_type": "stream",
          "name": "stdout",
          "text": [
            "+-------+------------------+------------------+------------------+------------------+--------------------+------------------+-----------------+\n",
            "|summary|               AÑO|         TRIMESTRE|  COD_DEPARTAMENTO|     COD_MUNICIPIO|ACESSO_FIJO_INTERNET|    POBLACIÓN DANE|           INDICE|\n",
            "+-------+------------------+------------------+------------------+------------------+--------------------+------------------+-----------------+\n",
            "|  count|             35578|             35578|             35578|             35578|               35578|             35578|            35578|\n",
            "|   mean|2019.2601326662543|2.5000843217718813|37.779920175389286|38211.710354713585|   6633.804766990837| 44491.30788689639|4.498820057338791|\n",
            "| stddev|2.3311547789013436|1.1178485582544055| 26.17113628351531| 26152.92116560164|   67065.73359861718|261170.14884452784|5.976250890367004|\n",
            "|    min|              2015|                 1|                 5|              5001|                   1|               262|              0.0|\n",
            "|    25%|              2017|                 2|                15|             15664|                  52|              6866|             0.78|\n",
            "|    50%|              2019|                 2|                25|             25805|                 242|             13197|             2.29|\n",
            "|    75%|              2021|                 3|                66|             66075|                1078|             27759|             5.68|\n",
            "|    max|              2023|                 4|                99|             99773|             2638171|           7907281|           122.03|\n",
            "+-------+------------------+------------------+------------------+------------------+--------------------+------------------+-----------------+\n",
            "\n"
          ]
        }
      ]
    },
    {
      "cell_type": "markdown",
      "source": [
        "## Visión general - RedVolucion_20250521_Limpio.csv"
      ],
      "metadata": {
        "id": "d6YSbatJiePA"
      }
    },
    {
      "cell_type": "code",
      "source": [
        "df00_Inv.printSchema()"
      ],
      "metadata": {
        "colab": {
          "base_uri": "https://localhost:8080/"
        },
        "id": "13_s_hM4iRwV",
        "outputId": "24f18a80-0aae-4e91-e26a-47567d06dd31"
      },
      "execution_count": null,
      "outputs": [
        {
          "output_type": "stream",
          "name": "stdout",
          "text": [
            "root\n",
            " |-- DEPARTAME_NOMBRE: string (nullable = true)\n",
            " |-- MUNICIPIO_NOMBRE: string (nullable = true)\n",
            " |-- TotalPersonasSencibilizadas: integer (nullable = true)\n",
            " |-- COD DANE INST EDUC: long (nullable = true)\n",
            " |-- MUNICIPIO_COD: integer (nullable = true)\n",
            " |-- FECHA DE CARGUE: date (nullable = true)\n",
            " |-- ID INDICADOR: integer (nullable = true)\n",
            " |-- INVERSION_TOTAL: double (nullable = true)\n",
            " |-- FECHA VIGENCIA: date (nullable = true)\n",
            " |-- META_NACIONAL: integer (nullable = true)\n",
            "\n"
          ]
        }
      ]
    },
    {
      "cell_type": "code",
      "source": [
        "df00_Inv.show(5, truncate=False)"
      ],
      "metadata": {
        "colab": {
          "base_uri": "https://localhost:8080/"
        },
        "id": "sThDHGYIistr",
        "outputId": "588bc973-def6-4b15-bc80-721c57cda808"
      },
      "execution_count": null,
      "outputs": [
        {
          "output_type": "stream",
          "name": "stdout",
          "text": [
            "+----------------+----------------+---------------------------+------------------+-------------+---------------+------------+---------------+--------------+-------------+\n",
            "|DEPARTAME_NOMBRE|MUNICIPIO_NOMBRE|TotalPersonasSencibilizadas|COD DANE INST EDUC|MUNICIPIO_COD|FECHA DE CARGUE|ID INDICADOR|INVERSION_TOTAL|FECHA VIGENCIA|META_NACIONAL|\n",
            "+----------------+----------------+---------------------------+------------------+-------------+---------------+------------+---------------+--------------+-------------+\n",
            "|TOLIMA          |FLANDES         |19                         |173275000428      |73275        |2016-12-31     |3979        |1682304.93     |2016-12-31    |48000        |\n",
            "|TOLIMA          |IBAGUE          |41                         |173001003684      |73001        |2015-12-31     |3101        |3043725.71     |2015-12-31    |34000        |\n",
            "|VALLE DEL CAUCA |CARTAGO         |95                         |176147000236      |76147        |2016-12-31     |3979        |8411524.68     |2016-12-31    |48000        |\n",
            "|HUILA           |HOBO            |5                          |141349000108      |41349        |2015-12-31     |3101        |371186.06      |2015-12-31    |34000        |\n",
            "|MAGDALENA       |PIVIJAY         |18                         |247551000392      |47551        |2015-12-31     |3101        |1336269.82     |2015-12-31    |34000        |\n",
            "+----------------+----------------+---------------------------+------------------+-------------+---------------+------------+---------------+--------------+-------------+\n",
            "only showing top 5 rows\n",
            "\n"
          ]
        }
      ]
    },
    {
      "cell_type": "code",
      "source": [
        "df00_Inv.describe().show()"
      ],
      "metadata": {
        "colab": {
          "base_uri": "https://localhost:8080/"
        },
        "id": "22dagLwsizS_",
        "outputId": "01fa8875-7396-4f28-b939-dbb083a7921a"
      },
      "execution_count": null,
      "outputs": [
        {
          "output_type": "stream",
          "name": "stdout",
          "text": [
            "+-------+----------------+----------------+---------------------------+--------------------+-----------------+-----------------+------------------+-----------------+\n",
            "|summary|DEPARTAME_NOMBRE|MUNICIPIO_NOMBRE|TotalPersonasSencibilizadas|  COD DANE INST EDUC|    MUNICIPIO_COD|     ID INDICADOR|   INVERSION_TOTAL|    META_NACIONAL|\n",
            "+-------+----------------+----------------+---------------------------+--------------------+-----------------+-----------------+------------------+-----------------+\n",
            "|  count|            6682|            6682|                       6682|                6682|             6682|             6682|              6682|             6682|\n",
            "|   mean|            NULL|            NULL|          82.25875486381322|1.849766306551863E11| 38734.2499251721|4210.358575276863|2554394.8951675864|77184.22627955701|\n",
            "| stddev|            NULL|            NULL|         217.69551480684436|1.021769097520962...|26681.74219742981|1629.713745940243| 3734024.891476186|80447.63359386739|\n",
            "|    min|        AMAZONAS|       ABEJORRAL|                          1|                   0|             5001|             2344|          14560.68|            18300|\n",
            "|    max|         VICHADA|   ZONA BANANERA|                       4157|        708000090327|            99524|             8046|        7.543388E7|           265000|\n",
            "+-------+----------------+----------------+---------------------------+--------------------+-----------------+-----------------+------------------+-----------------+\n",
            "\n"
          ]
        }
      ]
    },
    {
      "cell_type": "code",
      "source": [
        "df00_Inv.select([\n",
        "    _sum(when(col(c).isNull(), 1).otherwise(0)).alias(c)\n",
        "    for c in df00_Inv.columns\n",
        "]).show()"
      ],
      "metadata": {
        "colab": {
          "base_uri": "https://localhost:8080/"
        },
        "id": "710S2QE8jPM-",
        "outputId": "45b704fe-adc6-4809-e018-df4db5b6bccb"
      },
      "execution_count": null,
      "outputs": [
        {
          "output_type": "stream",
          "name": "stdout",
          "text": [
            "+----------------+----------------+---------------------------+------------------+-------------+---------------+------------+---------------+--------------+-------------+\n",
            "|DEPARTAME_NOMBRE|MUNICIPIO_NOMBRE|TotalPersonasSencibilizadas|COD DANE INST EDUC|MUNICIPIO_COD|FECHA DE CARGUE|ID INDICADOR|INVERSION_TOTAL|FECHA VIGENCIA|META_NACIONAL|\n",
            "+----------------+----------------+---------------------------+------------------+-------------+---------------+------------+---------------+--------------+-------------+\n",
            "|               0|               0|                          0|                 0|            0|              0|           0|              0|             0|            0|\n",
            "+----------------+----------------+---------------------------+------------------+-------------+---------------+------------+---------------+--------------+-------------+\n",
            "\n"
          ]
        }
      ]
    },
    {
      "cell_type": "code",
      "source": [
        "numeric_cols_inv = [c for c, t in df00_Inv.dtypes if t in (\"int\", \"bigint\", \"double\", \"float\")]\n",
        "df00_Inv.select(numeric_cols_inv) \\\n",
        "    .summary(\"count\", \"mean\", \"stddev\", \"min\", \"25%\", \"50%\", \"75%\", \"max\") \\\n",
        "    .show()"
      ],
      "metadata": {
        "colab": {
          "base_uri": "https://localhost:8080/"
        },
        "id": "D93ju4CSjPwB",
        "outputId": "231fe63a-508b-42a9-eac3-e4b34423eab7"
      },
      "execution_count": null,
      "outputs": [
        {
          "output_type": "stream",
          "name": "stdout",
          "text": [
            "+-------+---------------------------+--------------------+-----------------+-----------------+------------------+-----------------+\n",
            "|summary|TotalPersonasSencibilizadas|  COD DANE INST EDUC|    MUNICIPIO_COD|     ID INDICADOR|   INVERSION_TOTAL|    META_NACIONAL|\n",
            "+-------+---------------------------+--------------------+-----------------+-----------------+------------------+-----------------+\n",
            "|  count|                       6682|                6682|             6682|             6682|              6682|             6682|\n",
            "|   mean|          82.25875486381322|1.849766306551863E11| 38734.2499251721|4210.358575276863|2554394.8951675864|77184.22627955701|\n",
            "| stddev|         217.69551480684436|1.021769097520962...|26681.74219742981|1629.713745940243| 3734024.891476186|80447.63359386739|\n",
            "|    min|                          1|                   0|             5001|             2344|          14560.68|            18300|\n",
            "|    25%|                         11|        115820000023|            15238|             3101|         708338.92|            34000|\n",
            "|    50%|                         22|        168547000011|            25899|             3979|        1558981.46|            48000|\n",
            "|    75%|                         45|        254874000207|            66001|             4780|        2921898.04|            64500|\n",
            "|    max|                       4157|        708000090327|            99524|             8046|        7.543388E7|           265000|\n",
            "+-------+---------------------------+--------------------+-----------------+-----------------+------------------+-----------------+\n",
            "\n"
          ]
        }
      ]
    },
    {
      "cell_type": "markdown",
      "source": [
        "# Limpieza por dataset"
      ],
      "metadata": {
        "id": "No7oC-12kI3t"
      }
    },
    {
      "cell_type": "markdown",
      "source": [
        "## df00_Icf --> df05_Icf"
      ],
      "metadata": {
        "id": "2FqP4pCVkUQH"
      }
    },
    {
      "cell_type": "code",
      "source": [
        "# Paso 1: eliminar PERIODO\n",
        "df01_Icf = df00_Icf.drop(\"PERIODO\")"
      ],
      "metadata": {
        "id": "fJ9uKzXVkJ9c"
      },
      "execution_count": null,
      "outputs": []
    },
    {
      "cell_type": "markdown",
      "source": [
        "Eliminamos PERIODO, porque era un campo combinado (p. ej. “20151”) y ahora ya lo tenemos desglosaste en año y trimestre."
      ],
      "metadata": {
        "id": "UhTaFVVnlyGO"
      }
    },
    {
      "cell_type": "code",
      "source": [
        "# Paso 2: eliminar las columnas indicadas\n",
        "cols_to_drop = [\n",
        "    \"ESTU_CONSECUTIVO\",\n",
        "    \"COLE_COD_DANE_ESTABLECIMIENTO\",\n",
        "    \"COLE_COD_DANE_SEDE\",\n",
        "    \"COLE_CODIGO_ICFES\",\n",
        "    \"COLE_COD_DEPTO_UBICACION\",\n",
        "    \"ESTU_COD_DEPTO_PRESENTACION\",\n",
        "    \"ESTU_COD_MCPIO_PRESENTACION\",\n",
        "    \"ESTU_COD_RESIDE_DEPTO\",\n",
        "    \"ESTU_COD_RESIDE_MCPIO\"\n",
        "]\n",
        "\n",
        "df02_Icf = df01_Icf.drop(*cols_to_drop)"
      ],
      "metadata": {
        "id": "FCgoOhi-l3qs"
      },
      "execution_count": null,
      "outputs": []
    },
    {
      "cell_type": "markdown",
      "source": [
        "Eliminamos los códigos DANE de establecimiento y sede como:\n",
        "\n",
        "    \"ESTU_CONSECUTIVO\",\n",
        "    \"COLE_COD_DANE_ESTABLECIMIENTO\",\n",
        "    \"COLE_COD_DANE_SEDE\",\n",
        "    \"COLE_CODIGO_ICFES\",\n",
        "    \"COLE_COD_DEPTO_UBICACION\",\n",
        "    \"ESTU_COD_DEPTO_PRESENTACION\",\n",
        "    \"ESTU_COD_MCPIO_PRESENTACION\",\n",
        "    \"ESTU_COD_RESIDE_DEPTO\",\n",
        "    \"ESTU_COD_RESIDE_MCPIO\"\n",
        "\n",
        "que son meros identificadores con miles de valores únicos y no aportan a la mayoría de los análisis."
      ],
      "metadata": {
        "id": "v9lVfNJlmGI2"
      }
    },
    {
      "cell_type": "code",
      "source": [
        "from pyspark.sql.functions import when, col\n",
        "from pyspark.sql.types import BooleanType\n",
        "\n",
        "# 1. Lista de columnas a binarizar\n",
        "fam_cols = [\n",
        "    \"COLE_BILINGUE\",\n",
        "    \"FAMI_TIENEAUTOMOVIL\",\n",
        "    \"FAMI_TIENECOMPUTADOR\",\n",
        "    \"FAMI_TIENEINTERNET\",\n",
        "    \"FAMI_TIENELAVADORA\",\n",
        "    \"COLE_SEDE_PRINCIPAL\",\n",
        "    \"ESTU_PRIVADO_LIBERTAD\"\n",
        "]\n",
        "\n",
        "df03_Icf = df02_Icf\n",
        "for c in fam_cols:\n",
        "    df03_Icf = df03_Icf.withColumn(\n",
        "        c,\n",
        "        # Cuando sea \"Si\" o \"S\" ➔ True, en cualquier otro caso ➔ False\n",
        "        when((col(c) == \"Si\") | (col(c) == \"S\"), True)\n",
        "        .otherwise(False)\n",
        "        # forzar el tipo BooleanType\n",
        "        .cast(BooleanType())\n",
        "    )\n",
        "\n",
        "# Comprueba tipos y valores\n",
        "df03_Icf.select(*fam_cols).printSchema()"
      ],
      "metadata": {
        "colab": {
          "base_uri": "https://localhost:8080/"
        },
        "id": "fPa9Ft_HrGdd",
        "outputId": "bc95b6a7-0d34-4bd8-987b-4f21b91167d3"
      },
      "execution_count": null,
      "outputs": [
        {
          "output_type": "stream",
          "name": "stdout",
          "text": [
            "root\n",
            " |-- COLE_BILINGUE: boolean (nullable = false)\n",
            " |-- FAMI_TIENEAUTOMOVIL: boolean (nullable = false)\n",
            " |-- FAMI_TIENECOMPUTADOR: boolean (nullable = false)\n",
            " |-- FAMI_TIENEINTERNET: boolean (nullable = false)\n",
            " |-- FAMI_TIENELAVADORA: boolean (nullable = false)\n",
            " |-- COLE_SEDE_PRINCIPAL: boolean (nullable = false)\n",
            " |-- ESTU_PRIVADO_LIBERTAD: boolean (nullable = false)\n",
            "\n"
          ]
        }
      ]
    },
    {
      "cell_type": "markdown",
      "source": [
        "Converitir datos a binarios debido a la simplicidad de si manejo como:\n",
        "\n",
        "    \"COLE_BILINGUE\",\n",
        "    \"FAMI_TIENEAUTOMOVIL\",\n",
        "    \"FAMI_TIENECOMPUTADOR\",\n",
        "    \"FAMI_TIENEINTERNET\",\n",
        "    \"FAMI_TIENELAVADORA\",\n",
        "    \"COLE_SEDE_PRINCIPAL\",\n",
        "    \"ESTU_PRIVADO_LIBERTAD\"\n",
        "\n",
        "Esto nos faacilitara su uso, para comprobaciones booleanas."
      ],
      "metadata": {
        "id": "j17UTXY7rjkH"
      }
    },
    {
      "cell_type": "code",
      "source": [
        "import re\n",
        "from pyspark.sql.functions import udf, col\n",
        "from pyspark.sql.types import DoubleType\n",
        "\n",
        "# 1. Mapa de palabras en español a números\n",
        "word_to_num = {\n",
        "    'uno': 1.0, 'dos': 2.0, 'tres': 3.0, 'cuatro': 4.0,\n",
        "    'cinco': 5.0, 'seis': 6.0, 'siete': 7.0, 'ocho': 8.0,\n",
        "    'nueve': 9.0, 'diez': 10.0, 'seis o mas': 6.0, 'siete o mas': 7.0,\n",
        "    'ocho o mas': 8.0, 'nueve o mas': 9.0, 'diez o mas': 10.0\n",
        "}\n",
        "\n",
        "# 2. Función de parsing\n",
        "def parse_numeric(s):\n",
        "    if s is None:\n",
        "        return None\n",
        "    s_l = s.lower()\n",
        "    # 2a. Rango \"x a y\"\n",
        "    if ' a ' in s_l:\n",
        "        parts = re.findall(r'(\\d+)', s_l)\n",
        "        if len(parts) == 2:\n",
        "            return (float(parts[0]) + float(parts[1])) / 2\n",
        "    # 2b. Número simple\n",
        "    m = re.search(r'(\\d+)', s_l)\n",
        "    if m:\n",
        "        return float(m.group(1))\n",
        "    # 2c. Palabra en español\n",
        "    for w, num in word_to_num.items():\n",
        "        if w in s_l:\n",
        "            return num\n",
        "    return None\n",
        "\n",
        "# 3. Registra el UDF\n",
        "parse_numeric_udf = udf(parse_numeric, DoubleType())\n",
        "\n",
        "# 4. Columnas a convertir\n",
        "cols_to_numeric = [\"FAMI_ESTRATOVIVIENDA\", \"FAMI_PERSONASHOGAR\", \"FAMI_CUARTOSHOGAR\"]\n",
        "\n",
        "# 5. Aplica la transformación\n",
        "df04_Icf = df03_Icf  # parte de tu df anterior\n",
        "for c in cols_to_numeric:\n",
        "    df04_Icf = df04_Icf.withColumn(c, parse_numeric_udf(col(c)))\n",
        "\n",
        "# 6. Comprueba esquema y valores\n",
        "df04_Icf.select(*cols_to_numeric).printSchema()\n"
      ],
      "metadata": {
        "colab": {
          "base_uri": "https://localhost:8080/"
        },
        "id": "k8iL9mn2tKPP",
        "outputId": "15bb8e83-e812-4bc8-9b48-248cd6786643"
      },
      "execution_count": null,
      "outputs": [
        {
          "output_type": "stream",
          "name": "stdout",
          "text": [
            "root\n",
            " |-- FAMI_ESTRATOVIVIENDA: double (nullable = true)\n",
            " |-- FAMI_PERSONASHOGAR: double (nullable = true)\n",
            " |-- FAMI_CUARTOSHOGAR: double (nullable = true)\n",
            "\n"
          ]
        }
      ]
    },
    {
      "cell_type": "markdown",
      "source": [
        "Cambiamos valores que si bien son numericos estan como strings y son escritos textualmente como:\n",
        "\n",
        "    \"FAMI_ESTRATOVIVIENDA\",\n",
        "    \"FAMI_PERSONASHOGAR\",\n",
        "    \"FAMI_CUARTOSHOGAR\""
      ],
      "metadata": {
        "id": "Ys-J1wuCt0Lu"
      }
    },
    {
      "cell_type": "code",
      "source": [
        "import re\n",
        "from pyspark.sql.functions import udf, col, when, lower, trim\n",
        "from pyspark.sql.types import StringType, BooleanType\n",
        "\n",
        "# 1) UDF que normaliza un string a la etiqueta de categoría\n",
        "def map_edu_level(s):\n",
        "    if s is None:\n",
        "        return None\n",
        "    x = s.strip().lower()\n",
        "    # descartar “no sabe”\n",
        "    if \"no sabe\" in x:\n",
        "        return None\n",
        "    # NINGUNA\n",
        "    if \"ninguno\" in x or \"no aplica\" in x:\n",
        "        return \"NINGUNA\"\n",
        "    # PRIMARIA\n",
        "    if \"primaria\" in x:\n",
        "        return \"PRIMARIA_COMPLETA\"   if \"completa\" in x else \"PRIMARIA_INCOMPLETA\"\n",
        "    # SECUNDARIA\n",
        "    if \"secundaria\" in x or \"bachillerato\" in x:\n",
        "        return \"SECUNDARIA_COMPLETA\"   if \"completa\" in x else \"SECUNDARIA_INCOMPLETA\"\n",
        "    # PREGRADO (educación profesional)\n",
        "    if \"educación profesional\" in x:\n",
        "        return \"PREGRADO_COMPLETO\"     if \"completa\" in x else \"PREGRADO_INCOMPLETO\"\n",
        "    # TECNICO / TECNOLOGIA\n",
        "    if \"técnica\" in x or \"tecnológica\" in x:\n",
        "        return \"TECNICO_O_TECNOLOGIA_COMPLETA\"   if \"completa\" in x else \"TECNICO_O_TECNOLOGIA_INCOMPLETA\"\n",
        "    # POSTGRADO\n",
        "    if \"postgrado\" in x:\n",
        "        return \"POSTGRADO\"\n",
        "    return None\n",
        "\n",
        "map_edu_udf = udf(map_edu_level, StringType())\n",
        "\n",
        "# 2) Filtrar filas con “No sabe” en madre o padre\n",
        "df05_Icf = df04_Icf \\\n",
        "    .filter(lower(col(\"FAMI_EDUCACIONMADRE\")).isNotNull()) \\\n",
        "    .filter(lower(col(\"FAMI_EDUCACIONPADRE\")).isNotNull()) \\\n",
        "    .filter(~lower(col(\"FAMI_EDUCACIONMADRE\")).like(\"%no sabe%\")) \\\n",
        "    .filter(~lower(col(\"FAMI_EDUCACIONPADRE\")).like(\"%no sabe%\"))\n",
        "\n",
        "# 3) Crear columnas intermedias con la categoría normalizada\n",
        "df05_Icf = df05_Icf \\\n",
        "    .withColumn(\"madre_cat\", map_edu_udf(col(\"FAMI_EDUCACIONMADRE\"))) \\\n",
        "    .withColumn(\"padre_cat\", map_edu_udf(col(\"FAMI_EDUCACIONPADRE\")))\n",
        "\n",
        "# 4) Lista de categorías\n",
        "categories = [\n",
        "    \"PRIMARIA_COMPLETA\",\n",
        "    \"PRIMARIA_INCOMPLETA\",\n",
        "    \"SECUNDARIA_COMPLETA\",\n",
        "    \"SECUNDARIA_INCOMPLETA\",\n",
        "    \"PREGRADO_COMPLETO\",\n",
        "    \"PREGRADO_INCOMPLETO\",\n",
        "    \"TECNICO_O_TECNOLOGIA_COMPLETA\",\n",
        "    \"TECNICO_O_TECNOLOGIA_INCOMPLETA\",\n",
        "    \"POSTGRADO\",\n",
        "    \"NINGUNA\"\n",
        "]\n",
        "\n",
        "# 5) One-hot encoding para madre_cat y padre_cat\n",
        "for role in [\"madre\", \"padre\"]:\n",
        "    for cat in categories:\n",
        "        df05_Icf = df05_Icf.withColumn(\n",
        "            f\"{role}_{cat}\",\n",
        "            when(col(f\"{role}_cat\") == cat, 1).otherwise(0).cast(BooleanType())\n",
        "        )\n",
        "\n",
        "# 6) (Opcional) eliminar las columnas originales y las intermedias\n",
        "df05_Icf = df05_Icf.drop(\n",
        "    \"FAMI_EDUCACIONMADRE\",\n",
        "    \"FAMI_EDUCACIONPADRE\",\n",
        "    \"padre_cat\",\n",
        "    \"madre_cat\"\n",
        ")\n",
        "\n",
        "# 7) Verificación rápida\n",
        "df05_Icf.select([c for c in df05_Icf.columns if c.startswith(\"madre_\") or c.startswith(\"padre_\")]) \\\n",
        "         .show(5, truncate=False)\n"
      ],
      "metadata": {
        "colab": {
          "base_uri": "https://localhost:8080/"
        },
        "id": "NO2Ij-7I0DrD",
        "outputId": "e201edf7-bec6-460c-e43f-296fce5ed311"
      },
      "execution_count": 115,
      "outputs": [
        {
          "output_type": "stream",
          "name": "stdout",
          "text": [
            "+-----------------------+-------------------------+-------------------------+---------------------------+-----------------------+-------------------------+-----------------------------------+-------------------------------------+---------------+-------------+-----------------------+-------------------------+-------------------------+---------------------------+-----------------------+-------------------------+-----------------------------------+-------------------------------------+---------------+-------------+\n",
            "|madre_PRIMARIA_COMPLETA|madre_PRIMARIA_INCOMPLETA|madre_SECUNDARIA_COMPLETA|madre_SECUNDARIA_INCOMPLETA|madre_PREGRADO_COMPLETO|madre_PREGRADO_INCOMPLETO|madre_TECNICO_O_TECNOLOGIA_COMPLETA|madre_TECNICO_O_TECNOLOGIA_INCOMPLETA|madre_POSTGRADO|madre_NINGUNA|padre_PRIMARIA_COMPLETA|padre_PRIMARIA_INCOMPLETA|padre_SECUNDARIA_COMPLETA|padre_SECUNDARIA_INCOMPLETA|padre_PREGRADO_COMPLETO|padre_PREGRADO_INCOMPLETO|padre_TECNICO_O_TECNOLOGIA_COMPLETA|padre_TECNICO_O_TECNOLOGIA_INCOMPLETA|padre_POSTGRADO|padre_NINGUNA|\n",
            "+-----------------------+-------------------------+-------------------------+---------------------------+-----------------------+-------------------------+-----------------------------------+-------------------------------------+---------------+-------------+-----------------------+-------------------------+-------------------------+---------------------------+-----------------------+-------------------------+-----------------------------------+-------------------------------------+---------------+-------------+\n",
            "|false                  |false                    |true                     |false                      |false                  |false                    |false                              |false                                |false          |false        |false                  |false                    |true                     |false                      |false                  |false                    |false                              |false                                |false          |false        |\n",
            "|false                  |false                    |true                     |false                      |false                  |false                    |false                              |false                                |false          |false        |true                   |false                    |false                    |false                      |false                  |false                    |false                              |false                                |false          |false        |\n",
            "|true                   |false                    |false                    |false                      |false                  |false                    |false                              |false                                |false          |false        |true                   |false                    |false                    |false                      |false                  |false                    |false                              |false                                |false          |false        |\n",
            "|false                  |false                    |false                    |false                      |false                  |false                    |true                               |false                                |false          |false        |false                  |false                    |true                     |false                      |false                  |false                    |false                              |false                                |false          |false        |\n",
            "|true                   |false                    |false                    |false                      |false                  |false                    |false                              |false                                |false          |false        |false                  |false                    |true                     |false                      |false                  |false                    |false                              |false                                |false          |false        |\n",
            "+-----------------------+-------------------------+-------------------------+---------------------------+-----------------------+-------------------------+-----------------------------------+-------------------------------------+---------------+-------------+-----------------------+-------------------------+-------------------------+---------------------------+-----------------------+-------------------------+-----------------------------------+-------------------------------------+---------------+-------------+\n",
            "only showing top 5 rows\n",
            "\n"
          ]
        }
      ]
    },
    {
      "cell_type": "markdown",
      "source": [
        "Transformamos las variables de educación de los padres realizando un one-hot encoding de las columnas:\n",
        "\n",
        "    \"FAMI_EDUCACIONMADRE\",\n",
        "    \"FAMI_EDUCACIONPADRE\"\n",
        "\n",
        "(Primaria completa/incompleta, Secundaria completa/incompleta, Pregrado completo/incompleto, Técnico o tecnología completa/incompleta, Postgrado y Ninguna) en 20 indicadores binarios y eliminamos las filas con “No sabe” para asegurar la limpieza de datos; este cambio convierte información cualitativa en variables numéricas directamente utilizables en análisis y modelos predictivos, reduce la complejidad de texto libre y permite capturar de forma independiente cada nivel educativo, mejorando la comparabilidad y la robustez de la tabla."
      ],
      "metadata": {
        "id": "q8HCM8cu2JI5"
      }
    },
    {
      "cell_type": "code",
      "source": [
        "df05_Icf = df05_Icf.withColumnRenamed(\"AÑOS\", \"AÑO\")"
      ],
      "metadata": {
        "id": "jKOe0W79QjQT"
      },
      "execution_count": 187,
      "outputs": []
    },
    {
      "cell_type": "code",
      "source": [
        "from os import truncate\n",
        "# df05_Icf.select(\"AÑO\").distinct().show(truncate=False)\n",
        "df05_Icf.show(5)"
      ],
      "metadata": {
        "colab": {
          "base_uri": "https://localhost:8080/"
        },
        "id": "IWnU4CAemLky",
        "outputId": "8134f54e-20d9-47ae-b61b-7c5a751b20cd"
      },
      "execution_count": 190,
      "outputs": [
        {
          "output_type": "stream",
          "name": "stdout",
          "text": [
            "+------------------+-------------------+-------------+---------------+-----------------+------------------------+--------------------+-----------+------------+--------------------+---------------+---------------------------+--------------------+-------------------+-----------------------+-----------------+------------------------+---------------+--------------------+-----------+-----------------------+-----------------+-----------------+----------------+---------------------+-----------------+--------------------+------------------+-------------------+--------------------+------------------+------------------+-------------+-----------+----------------+------------------------+----------------+--------------------+-----------+----+----------+-----------------------+-------------------------+-------------------------+---------------------------+-----------------------+-------------------------+-----------------------------------+-------------------------------------+---------------+-------------+-----------------------+-------------------------+-------------------------+---------------------------+-----------------------+-------------------------+-----------------------------------+-------------------------------------+---------------+-------------+\n",
            "|ESTU_TIPODOCUMENTO|COLE_AREA_UBICACION|COLE_BILINGUE|COLE_CALENDARIO|    COLE_CARACTER|COLE_COD_MCPIO_UBICACION|COLE_DEPTO_UBICACION|COLE_GENERO|COLE_JORNADA|COLE_MCPIO_UBICACION|COLE_NATURALEZA|COLE_NOMBRE_ESTABLECIMIENTO|    COLE_NOMBRE_SEDE|COLE_SEDE_PRINCIPAL|ESTU_DEPTO_PRESENTACION|ESTU_DEPTO_RESIDE|ESTU_ESTADOINVESTIGACION|ESTU_ESTUDIANTE|ESTU_FECHANACIMIENTO|ESTU_GENERO|ESTU_MCPIO_PRESENTACION|ESTU_MCPIO_RESIDE|ESTU_NACIONALIDAD|ESTU_PAIS_RESIDE|ESTU_PRIVADO_LIBERTAD|FAMI_CUARTOSHOGAR|FAMI_ESTRATOVIVIENDA|FAMI_PERSONASHOGAR|FAMI_TIENEAUTOMOVIL|FAMI_TIENECOMPUTADOR|FAMI_TIENEINTERNET|FAMI_TIENELAVADORA|DESEMP_INGLES|PUNT_INGLES|PUNT_MATEMATICAS|PUNT_SOCIALES_CIUDADANAS|PUNT_C_NATURALES|PUNT_LECTURA_CRITICA|PUNT_GLOBAL| AÑO|TRIMESTRES|madre_PRIMARIA_COMPLETA|madre_PRIMARIA_INCOMPLETA|madre_SECUNDARIA_COMPLETA|madre_SECUNDARIA_INCOMPLETA|madre_PREGRADO_COMPLETO|madre_PREGRADO_INCOMPLETO|madre_TECNICO_O_TECNOLOGIA_COMPLETA|madre_TECNICO_O_TECNOLOGIA_INCOMPLETA|madre_POSTGRADO|madre_NINGUNA|padre_PRIMARIA_COMPLETA|padre_PRIMARIA_INCOMPLETA|padre_SECUNDARIA_COMPLETA|padre_SECUNDARIA_INCOMPLETA|padre_PREGRADO_COMPLETO|padre_PREGRADO_INCOMPLETO|padre_TECNICO_O_TECNOLOGIA_COMPLETA|padre_TECNICO_O_TECNOLOGIA_INCOMPLETA|padre_POSTGRADO|padre_NINGUNA|\n",
            "+------------------+-------------------+-------------+---------------+-----------------+------------------------+--------------------+-----------+------------+--------------------+---------------+---------------------------+--------------------+-------------------+-----------------------+-----------------+------------------------+---------------+--------------------+-----------+-----------------------+-----------------+-----------------+----------------+---------------------+-----------------+--------------------+------------------+-------------------+--------------------+------------------+------------------+-------------+-----------+----------------+------------------------+----------------+--------------------+-----------+----+----------+-----------------------+-------------------------+-------------------------+---------------------------+-----------------------+-------------------------+-----------------------------------+-------------------------------------+---------------+-------------+-----------------------+-------------------------+-------------------------+---------------------------+-----------------------+-------------------------+-----------------------------------+-------------------------------------+---------------+-------------+\n",
            "|                TI|             URBANO|        false|              A|TÉCNICO/ACADÉMICO|                   76001|               VALLE|      MIXTO|      MAÑANA|                CALI|        OFICIAL|       INSTITUCION EDUCA...|72/01 INSTITUCION...|               true|                  VALLE|            VALLE|                PUBLICAR|     ESTUDIANTE|          27/07/2000|          M|                   CALI|             CALI|         COLOMBIA|        COLOMBIA|                false|              4.0|                 5.0|               5.0|               true|                true|              true|              true|           A2|         59|              57|                      46|              57|                  57|        272|2016|         2|                  false|                    false|                     true|                      false|                  false|                    false|                              false|                                false|          false|        false|                  false|                    false|                     true|                      false|                  false|                    false|                              false|                                false|          false|        false|\n",
            "|                TI|             URBANO|        false|              A|TÉCNICO/ACADÉMICO|                    5001|           ANTIOQUIA|      MIXTO|    SABATINA|            MEDELLIN|     NO OFICIAL|       COL COOP SAN ANTO...|COL COOP SAN ANTO...|               true|              ANTIOQUIA|        ANTIOQUIA|                PUBLICAR|     ESTUDIANTE|          07/12/1999|          F|                 ITAGÜÍ|         MEDELLÍN|         COLOMBIA|        COLOMBIA|                false|              5.0|                 2.0|               5.5|              false|               false|              true|              true|           A-|         44|              53|                      54|              44|                  54|        253|2017|         2|                  false|                    false|                     true|                      false|                  false|                    false|                              false|                                false|          false|        false|                   true|                    false|                    false|                      false|                  false|                    false|                              false|                                false|          false|        false|\n",
            "|                TI|             URBANO|        false|              A|TÉCNICO/ACADÉMICO|                   47555|           MAGDALENA|      MIXTO|      MAÑANA|               PLATO|        OFICIAL|       INSTITUCION EDUCA...|COL BTO GABRIEL E...|               true|              MAGDALENA|        MAGDALENA|                PUBLICAR|     ESTUDIANTE|          07/09/1998|          M|                  PLATO|            PLATO|         COLOMBIA|        COLOMBIA|                false|              3.0|                 1.0|               4.0|              false|               false|             false|              true|           A-|         32|              56|                      56|              51|                  56|        265|2016|         2|                   true|                    false|                    false|                      false|                  false|                    false|                              false|                                false|          false|        false|                   true|                    false|                    false|                      false|                  false|                    false|                              false|                                false|          false|        false|\n",
            "|                TI|             URBANO|        false|              A|          TÉCNICO|                    5001|           ANTIOQUIA|      MIXTO|    COMPLETA|            MEDELLIN|     NO OFICIAL|        COL DIVINO SALVADOR| COL DIVINO SALVADOR|               true|              ANTIOQUIA|        ANTIOQUIA|                PUBLICAR|     ESTUDIANTE|          20/11/1999|          M|               MEDELLÍN|         MEDELLÍN|         COLOMBIA|        COLOMBIA|                false|              3.0|                 3.0|               4.0|              false|                true|              true|              true|           B1|         75|              71|                      73|              68|                  68|        352|2016|         2|                  false|                    false|                    false|                      false|                  false|                    false|                               true|                                false|          false|        false|                  false|                    false|                     true|                      false|                  false|                    false|                              false|                                false|          false|        false|\n",
            "|                TI|             URBANO|        false|              A|          TÉCNICO|                   13188|             BOLIVAR|      MIXTO|      MAÑANA|              CICUCO|        OFICIAL|       INSTITUCIÓN EDUCA...|I.E.T. AGROAMBIEN...|               true|                BOLIVAR|          BOLIVAR|                PUBLICAR|     ESTUDIANTE|          27/07/1998|          F|                 MOMPÓS|           CICUCO|         COLOMBIA|        COLOMBIA|                false|              2.0|                 1.0|               5.0|              false|               false|             false|             false|           A-|         44|              47|                      44|              51|                  44|        232|2015|         2|                   true|                    false|                    false|                      false|                  false|                    false|                              false|                                false|          false|        false|                  false|                    false|                     true|                      false|                  false|                    false|                              false|                                false|          false|        false|\n",
            "+------------------+-------------------+-------------+---------------+-----------------+------------------------+--------------------+-----------+------------+--------------------+---------------+---------------------------+--------------------+-------------------+-----------------------+-----------------+------------------------+---------------+--------------------+-----------+-----------------------+-----------------+-----------------+----------------+---------------------+-----------------+--------------------+------------------+-------------------+--------------------+------------------+------------------+-------------+-----------+----------------+------------------------+----------------+--------------------+-----------+----+----------+-----------------------+-------------------------+-------------------------+---------------------------+-----------------------+-------------------------+-----------------------------------+-------------------------------------+---------------+-------------+-----------------------+-------------------------+-------------------------+---------------------------+-----------------------+-------------------------+-----------------------------------+-------------------------------------+---------------+-------------+\n",
            "only showing top 5 rows\n",
            "\n"
          ]
        }
      ]
    },
    {
      "cell_type": "code",
      "source": [
        "df05_Icf.count()"
      ],
      "metadata": {
        "id": "Ppv2KE5Brn-A",
        "colab": {
          "base_uri": "https://localhost:8080/"
        },
        "outputId": "e8bb3d10-ce7e-4885-81b9-5d731736bf96"
      },
      "execution_count": 120,
      "outputs": [
        {
          "output_type": "execute_result",
          "data": {
            "text/plain": [
              "1374127"
            ]
          },
          "metadata": {},
          "execution_count": 120
        }
      ]
    },
    {
      "cell_type": "markdown",
      "source": [
        "## df00_Int --> df04_Int"
      ],
      "metadata": {
        "id": "-3owmbCQ31fH"
      }
    },
    {
      "cell_type": "code",
      "source": [
        "from pyspark.sql.types import NumericType\n",
        "\n",
        "# 1. Detecta todas las columnas cuyo tipo sea numérico\n",
        "numeric_cols_icf = [\n",
        "    field.name\n",
        "    for field in df00_Int.schema.fields\n",
        "    if isinstance(field.dataType, NumericType)\n",
        "]\n",
        "\n",
        "print(\"Columnas numéricas detectadas:\", numeric_cols_icf)\n",
        "\n",
        "# 2. Selecciona sólo esas columnas\n",
        "numeric_df_icf = df00_Int.select(numeric_cols_icf)\n",
        "\n",
        "# 3. Muestra un resumen estadístico\n",
        "numeric_df_icf.describe().show()\n",
        "\n",
        "# 4. (Opcional) Convierte a pandas y calcula matriz de correlación\n",
        "#    ¡OJO! Sólo si cabe en memoria local.\n",
        "pdf_icf = numeric_df_icf.toPandas()\n",
        "corr_matrix = pdf_icf.corr()\n",
        "print(corr_matrix)"
      ],
      "metadata": {
        "colab": {
          "base_uri": "https://localhost:8080/"
        },
        "id": "pURzqJTH34nR",
        "outputId": "185b0595-b317-4580-f3a3-f20f21083c54"
      },
      "execution_count": 124,
      "outputs": [
        {
          "output_type": "stream",
          "name": "stdout",
          "text": [
            "Columnas numéricas detectadas: ['AÑO', 'TRIMESTRE', 'COD_DEPARTAMENTO', 'COD_MUNICIPIO', 'ACESSO_FIJO_INTERNET', 'POBLACIÓN DANE', 'INDICE']\n",
            "+-------+------------------+------------------+------------------+------------------+--------------------+------------------+-----------------+\n",
            "|summary|               AÑO|         TRIMESTRE|  COD_DEPARTAMENTO|     COD_MUNICIPIO|ACESSO_FIJO_INTERNET|    POBLACIÓN DANE|           INDICE|\n",
            "+-------+------------------+------------------+------------------+------------------+--------------------+------------------+-----------------+\n",
            "|  count|             35578|             35578|             35578|             35578|               35578|             35578|            35578|\n",
            "|   mean|2019.2601326662543|2.5000843217718813|37.779920175389286|38211.710354713585|   6633.804766990837| 44491.30788689639|4.498820057338791|\n",
            "| stddev|2.3311547789013436|1.1178485582544055| 26.17113628351531| 26152.92116560164|   67065.73359861718|261170.14884452784|5.976250890367004|\n",
            "|    min|              2015|                 1|                 5|              5001|                   1|               262|              0.0|\n",
            "|    max|              2023|                 4|                99|             99773|             2638171|           7907281|           122.03|\n",
            "+-------+------------------+------------------+------------------+------------------+--------------------+------------------+-----------------+\n",
            "\n",
            "                           AÑO  TRIMESTRE  COD_DEPARTAMENTO  COD_MUNICIPIO  \\\n",
            "AÑO                   1.000000  -0.143840          0.009257       0.009308   \n",
            "TRIMESTRE            -0.143840   1.000000          0.000142       0.000139   \n",
            "COD_DEPARTAMENTO      0.009257   0.000142          1.000000       0.999949   \n",
            "COD_MUNICIPIO         0.009308   0.000139          0.999949       1.000000   \n",
            "ACESSO_FIJO_INTERNET  0.013632  -0.001968         -0.031325      -0.032455   \n",
            "POBLACIÓN DANE        0.005841  -0.000864         -0.027889      -0.029127   \n",
            "INDICE                0.165865  -0.009138         -0.109336      -0.110631   \n",
            "\n",
            "                      ACESSO_FIJO_INTERNET  POBLACIÓN DANE    INDICE  \n",
            "AÑO                               0.013632        0.005841  0.165865  \n",
            "TRIMESTRE                        -0.001968       -0.000864 -0.009138  \n",
            "COD_DEPARTAMENTO                 -0.031325       -0.027889 -0.109336  \n",
            "COD_MUNICIPIO                    -0.032455       -0.029127 -0.110631  \n",
            "ACESSO_FIJO_INTERNET              1.000000        0.987775  0.281195  \n",
            "POBLACIÓN DANE                    0.987775        1.000000  0.296791  \n",
            "INDICE                            0.281195        0.296791  1.000000  \n"
          ]
        }
      ]
    },
    {
      "cell_type": "code",
      "source": [
        "df01_Int = df00_Int.drop(\"COD_MUNICIPIO\")\n",
        "print(\"Columnas tras paso 1:\", df00_Int.columns)"
      ],
      "metadata": {
        "colab": {
          "base_uri": "https://localhost:8080/"
        },
        "id": "8-sqnPZm5Tgt",
        "outputId": "c5ed913a-51f3-4a7b-9f4f-ead6fd3875f8"
      },
      "execution_count": 125,
      "outputs": [
        {
          "output_type": "stream",
          "name": "stdout",
          "text": [
            "Columnas tras paso 1: ['AÑO', 'TRIMESTRE', 'COD_DEPARTAMENTO', 'DEPARTAMENTO', 'COD_MUNICIPIO', 'MUNICIPIO', 'ACESSO_FIJO_INTERNET', 'POBLACIÓN DANE', 'INDICE']\n"
          ]
        }
      ]
    },
    {
      "cell_type": "markdown",
      "source": [
        "Eliminamos `COD_MUNICIPIO` porque estaba casi idéntico a `COD_DEPARTAMENTO`, reduciendo la multicolinealidad."
      ],
      "metadata": {
        "id": "TvnlPLuu5Y5h"
      }
    },
    {
      "cell_type": "code",
      "source": [
        "df02_Int = df01_Int \\\n",
        "    .withColumn(\n",
        "        \"PENETRACIÓN_INTERNET\",\n",
        "        col(\"ACESSO_FIJO_INTERNET\") / col(\"POBLACIÓN DANE\")\n",
        "    ) \\\n",
        "    .drop(\"ACESSO_FIJO_INTERNET\")\n",
        "print(\"Columnas tras paso 2:\", df02_Int.columns)"
      ],
      "metadata": {
        "colab": {
          "base_uri": "https://localhost:8080/"
        },
        "id": "-uIhtV_o5env",
        "outputId": "5fde6727-5d7b-4905-bc03-5af7b4ff4edc"
      },
      "execution_count": 126,
      "outputs": [
        {
          "output_type": "stream",
          "name": "stdout",
          "text": [
            "Columnas tras paso 2: ['AÑO', 'TRIMESTRE', 'COD_DEPARTAMENTO', 'DEPARTAMENTO', 'MUNICIPIO', 'POBLACIÓN DANE', 'INDICE', 'PENETRACIÓN_INTERNET']\n"
          ]
        }
      ]
    },
    {
      "cell_type": "markdown",
      "source": [
        "creamos la columna `PENETRACIÓN_INTERNET` (`ACESSO_FIJO_INTERNET` dividido por `POBLACIÓN DANE`) y quitamos el conteo bruto de accesos para normalizar el indicador y hacerlo comparable entre municipios de distinto tamaño."
      ],
      "metadata": {
        "id": "41dQTZRC565m"
      }
    },
    {
      "cell_type": "code",
      "source": [
        "df03_Int = df02_Int.drop(\"TRIMESTRE\")\n",
        "print(\"Columnas tras paso 3:\", df03_Int.columns)"
      ],
      "metadata": {
        "colab": {
          "base_uri": "https://localhost:8080/"
        },
        "id": "1LoDavjg5yMR",
        "outputId": "26b32f67-5356-4d72-9719-d87422c3154e"
      },
      "execution_count": 127,
      "outputs": [
        {
          "output_type": "stream",
          "name": "stdout",
          "text": [
            "Columnas tras paso 3: ['AÑO', 'COD_DEPARTAMENTO', 'DEPARTAMENTO', 'MUNICIPIO', 'POBLACIÓN DANE', 'INDICE', 'PENETRACIÓN_INTERNET']\n"
          ]
        }
      ]
    },
    {
      "cell_type": "markdown",
      "source": [
        "descartamos `TRIMESTRE` al mostrar prácticamente cero correlación con el índice, quedándonos sólo con `AÑO`, `POBLACIÓN DANE`, `ÍNDICE` y `PENETRACIÓN_INTERNET`"
      ],
      "metadata": {
        "id": "LW94mF0I6TK_"
      }
    },
    {
      "cell_type": "code",
      "source": [
        "df04_Int = (\n",
        "    df03_Int\n",
        "    .filter( (col(\"AÑO\") >= 2015) & (col(\"AÑO\") <= 2018) )\n",
        ")"
      ],
      "metadata": {
        "id": "XeDhuSSALvg1"
      },
      "execution_count": 168,
      "outputs": []
    },
    {
      "cell_type": "markdown",
      "source": [
        "Solo vamos a tomar años de 2015 al 2018 ya que son los años en comun entre los tres datasets"
      ],
      "metadata": {
        "id": "oe-s2RJAL2dz"
      }
    },
    {
      "cell_type": "code",
      "source": [
        "df04_Int.groupBy(\"AÑO\") \\\n",
        "    .count() \\\n",
        "    .orderBy(\"AÑO\") \\\n",
        "    .show()"
      ],
      "metadata": {
        "colab": {
          "base_uri": "https://localhost:8080/"
        },
        "id": "Z8Ws4-n3MJhX",
        "outputId": "9de843dc-92e7-4620-a96a-e91a046a1710"
      },
      "execution_count": 169,
      "outputs": [
        {
          "output_type": "stream",
          "name": "stdout",
          "text": [
            "+----+-----+\n",
            "| AÑO|count|\n",
            "+----+-----+\n",
            "|2015| 1104|\n",
            "|2016| 4421|\n",
            "|2017| 4420|\n",
            "|2018| 4433|\n",
            "+----+-----+\n",
            "\n"
          ]
        }
      ]
    },
    {
      "cell_type": "code",
      "source": [
        "df04_Int.show(5)"
      ],
      "metadata": {
        "colab": {
          "base_uri": "https://localhost:8080/"
        },
        "id": "KAKxktssLdO0",
        "outputId": "886a8459-8a19-4e3a-bef5-6fe77e5d3552"
      },
      "execution_count": 166,
      "outputs": [
        {
          "output_type": "stream",
          "name": "stdout",
          "text": [
            "+----+----------------+------------+-------------+--------------+------+--------------------+\n",
            "| AÑO|COD_DEPARTAMENTO|DEPARTAMENTO|    MUNICIPIO|POBLACIÓN DANE|INDICE|PENETRACIÓN_INTERNET|\n",
            "+----+----------------+------------+-------------+--------------+------+--------------------+\n",
            "|2016|              50|        META|     RESTREPO|         17648|  2.78|0.027765185856754308|\n",
            "|2016|              15|      BOYACÁ|     PAJARITO|          2395|   1.8|0.017954070981210855|\n",
            "|2020|              25|CUNDINAMARCA|      NIMAIMA|          3808|  1.13|0.011292016806722689|\n",
            "|2020|              73|      TOLIMA|     AMBALEMA|          6752|  0.56|0.005627962085308057|\n",
            "|2017|               5|   ANTIOQUIA|SANTO DOMINGO|         12426|  2.71|0.027120553677772413|\n",
            "+----+----------------+------------+-------------+--------------+------+--------------------+\n",
            "only showing top 5 rows\n",
            "\n"
          ]
        }
      ]
    },
    {
      "cell_type": "code",
      "source": [
        "df04_Int.count()"
      ],
      "metadata": {
        "colab": {
          "base_uri": "https://localhost:8080/"
        },
        "id": "RkmgWMFIDtBH",
        "outputId": "9f7771e4-2188-4067-d389-c8c1c474a081"
      },
      "execution_count": 171,
      "outputs": [
        {
          "output_type": "execute_result",
          "data": {
            "text/plain": [
              "14378"
            ]
          },
          "metadata": {},
          "execution_count": 171
        }
      ]
    },
    {
      "cell_type": "markdown",
      "source": [
        "## df00_Inv --> df06_Inv"
      ],
      "metadata": {
        "id": "vZyqjKkA6sj6"
      }
    },
    {
      "cell_type": "code",
      "source": [
        "from pyspark.sql.types import NumericType\n",
        "\n",
        "# 1. Detecta todas las columnas cuyo tipo sea numérico\n",
        "numeric_cols_icf = [\n",
        "    field.name\n",
        "    for field in df00_Inv.schema.fields\n",
        "    if isinstance(field.dataType, NumericType)\n",
        "]\n",
        "\n",
        "print(\"Columnas numéricas detectadas:\", numeric_cols_icf)\n",
        "\n",
        "# 2. Selecciona sólo esas columnas\n",
        "numeric_df_icf = df00_Inv.select(numeric_cols_icf)\n",
        "\n",
        "# 3. Muestra un resumen estadístico\n",
        "numeric_df_icf.describe().show()\n",
        "\n",
        "# 4. (Opcional) Convierte a pandas y calcula matriz de correlación\n",
        "#    ¡OJO! Sólo si cabe en memoria local.\n",
        "pdf_icf = numeric_df_icf.toPandas()\n",
        "corr_matrix = pdf_icf.corr()\n",
        "print(corr_matrix)"
      ],
      "metadata": {
        "colab": {
          "base_uri": "https://localhost:8080/"
        },
        "id": "RtX8BSe06uzy",
        "outputId": "5365c95e-0590-4760-b426-117bfb9304f3"
      },
      "execution_count": 128,
      "outputs": [
        {
          "output_type": "stream",
          "name": "stdout",
          "text": [
            "Columnas numéricas detectadas: ['TotalPersonasSencibilizadas', 'COD DANE INST EDUC', 'MUNICIPIO_COD', 'ID INDICADOR', 'INVERSION_TOTAL', 'META_NACIONAL']\n",
            "+-------+---------------------------+--------------------+-----------------+-----------------+------------------+-----------------+\n",
            "|summary|TotalPersonasSencibilizadas|  COD DANE INST EDUC|    MUNICIPIO_COD|     ID INDICADOR|   INVERSION_TOTAL|    META_NACIONAL|\n",
            "+-------+---------------------------+--------------------+-----------------+-----------------+------------------+-----------------+\n",
            "|  count|                       6682|                6682|             6682|             6682|              6682|             6682|\n",
            "|   mean|          82.25875486381322|1.849766306551863E11| 38734.2499251721|4210.358575276863|2554394.8951675864|77184.22627955701|\n",
            "| stddev|         217.69551480684436|1.021769097520962...|26681.74219742981|1629.713745940243| 3734024.891476186|80447.63359386739|\n",
            "|    min|                          1|                   0|             5001|             2344|          14560.68|            18300|\n",
            "|    max|                       4157|        708000090327|            99524|             8046|        7.543388E7|           265000|\n",
            "+-------+---------------------------+--------------------+-----------------+-----------------+------------------+-----------------+\n",
            "\n",
            "                             TotalPersonasSencibilizadas  COD DANE INST EDUC  \\\n",
            "TotalPersonasSencibilizadas                     1.000000           -0.118923   \n",
            "COD DANE INST EDUC                             -0.118923            1.000000   \n",
            "MUNICIPIO_COD                                   0.006299            0.194842   \n",
            "ID INDICADOR                                    0.259392           -0.467708   \n",
            "INVERSION_TOTAL                                 0.867513           -0.074821   \n",
            "META_NACIONAL                                   0.388408            0.006470   \n",
            "\n",
            "                             MUNICIPIO_COD  ID INDICADOR  INVERSION_TOTAL  \\\n",
            "TotalPersonasSencibilizadas       0.006299      0.259392         0.867513   \n",
            "COD DANE INST EDUC                0.194842     -0.467708        -0.074821   \n",
            "MUNICIPIO_COD                     1.000000      0.042075        -0.008790   \n",
            "ID INDICADOR                      0.042075      1.000000         0.042666   \n",
            "INVERSION_TOTAL                  -0.008790      0.042666         1.000000   \n",
            "META_NACIONAL                     0.063634      0.537815         0.146063   \n",
            "\n",
            "                             META_NACIONAL  \n",
            "TotalPersonasSencibilizadas       0.388408  \n",
            "COD DANE INST EDUC                0.006470  \n",
            "MUNICIPIO_COD                     0.063634  \n",
            "ID INDICADOR                      0.537815  \n",
            "INVERSION_TOTAL                   0.146063  \n",
            "META_NACIONAL                     1.000000  \n"
          ]
        }
      ]
    },
    {
      "cell_type": "code",
      "source": [
        "df01_Inv = df00_Inv.drop(\"COD DANE INST EDUC\", \"MUNICIPIO_COD\")\n",
        "print(\"Columnas tras paso 1:\", df01_Inv.columns)"
      ],
      "metadata": {
        "colab": {
          "base_uri": "https://localhost:8080/"
        },
        "id": "9b2MkxA875SI",
        "outputId": "ba560ce4-09a3-446c-ddf4-0b97860df531"
      },
      "execution_count": 130,
      "outputs": [
        {
          "output_type": "stream",
          "name": "stdout",
          "text": [
            "Columnas tras paso 1: ['DEPARTAME_NOMBRE', 'MUNICIPIO_NOMBRE', 'TotalPersonasSencibilizadas', 'FECHA DE CARGUE', 'ID INDICADOR', 'INVERSION_TOTAL', 'FECHA VIGENCIA', 'META_NACIONAL']\n"
          ]
        }
      ]
    },
    {
      "cell_type": "markdown",
      "source": [
        "**Eliminar identificadores:** Tanto `COD DANE INST EDUC` como `MUNICIPIO_COD` son meros códigos con casi cero relación con las otras variables, así que conviene quitarlos para no ensuciar el modelo."
      ],
      "metadata": {
        "id": "5jc0NITi8IFb"
      }
    },
    {
      "cell_type": "code",
      "source": [
        "from pyspark.ml.feature import StringIndexer, OneHotEncoder\n",
        "\n",
        "# Step 2: One-hot encoding de ID INDICADOR\n",
        "# 2.1 Indexar la columna\n",
        "indexer = StringIndexer(inputCol=\"ID INDICADOR\", outputCol=\"id_indicador_idx\")\n",
        "df02_Inv = indexer.fit(df01_Inv).transform(df01_Inv)\n",
        "# 2.2 Aplicar OneHotEncoder\n",
        "encoder = OneHotEncoder(inputCols=[\"id_indicador_idx\"], outputCols=[\"id_indicador_ohe\"], dropLast=False)\n",
        "df03_Inv = encoder.fit(df02_Inv).transform(df02_Inv)\n",
        "\n",
        "df03_Inv = df03_Inv.drop(\"ID INDICADOR\", \"id_indicador_idx\")"
      ],
      "metadata": {
        "id": "PzV-AE6f8CR_"
      },
      "execution_count": 143,
      "outputs": []
    },
    {
      "cell_type": "markdown",
      "source": [
        "**Tratar `ID INDICADOR` como categoría:** Al vincularse con distintos esquemas de metas, es mejor convertirlo en variable categórica (p. ej. one-hot encoding) o usarlo como factor en el análisis."
      ],
      "metadata": {
        "id": "O5kYwFRI98x7"
      }
    },
    {
      "cell_type": "code",
      "source": [
        "df04_Inv = df03_Inv \\\n",
        "    .withColumn(\"INVERSION_POR_PERSONA\", col(\"INVERSION_TOTAL\") / col(\"TotalPersonasSencibilizadas\")) \\\n",
        "    .drop(\"INVERSION_TOTAL\")  # conserva TotalPersonasSencibilizadas + ratio"
      ],
      "metadata": {
        "id": "be8E3J-_Anp2"
      },
      "execution_count": 147,
      "outputs": []
    },
    {
      "cell_type": "markdown",
      "source": [
        "**Evitar multicolinealidad:** `TotalPersonasSencibilizadas` e `INVERSION_TOTAL` van casi de la mano (r≈0.87). Para predecir alguno de ellos, creamos un ratio (`INVERSION_POR_PERSONA`) y eliminamos el otro."
      ],
      "metadata": {
        "id": "nJKlYM59Btes"
      }
    },
    {
      "cell_type": "code",
      "source": [
        "from pyspark.sql.functions import col, log1p\n",
        "\n",
        "df05_Inv = df04_Inv.withColumn(\n",
        "    \"log_inversion_por_persona\",\n",
        "    log1p(col(\"inversion_por_persona\"))\n",
        ")"
      ],
      "metadata": {
        "id": "apLSub54BOB_"
      },
      "execution_count": 151,
      "outputs": []
    },
    {
      "cell_type": "markdown",
      "source": [
        "**Escalado/transformación:** Antes de cualquier modelado, buscamos hacer un log de `INVERSION_TOTAL` y el ratio para suavizar la distribución y mejorar la estabilidad de los coeficientes."
      ],
      "metadata": {
        "id": "amzfbA6BCxo2"
      }
    },
    {
      "cell_type": "code",
      "source": [
        "from pyspark.sql.functions import year, col, when\n",
        "\n",
        "df06_Inv = (\n",
        "    df05_Inv\n",
        "      # 1) Extrae año de ambas fechas\n",
        "      .withColumn(\"anio_cargue\",   year(col(\"FECHA DE CARGUE\")))\n",
        "      .withColumn(\"anio_vigencia\", year(col(\"FECHA VIGENCIA\")))\n",
        "      # 2) Define AÑO: si coinciden, usa anio_cargue; si no, usa anio_vigencia\n",
        "      .withColumn(\n",
        "          \"AÑO\",\n",
        "          when(col(\"anio_cargue\") == col(\"anio_vigencia\"),\n",
        "               col(\"anio_cargue\")\n",
        "          ).otherwise(col(\"anio_vigencia\"))\n",
        "      )\n",
        "      # 3) Filtra para quedarte solo con años entre 2015 y 2018\n",
        "      .filter((col(\"AÑO\") >= 2015) & (col(\"AÑO\") <= 2018))\n",
        "      # 4) Elimina columnas de fecha y temporales\n",
        "      .drop(\"FECHA DE CARGUE\", \"FECHA VIGENCIA\", \"anio_cargue\", \"anio_vigencia\")\n",
        ")\n",
        "\n",
        "# Verifica los años que quedaron\n",
        "df06_Inv.select(\"AÑO\").distinct().orderBy(\"AÑO\").show()"
      ],
      "metadata": {
        "colab": {
          "base_uri": "https://localhost:8080/"
        },
        "id": "nQy6rDt-Mhnw",
        "outputId": "3052057d-632e-4d54-e3c5-91f03f16428f"
      },
      "execution_count": 179,
      "outputs": [
        {
          "output_type": "stream",
          "name": "stdout",
          "text": [
            "+----+\n",
            "| AÑO|\n",
            "+----+\n",
            "|2015|\n",
            "|2016|\n",
            "|2017|\n",
            "|2018|\n",
            "+----+\n",
            "\n"
          ]
        }
      ]
    },
    {
      "cell_type": "markdown",
      "source": [
        "Eliminamos los años fuera del rango de (2015-2018) y revisamos si `FECHA DE CARGUE` y `FECHA VIGENCIA` son iguales y dejamos solo el año en caso de que no solo dejamos el año de vigencia"
      ],
      "metadata": {
        "id": "IEJKPqViOlLf"
      }
    },
    {
      "cell_type": "code",
      "source": [
        "renames = {\n",
        "    \"DEPARTAME_NOMBRE\": \"DEPARTAMENTO\",\n",
        "    \"MUNICIPIO_NOMBRE\":   \"MUNICIPIO\",\n",
        "}\n",
        "\n",
        "df06_Inv = df06_Inv\n",
        "for old_name, new_name in renames.items():\n",
        "    df06_Inv = df06_Inv.withColumnRenamed(old_name, new_name)"
      ],
      "metadata": {
        "id": "0Txwunj8PTRi"
      },
      "execution_count": 186,
      "outputs": []
    },
    {
      "cell_type": "code",
      "source": [
        "df06_Inv.show(5)"
      ],
      "metadata": {
        "colab": {
          "base_uri": "https://localhost:8080/"
        },
        "id": "6tgZ8uY6Mn9P",
        "outputId": "b68b3888-e68c-45f1-8aff-ec1db7d959dd"
      },
      "execution_count": 185,
      "outputs": [
        {
          "output_type": "stream",
          "name": "stdout",
          "text": [
            "+---------------+---------+---------------------------+-------------+----------------+---------------------+-------------------------+----+\n",
            "|   DEPARTAMENTO|MUNICIPIO|TotalPersonasSencibilizadas|META_NACIONAL|id_indicador_ohe|INVERSION_POR_PERSONA|log_inversion_por_persona| AÑO|\n",
            "+---------------+---------+---------------------------+-------------+----------------+---------------------+-------------------------+----+\n",
            "|         TOLIMA|  FLANDES|                         19|        48000|   (6,[0],[1.0])|    88542.36473684211|       11.391247708013143|2016|\n",
            "|         TOLIMA|   IBAGUE|                         41|        34000|   (6,[1],[1.0])|    74237.21243902438|       11.215034289032058|2015|\n",
            "|VALLE DEL CAUCA|  CARTAGO|                         95|        48000|   (6,[0],[1.0])|    88542.36505263158|       11.391247711579638|2016|\n",
            "|          HUILA|     HOBO|                          5|        34000|   (6,[1],[1.0])|            74237.212|       11.215034283118333|2015|\n",
            "|      MAGDALENA|  PIVIJAY|                         18|        34000|   (6,[1],[1.0])|    74237.21222222222|       11.215034286111699|2015|\n",
            "+---------------+---------+---------------------------+-------------+----------------+---------------------+-------------------------+----+\n",
            "only showing top 5 rows\n",
            "\n"
          ]
        }
      ]
    },
    {
      "cell_type": "code",
      "source": [
        "df06_Inv.count()"
      ],
      "metadata": {
        "colab": {
          "base_uri": "https://localhost:8080/"
        },
        "id": "Ynl4sQYw8wnU",
        "outputId": "f0afc223-7f5c-4018-b809-6bcab2f75a92"
      },
      "execution_count": 181,
      "outputs": [
        {
          "output_type": "execute_result",
          "data": {
            "text/plain": [
              "5096"
            ]
          },
          "metadata": {},
          "execution_count": 181
        }
      ]
    },
    {
      "cell_type": "markdown",
      "source": [
        "# Correlación"
      ],
      "metadata": {
        "id": "3YApRuocEppa"
      }
    },
    {
      "cell_type": "code",
      "source": [
        "df05_Icf.show(5)"
      ],
      "metadata": {
        "colab": {
          "base_uri": "https://localhost:8080/"
        },
        "id": "-qd468fxTSLX",
        "outputId": "93040c42-c7ad-4779-e4a8-6e2e8db43eab"
      },
      "execution_count": 200,
      "outputs": [
        {
          "output_type": "stream",
          "name": "stdout",
          "text": [
            "+------------------+-------------------+-------------+---------------+-----------------+------------------------+--------------------+-----------+------------+--------------------+---------------+---------------------------+--------------------+-------------------+-----------------------+-----------------+------------------------+---------------+--------------------+-----------+-----------------------+-----------------+-----------------+----------------+---------------------+-----------------+--------------------+------------------+-------------------+--------------------+------------------+------------------+-------------+-----------+----------------+------------------------+----------------+--------------------+-----------+----+----------+-----------------------+-------------------------+-------------------------+---------------------------+-----------------------+-------------------------+-----------------------------------+-------------------------------------+---------------+-------------+-----------------------+-------------------------+-------------------------+---------------------------+-----------------------+-------------------------+-----------------------------------+-------------------------------------+---------------+-------------+\n",
            "|ESTU_TIPODOCUMENTO|COLE_AREA_UBICACION|COLE_BILINGUE|COLE_CALENDARIO|    COLE_CARACTER|COLE_COD_MCPIO_UBICACION|COLE_DEPTO_UBICACION|COLE_GENERO|COLE_JORNADA|COLE_MCPIO_UBICACION|COLE_NATURALEZA|COLE_NOMBRE_ESTABLECIMIENTO|    COLE_NOMBRE_SEDE|COLE_SEDE_PRINCIPAL|ESTU_DEPTO_PRESENTACION|ESTU_DEPTO_RESIDE|ESTU_ESTADOINVESTIGACION|ESTU_ESTUDIANTE|ESTU_FECHANACIMIENTO|ESTU_GENERO|ESTU_MCPIO_PRESENTACION|ESTU_MCPIO_RESIDE|ESTU_NACIONALIDAD|ESTU_PAIS_RESIDE|ESTU_PRIVADO_LIBERTAD|FAMI_CUARTOSHOGAR|FAMI_ESTRATOVIVIENDA|FAMI_PERSONASHOGAR|FAMI_TIENEAUTOMOVIL|FAMI_TIENECOMPUTADOR|FAMI_TIENEINTERNET|FAMI_TIENELAVADORA|DESEMP_INGLES|PUNT_INGLES|PUNT_MATEMATICAS|PUNT_SOCIALES_CIUDADANAS|PUNT_C_NATURALES|PUNT_LECTURA_CRITICA|PUNT_GLOBAL| AÑO|TRIMESTRES|madre_PRIMARIA_COMPLETA|madre_PRIMARIA_INCOMPLETA|madre_SECUNDARIA_COMPLETA|madre_SECUNDARIA_INCOMPLETA|madre_PREGRADO_COMPLETO|madre_PREGRADO_INCOMPLETO|madre_TECNICO_O_TECNOLOGIA_COMPLETA|madre_TECNICO_O_TECNOLOGIA_INCOMPLETA|madre_POSTGRADO|madre_NINGUNA|padre_PRIMARIA_COMPLETA|padre_PRIMARIA_INCOMPLETA|padre_SECUNDARIA_COMPLETA|padre_SECUNDARIA_INCOMPLETA|padre_PREGRADO_COMPLETO|padre_PREGRADO_INCOMPLETO|padre_TECNICO_O_TECNOLOGIA_COMPLETA|padre_TECNICO_O_TECNOLOGIA_INCOMPLETA|padre_POSTGRADO|padre_NINGUNA|\n",
            "+------------------+-------------------+-------------+---------------+-----------------+------------------------+--------------------+-----------+------------+--------------------+---------------+---------------------------+--------------------+-------------------+-----------------------+-----------------+------------------------+---------------+--------------------+-----------+-----------------------+-----------------+-----------------+----------------+---------------------+-----------------+--------------------+------------------+-------------------+--------------------+------------------+------------------+-------------+-----------+----------------+------------------------+----------------+--------------------+-----------+----+----------+-----------------------+-------------------------+-------------------------+---------------------------+-----------------------+-------------------------+-----------------------------------+-------------------------------------+---------------+-------------+-----------------------+-------------------------+-------------------------+---------------------------+-----------------------+-------------------------+-----------------------------------+-------------------------------------+---------------+-------------+\n",
            "|                TI|             URBANO|        false|              A|TÉCNICO/ACADÉMICO|                   76001|               VALLE|      MIXTO|      MAÑANA|                CALI|        OFICIAL|       INSTITUCION EDUCA...|72/01 INSTITUCION...|               true|                  VALLE|            VALLE|                PUBLICAR|     ESTUDIANTE|          27/07/2000|          M|                   CALI|             CALI|         COLOMBIA|        COLOMBIA|                false|              4.0|                 5.0|               5.0|               true|                true|              true|              true|           A2|         59|              57|                      46|              57|                  57|        272|2016|         2|                  false|                    false|                     true|                      false|                  false|                    false|                              false|                                false|          false|        false|                  false|                    false|                     true|                      false|                  false|                    false|                              false|                                false|          false|        false|\n",
            "|                TI|             URBANO|        false|              A|TÉCNICO/ACADÉMICO|                    5001|           ANTIOQUIA|      MIXTO|    SABATINA|            MEDELLIN|     NO OFICIAL|       COL COOP SAN ANTO...|COL COOP SAN ANTO...|               true|              ANTIOQUIA|        ANTIOQUIA|                PUBLICAR|     ESTUDIANTE|          07/12/1999|          F|                 ITAGÜÍ|         MEDELLÍN|         COLOMBIA|        COLOMBIA|                false|              5.0|                 2.0|               5.5|              false|               false|              true|              true|           A-|         44|              53|                      54|              44|                  54|        253|2017|         2|                  false|                    false|                     true|                      false|                  false|                    false|                              false|                                false|          false|        false|                   true|                    false|                    false|                      false|                  false|                    false|                              false|                                false|          false|        false|\n",
            "|                TI|             URBANO|        false|              A|TÉCNICO/ACADÉMICO|                   47555|           MAGDALENA|      MIXTO|      MAÑANA|               PLATO|        OFICIAL|       INSTITUCION EDUCA...|COL BTO GABRIEL E...|               true|              MAGDALENA|        MAGDALENA|                PUBLICAR|     ESTUDIANTE|          07/09/1998|          M|                  PLATO|            PLATO|         COLOMBIA|        COLOMBIA|                false|              3.0|                 1.0|               4.0|              false|               false|             false|              true|           A-|         32|              56|                      56|              51|                  56|        265|2016|         2|                   true|                    false|                    false|                      false|                  false|                    false|                              false|                                false|          false|        false|                   true|                    false|                    false|                      false|                  false|                    false|                              false|                                false|          false|        false|\n",
            "|                TI|             URBANO|        false|              A|          TÉCNICO|                    5001|           ANTIOQUIA|      MIXTO|    COMPLETA|            MEDELLIN|     NO OFICIAL|        COL DIVINO SALVADOR| COL DIVINO SALVADOR|               true|              ANTIOQUIA|        ANTIOQUIA|                PUBLICAR|     ESTUDIANTE|          20/11/1999|          M|               MEDELLÍN|         MEDELLÍN|         COLOMBIA|        COLOMBIA|                false|              3.0|                 3.0|               4.0|              false|                true|              true|              true|           B1|         75|              71|                      73|              68|                  68|        352|2016|         2|                  false|                    false|                    false|                      false|                  false|                    false|                               true|                                false|          false|        false|                  false|                    false|                     true|                      false|                  false|                    false|                              false|                                false|          false|        false|\n",
            "|                TI|             URBANO|        false|              A|          TÉCNICO|                   13188|             BOLIVAR|      MIXTO|      MAÑANA|              CICUCO|        OFICIAL|       INSTITUCIÓN EDUCA...|I.E.T. AGROAMBIEN...|               true|                BOLIVAR|          BOLIVAR|                PUBLICAR|     ESTUDIANTE|          27/07/1998|          F|                 MOMPÓS|           CICUCO|         COLOMBIA|        COLOMBIA|                false|              2.0|                 1.0|               5.0|              false|               false|             false|             false|           A-|         44|              47|                      44|              51|                  44|        232|2015|         2|                   true|                    false|                    false|                      false|                  false|                    false|                              false|                                false|          false|        false|                  false|                    false|                     true|                      false|                  false|                    false|                              false|                                false|          false|        false|\n",
            "+------------------+-------------------+-------------+---------------+-----------------+------------------------+--------------------+-----------+------------+--------------------+---------------+---------------------------+--------------------+-------------------+-----------------------+-----------------+------------------------+---------------+--------------------+-----------+-----------------------+-----------------+-----------------+----------------+---------------------+-----------------+--------------------+------------------+-------------------+--------------------+------------------+------------------+-------------+-----------+----------------+------------------------+----------------+--------------------+-----------+----+----------+-----------------------+-------------------------+-------------------------+---------------------------+-----------------------+-------------------------+-----------------------------------+-------------------------------------+---------------+-------------+-----------------------+-------------------------+-------------------------+---------------------------+-----------------------+-------------------------+-----------------------------------+-------------------------------------+---------------+-------------+\n",
            "only showing top 5 rows\n",
            "\n"
          ]
        }
      ]
    },
    {
      "cell_type": "code",
      "source": [
        "from pyspark.sql import functions as F\n",
        "\n",
        "# ================================================================\n",
        "# 1 ▸ Columnas que vamos a usar\n",
        "# ================================================================\n",
        "parent_cols = [\n",
        "    \"madre_PRIMARIA_COMPLETA\", \"madre_PRIMARIA_INCOMPLETA\",\n",
        "    \"madre_SECUNDARIA_COMPLETA\", \"madre_SECUNDARIA_INCOMPLETA\",\n",
        "    \"madre_PREGRADO_COMPLETO\", \"madre_PREGRADO_INCOMPLETO\",\n",
        "    \"madre_TECNICO_O_TECNOLOGIA_COMPLETA\", \"madre_TECNICO_O_TECNOLOGIA_INCOMPLETA\",\n",
        "    \"madre_POSTGRADO\", \"madre_NINGUNA\",\n",
        "    \"padre_PRIMARIA_COMPLETA\", \"padre_PRIMARIA_INCOMPLETA\",\n",
        "    \"padre_SECUNDARIA_COMPLETA\", \"padre_SECUNDARIA_INCOMPLETA\",\n",
        "    \"padre_PREGRADO_COMPLETO\", \"padre_PREGRADO_INCOMPLETO\",\n",
        "    \"padre_TECNICO_O_TECNOLOGIA_COMPLETA\", \"padre_TECNICO_O_TECNOLOGIA_INCOMPLETA\",\n",
        "    \"padre_POSTGRADO\", \"padre_NINGUNA\"\n",
        "]\n",
        "\n",
        "cat_cols_target = [\n",
        "    \"COLE_CALENDARIO\", \"COLE_CARACTER\", \"COLE_NATURALEZA\",\n",
        "    \"COLE_JORNADA\", \"DEPARTAMENTO\", \"ESTU_GENERO\"\n",
        "]\n",
        "\n",
        "# ================================================================\n",
        "# 2 ▸ Limpieza de cada DataFrame\n",
        "# ================================================================\n",
        "# -- 2.1 ▼ df05_Icf (ICFES + nuevas columnas)\n",
        "df05_clean = (\n",
        "    df05_Icf\n",
        "    .withColumn(\"DEPARTAMENTO\", F.upper(F.trim(\"ESTU_DEPTO_RESIDE\")))\n",
        "    .select(\n",
        "        \"AÑO\", \"TRIMESTRES\", \"DEPARTAMENTO\",\n",
        "        \"PUNT_GLOBAL\", \"PUNT_MATEMATICAS\", \"PUNT_LECTURA_CRITICA\",\n",
        "        \"PUNT_SOCIALES_CIUDADANAS\", \"PUNT_INGLES\", \"PUNT_C_NATURALES\",\n",
        "        *parent_cols,\n",
        "        *cat_cols_target\n",
        "    )\n",
        ")\n",
        "\n",
        "# -- 2.2 ▼ df04_Int (penetración de Internet)\n",
        "df04_agg = (\n",
        "    df04_Int\n",
        "    .withColumn(\"DEPARTAMENTO\", F.upper(F.trim(\"DEPARTAMENTO\")))\n",
        "    .groupBy(\"AÑO\", \"DEPARTAMENTO\") \\\n",
        "    .agg(F.avg(\"PENETRACIÓN_INTERNET\").alias(\"PENETRACION_INTERNET\")) \\\n",
        ")\n",
        "\n",
        "# -- 2.3 ▼ df06_Inv (inversión por persona)\n",
        "df06_agg = (\n",
        "    df06_Inv\n",
        "    .withColumn(\"DEPARTAMENTO\", F.upper(F.trim(\"DEPARTAMENTO\")))\n",
        "    .groupBy(\"AÑO\", \"DEPARTAMENTO\") \\\n",
        "    .agg(F.avg(\"INVERSION_POR_PERSONA\").alias(\"INVERSION_POR_PERSONA\")) \\\n",
        ")\n",
        "\n",
        "# -- 2.4 ▼ JOIN definitivo\n",
        "df_join = (\n",
        "    df05_clean.alias(\"icfes\")\n",
        "    .join(df04_agg.alias(\"int\"), [\"AÑO\", \"DEPARTAMENTO\"], \"inner\")\n",
        "    .join(df06_agg.alias(\"inv\"), [\"AÑO\", \"DEPARTAMENTO\"], \"inner\")\n",
        ")"
      ],
      "metadata": {
        "id": "RZzcOe3HErzp"
      },
      "execution_count": 205,
      "outputs": []
    },
    {
      "cell_type": "markdown",
      "source": [
        "### Selección de variables más relevantes"
      ],
      "metadata": {
        "id": "J9ivvgB19myz"
      }
    },
    {
      "cell_type": "code",
      "source": [
        "# ================================================================\n",
        "# 3 ▸ Preparar df_base para ranking de correlaciones\n",
        "# ================================================================\n",
        "# -- 3.1 ▼ Booleans → int\n",
        "bool_cols = [c for c, t in df_join.dtypes if t == \"boolean\"]\n",
        "\n",
        "df_base = df_join.select(\n",
        "    *[F.col(c).cast(\"int\").alias(c) if c in bool_cols else F.col(c)\n",
        "      for c in df_join.columns]\n",
        ")\n",
        "\n",
        "# -- 3.2 ▼ Imputar nulos = 0 en todos los bools\n",
        "df_base = df_base.fillna(0, subset=bool_cols)\n",
        "\n",
        "# ================================================================\n",
        "# 4 ▸ Calcular correlaciones y elegir TOP-20 numéricas\n",
        "# ================================================================\n",
        "numeric_cols = [\n",
        "    c for c, t in df_base.dtypes\n",
        "    if t in (\"int\", \"double\") and c != \"PUNT_GLOBAL\"\n",
        "]\n",
        "\n",
        "corrs = [(c, df_base.stat.corr(c, \"PUNT_GLOBAL\")) for c in numeric_cols]\n",
        "corrs_sorted = sorted(corrs, key=lambda x: -abs(x[1]))\n",
        "top_num = [c for c, _ in corrs_sorted[:20]]\n",
        "\n",
        "print(\"===== TOP-20 variables numéricas por |r| contra PUNT_GLOBAL =====\")\n",
        "for col, r in corrs_sorted[:20]:\n",
        "    print(f\"{col:40s}  r = {r:+.3f}\")\n",
        "\n",
        "# ================================================================\n",
        "# 5 ▸ Ensamblar df_model\n",
        "# ================================================================\n",
        "# -- 5.1 ▼ Mantener solo las categóricas que realmente existen\n",
        "existing_cat_cols = [c for c in cat_cols_target if c in df_base.columns]\n",
        "\n",
        "cols_final = [\"PUNT_GLOBAL\"] + top_num + existing_cat_cols\n",
        "\n",
        "df_model = (\n",
        "    df_base\n",
        "    .select(cols_final)\n",
        "    .na.drop(\"any\")          # cambia estrategia de imputación si quieres\n",
        ")\n",
        "\n",
        "# --- chequeo rápido ---\n",
        "print(\"\\nSchema de df_model\")\n",
        "df_model.printSchema()\n",
        "print(\"Filas totales:\", df_model.count())\n",
        "# 1 ▸ ¿Cuántas particiones y registros?\n",
        "print(\"Particiones:\", df_model.rdd.getNumPartitions())\n",
        "print(\"Filas      :\", df_model.count())\n",
        "\n",
        "# 2 ▸ ¿Dónde se gasta tiempo? – plan lógico/físico\n",
        "df_model.explain(mode=\"formatted\")\n",
        "\n",
        "# 3 ▸ Muestra rápida sin procesar todo\n",
        "df_model.sample(False, 0.001).show(10, False)     # 0.1 %\n",
        "\n",
        "# 4 ▸ Cachear para que show() no vuelva a leer todo\n",
        "df_model.cache()\n",
        "df_model.limit(10).show(truncate=False)           # segunda llamada será instantánea"
      ],
      "metadata": {
        "colab": {
          "base_uri": "https://localhost:8080/"
        },
        "id": "R1auwG4WUI9y",
        "outputId": "214b0caa-4246-4d20-d45c-e2fc0a174ea2"
      },
      "execution_count": 212,
      "outputs": [
        {
          "output_type": "stream",
          "name": "stdout",
          "text": [
            "===== TOP-20 variables numéricas por |r| contra PUNT_GLOBAL =====\n",
            "PUNT_C_NATURALES                          r = +0.910\n",
            "PUNT_SOCIALES_CIUDADANAS                  r = +0.909\n",
            "PUNT_MATEMATICAS                          r = +0.906\n",
            "PUNT_LECTURA_CRITICA                      r = +0.885\n",
            "PUNT_INGLES                               r = +0.749\n",
            "madre_PRIMARIA_COMPLETA                   r = -0.262\n",
            "padre_PREGRADO_COMPLETO                   r = +0.240\n",
            "padre_PRIMARIA_COMPLETA                   r = -0.238\n",
            "padre_POSTGRADO                           r = +0.199\n",
            "madre_POSTGRADO                           r = +0.187\n",
            "madre_TECNICO_O_TECNOLOGIA_COMPLETA       r = +0.146\n",
            "padre_TECNICO_O_TECNOLOGIA_COMPLETA       r = +0.125\n",
            "madre_NINGUNA                             r = -0.113\n",
            "padre_NINGUNA                             r = -0.110\n",
            "TRIMESTRES                                r = -0.099\n",
            "AÑO                                       r = +0.083\n",
            "madre_PRIMARIA_INCOMPLETA                 r = +nan\n",
            "madre_SECUNDARIA_COMPLETA                 r = -0.006\n",
            "madre_SECUNDARIA_INCOMPLETA               r = +nan\n",
            "madre_PREGRADO_COMPLETO                   r = +0.252\n",
            "\n",
            "Schema de df_model\n",
            "root\n",
            " |-- PUNT_GLOBAL: integer (nullable = true)\n",
            " |-- PUNT_C_NATURALES: integer (nullable = true)\n",
            " |-- PUNT_SOCIALES_CIUDADANAS: integer (nullable = true)\n",
            " |-- PUNT_MATEMATICAS: integer (nullable = true)\n",
            " |-- PUNT_LECTURA_CRITICA: integer (nullable = true)\n",
            " |-- PUNT_INGLES: integer (nullable = true)\n",
            " |-- madre_PRIMARIA_COMPLETA: integer (nullable = false)\n",
            " |-- padre_PREGRADO_COMPLETO: integer (nullable = false)\n",
            " |-- padre_PRIMARIA_COMPLETA: integer (nullable = false)\n",
            " |-- padre_POSTGRADO: integer (nullable = false)\n",
            " |-- madre_POSTGRADO: integer (nullable = false)\n",
            " |-- madre_TECNICO_O_TECNOLOGIA_COMPLETA: integer (nullable = false)\n",
            " |-- padre_TECNICO_O_TECNOLOGIA_COMPLETA: integer (nullable = false)\n",
            " |-- madre_NINGUNA: integer (nullable = false)\n",
            " |-- padre_NINGUNA: integer (nullable = false)\n",
            " |-- TRIMESTRES: integer (nullable = true)\n",
            " |-- AÑO: integer (nullable = true)\n",
            " |-- madre_PRIMARIA_INCOMPLETA: integer (nullable = false)\n",
            " |-- madre_SECUNDARIA_COMPLETA: integer (nullable = false)\n",
            " |-- madre_SECUNDARIA_INCOMPLETA: integer (nullable = false)\n",
            " |-- madre_PREGRADO_COMPLETO: integer (nullable = false)\n",
            " |-- COLE_CALENDARIO: string (nullable = true)\n",
            " |-- COLE_CARACTER: string (nullable = true)\n",
            " |-- COLE_NATURALEZA: string (nullable = true)\n",
            " |-- COLE_JORNADA: string (nullable = true)\n",
            " |-- DEPARTAMENTO: string (nullable = true)\n",
            " |-- ESTU_GENERO: string (nullable = true)\n",
            "\n",
            "Filas totales: 670529\n",
            "Particiones: 5\n",
            "Filas      : 670529\n",
            "== Physical Plan ==\n",
            "AdaptiveSparkPlan (58)\n",
            "+- == Final Plan ==\n",
            "   * Project (33)\n",
            "   +- * BroadcastHashJoin Inner BuildRight (32)\n",
            "      :- * Project (20)\n",
            "      :  +- * BroadcastHashJoin Inner BuildRight (19)\n",
            "      :     :- * Project (8)\n",
            "      :     :  +- * Project (7)\n",
            "      :     :     +- BatchEvalPython (6)\n",
            "      :     :        +- * Project (5)\n",
            "      :     :           +- * Filter (4)\n",
            "      :     :              +- BatchEvalPython (3)\n",
            "      :     :                 +- * Filter (2)\n",
            "      :     :                    +- Scan csv  (1)\n",
            "      :     +- BroadcastQueryStage (18), Statistics(sizeInBytes=8.0 MiB, rowCount=132)\n",
            "      :        +- BroadcastExchange (17)\n",
            "      :           +- * HashAggregate (16)\n",
            "      :              +- AQEShuffleRead (15)\n",
            "      :                 +- ShuffleQueryStage (14), Statistics(sizeInBytes=4.7 KiB, rowCount=132)\n",
            "      :                    +- Exchange (13)\n",
            "      :                       +- * HashAggregate (12)\n",
            "      :                          +- * Project (11)\n",
            "      :                             +- * Filter (10)\n",
            "      :                                +- Scan csv  (9)\n",
            "      +- BroadcastQueryStage (31), Statistics(sizeInBytes=8.0 MiB, rowCount=127)\n",
            "         +- BroadcastExchange (30)\n",
            "            +- * HashAggregate (29)\n",
            "               +- AQEShuffleRead (28)\n",
            "                  +- ShuffleQueryStage (27), Statistics(sizeInBytes=4.3 KiB, rowCount=127)\n",
            "                     +- Exchange (26)\n",
            "                        +- * HashAggregate (25)\n",
            "                           +- * Project (24)\n",
            "                              +- * Project (23)\n",
            "                                 +- * Filter (22)\n",
            "                                    +- Scan csv  (21)\n",
            "+- == Initial Plan ==\n",
            "   Project (57)\n",
            "   +- BroadcastHashJoin Inner BuildRight (56)\n",
            "      :- Project (48)\n",
            "      :  +- BroadcastHashJoin Inner BuildRight (47)\n",
            "      :     :- Project (40)\n",
            "      :     :  +- Project (39)\n",
            "      :     :     +- BatchEvalPython (38)\n",
            "      :     :        +- Project (37)\n",
            "      :     :           +- Filter (36)\n",
            "      :     :              +- BatchEvalPython (35)\n",
            "      :     :                 +- Filter (34)\n",
            "      :     :                    +- Scan csv  (1)\n",
            "      :     +- BroadcastExchange (46)\n",
            "      :        +- HashAggregate (45)\n",
            "      :           +- Exchange (44)\n",
            "      :              +- HashAggregate (43)\n",
            "      :                 +- Project (42)\n",
            "      :                    +- Filter (41)\n",
            "      :                       +- Scan csv  (9)\n",
            "      +- BroadcastExchange (55)\n",
            "         +- HashAggregate (54)\n",
            "            +- Exchange (53)\n",
            "               +- HashAggregate (52)\n",
            "                  +- Project (51)\n",
            "                     +- Project (50)\n",
            "                        +- Filter (49)\n",
            "                           +- Scan csv  (21)\n",
            "\n",
            "\n",
            "(1) Scan csv \n",
            "Output [16]: [COLE_CALENDARIO#15315, COLE_CARACTER#15316, COLE_JORNADA#15324, COLE_NATURALEZA#15326, ESTU_DEPTO_RESIDE#15335, ESTU_GENERO#15339, FAMI_EDUCACIONMADRE#15346, FAMI_EDUCACIONPADRE#15347, PUNT_INGLES#15355, PUNT_MATEMATICAS#15356, PUNT_SOCIALES_CIUDADANAS#15357, PUNT_C_NATURALES#15358, PUNT_LECTURA_CRITICA#15359, PUNT_GLOBAL#15360, AÑOS#15361, TRIMESTRES#15362]\n",
            "Batched: false\n",
            "Location: InMemoryFileIndex [file:/content/drive/MyDrive/Resultados_icfes_limpios.csv]\n",
            "PushedFilters: [IsNotNull(FAMI_EDUCACIONMADRE), IsNotNull(FAMI_EDUCACIONPADRE), IsNotNull(AÑOS), GreaterThanOrEqual(AÑOS,2015), LessThanOrEqual(AÑOS,2018)]\n",
            "ReadSchema: struct<COLE_CALENDARIO:string,COLE_CARACTER:string,COLE_JORNADA:string,COLE_NATURALEZA:string,ESTU_DEPTO_RESIDE:string,ESTU_GENERO:string,FAMI_EDUCACIONMADRE:string,FAMI_EDUCACIONPADRE:string,PUNT_INGLES:int,PUNT_MATEMATICAS:int,PUNT_SOCIALES_CIUDADANAS:int,PUNT_C_NATURALES:int,PUNT_LECTURA_CRITICA:int,PUNT_GLOBAL:int,AÑOS:int,TRIMESTRES:int>\n",
            "\n",
            "(2) Filter [codegen id : 5]\n",
            "Input [16]: [COLE_CALENDARIO#15315, COLE_CARACTER#15316, COLE_JORNADA#15324, COLE_NATURALEZA#15326, ESTU_DEPTO_RESIDE#15335, ESTU_GENERO#15339, FAMI_EDUCACIONMADRE#15346, FAMI_EDUCACIONPADRE#15347, PUNT_INGLES#15355, PUNT_MATEMATICAS#15356, PUNT_SOCIALES_CIUDADANAS#15357, PUNT_C_NATURALES#15358, PUNT_LECTURA_CRITICA#15359, PUNT_GLOBAL#15360, AÑOS#15361, TRIMESTRES#15362]\n",
            "Condition : (((((((((isnotnull(FAMI_EDUCACIONMADRE#15346) AND isnotnull(FAMI_EDUCACIONPADRE#15347)) AND isnotnull(AÑOS#15361)) AND isnotnull(lower(FAMI_EDUCACIONMADRE#15346))) AND isnotnull(lower(FAMI_EDUCACIONPADRE#15347))) AND NOT Contains(lower(FAMI_EDUCACIONMADRE#15346), no sabe)) AND NOT Contains(lower(FAMI_EDUCACIONPADRE#15347), no sabe)) AND (AÑOS#15361 >= 2015)) AND (AÑOS#15361 <= 2018)) AND isnotnull(upper(trim(ESTU_DEPTO_RESIDE#15335, None))))\n",
            "\n",
            "(3) BatchEvalPython\n",
            "Input [16]: [COLE_CALENDARIO#15315, COLE_CARACTER#15316, COLE_JORNADA#15324, COLE_NATURALEZA#15326, ESTU_DEPTO_RESIDE#15335, ESTU_GENERO#15339, FAMI_EDUCACIONMADRE#15346, FAMI_EDUCACIONPADRE#15347, PUNT_INGLES#15355, PUNT_MATEMATICAS#15356, PUNT_SOCIALES_CIUDADANAS#15357, PUNT_C_NATURALES#15358, PUNT_LECTURA_CRITICA#15359, PUNT_GLOBAL#15360, AÑOS#15361, TRIMESTRES#15362]\n",
            "Arguments: [map_edu_level(FAMI_EDUCACIONMADRE#15346)#29105, map_edu_level(FAMI_EDUCACIONPADRE#15347)#29151], [pythonUDF0#66566, pythonUDF1#66567]\n",
            "\n",
            "(4) Filter [codegen id : 6]\n",
            "Input [18]: [COLE_CALENDARIO#15315, COLE_CARACTER#15316, COLE_JORNADA#15324, COLE_NATURALEZA#15326, ESTU_DEPTO_RESIDE#15335, ESTU_GENERO#15339, FAMI_EDUCACIONMADRE#15346, FAMI_EDUCACIONPADRE#15347, PUNT_INGLES#15355, PUNT_MATEMATICAS#15356, PUNT_SOCIALES_CIUDADANAS#15357, PUNT_C_NATURALES#15358, PUNT_LECTURA_CRITICA#15359, PUNT_GLOBAL#15360, AÑOS#15361, TRIMESTRES#15362, pythonUDF0#66566, pythonUDF1#66567]\n",
            "Condition : atleastnnonnulls(27, PUNT_GLOBAL#15360, PUNT_C_NATURALES#15358, PUNT_SOCIALES_CIUDADANAS#15357, PUNT_MATEMATICAS#15356, PUNT_LECTURA_CRITICA#15359, PUNT_INGLES#15355, cast(((pythonUDF0#66566 = PRIMARIA_COMPLETA) <=> true) as int), cast(((pythonUDF1#66567 = PREGRADO_COMPLETO) <=> true) as int), cast(((pythonUDF1#66567 = PRIMARIA_COMPLETA) <=> true) as int), cast(((pythonUDF1#66567 = POSTGRADO) <=> true) as int), cast(((pythonUDF0#66566 = POSTGRADO) <=> true) as int), cast(((pythonUDF0#66566 = TECNICO_O_TECNOLOGIA_COMPLETA) <=> true) as int), cast(((pythonUDF1#66567 = TECNICO_O_TECNOLOGIA_COMPLETA) <=> true) as int), cast(((pythonUDF0#66566 = NINGUNA) <=> true) as int), cast(((pythonUDF1#66567 = NINGUNA) <=> true) as int), TRIMESTRES#15362, AÑOS#15361, cast(((pythonUDF0#66566 = PRIMARIA_INCOMPLETA) <=> true) as int), cast(((pythonUDF0#66566 = SECUNDARIA_COMPLETA) <=> true) as int), cast(((pythonUDF0#66566 = SECUNDARIA_INCOMPLETA) <=> true) as int), cast(((pythonUDF0#66566 = PREGRADO_COMPLETO) <=> true) as int), COLE_CALENDARIO#15315, COLE_CARACTER#15316, ... 4 more fields)\n",
            "\n",
            "(5) Project [codegen id : 6]\n",
            "Output [16]: [COLE_CALENDARIO#15315, COLE_CARACTER#15316, COLE_JORNADA#15324, COLE_NATURALEZA#15326, ESTU_DEPTO_RESIDE#15335, ESTU_GENERO#15339, FAMI_EDUCACIONMADRE#15346, FAMI_EDUCACIONPADRE#15347, PUNT_INGLES#15355, PUNT_MATEMATICAS#15356, PUNT_SOCIALES_CIUDADANAS#15357, PUNT_C_NATURALES#15358, PUNT_LECTURA_CRITICA#15359, PUNT_GLOBAL#15360, AÑOS#15361, TRIMESTRES#15362]\n",
            "Input [18]: [COLE_CALENDARIO#15315, COLE_CARACTER#15316, COLE_JORNADA#15324, COLE_NATURALEZA#15326, ESTU_DEPTO_RESIDE#15335, ESTU_GENERO#15339, FAMI_EDUCACIONMADRE#15346, FAMI_EDUCACIONPADRE#15347, PUNT_INGLES#15355, PUNT_MATEMATICAS#15356, PUNT_SOCIALES_CIUDADANAS#15357, PUNT_C_NATURALES#15358, PUNT_LECTURA_CRITICA#15359, PUNT_GLOBAL#15360, AÑOS#15361, TRIMESTRES#15362, pythonUDF0#66566, pythonUDF1#66567]\n",
            "\n",
            "(6) BatchEvalPython\n",
            "Input [16]: [COLE_CALENDARIO#15315, COLE_CARACTER#15316, COLE_JORNADA#15324, COLE_NATURALEZA#15326, ESTU_DEPTO_RESIDE#15335, ESTU_GENERO#15339, FAMI_EDUCACIONMADRE#15346, FAMI_EDUCACIONPADRE#15347, PUNT_INGLES#15355, PUNT_MATEMATICAS#15356, PUNT_SOCIALES_CIUDADANAS#15357, PUNT_C_NATURALES#15358, PUNT_LECTURA_CRITICA#15359, PUNT_GLOBAL#15360, AÑOS#15361, TRIMESTRES#15362]\n",
            "Arguments: [map_edu_level(FAMI_EDUCACIONMADRE#15346)#29105, map_edu_level(FAMI_EDUCACIONPADRE#15347)#29151], [pythonUDF0#66568, pythonUDF1#66569]\n",
            "\n",
            "(7) Project [codegen id : 7]\n",
            "Output [27]: [COLE_CALENDARIO#15315, COLE_CARACTER#15316, COLE_JORNADA#15324, COLE_NATURALEZA#15326, ESTU_GENERO#15339, PUNT_INGLES#15355, PUNT_MATEMATICAS#15356, PUNT_SOCIALES_CIUDADANAS#15357, PUNT_C_NATURALES#15358, PUNT_LECTURA_CRITICA#15359, PUNT_GLOBAL#15360, AÑOS#15361 AS AÑO#36074, TRIMESTRES#15362, ((pythonUDF0#66568 = PRIMARIA_COMPLETA) <=> true) AS madre_PRIMARIA_COMPLETA#29198, ((pythonUDF0#66568 = PRIMARIA_INCOMPLETA) <=> true) AS madre_PRIMARIA_INCOMPLETA#29245, ((pythonUDF0#66568 = SECUNDARIA_COMPLETA) <=> true) AS madre_SECUNDARIA_COMPLETA#29293, ((pythonUDF0#66568 = SECUNDARIA_INCOMPLETA) <=> true) AS madre_SECUNDARIA_INCOMPLETA#29342, ((pythonUDF0#66568 = PREGRADO_COMPLETO) <=> true) AS madre_PREGRADO_COMPLETO#29392, ((pythonUDF0#66568 = TECNICO_O_TECNOLOGIA_COMPLETA) <=> true) AS madre_TECNICO_O_TECNOLOGIA_COMPLETA#29495, ((pythonUDF0#66568 = POSTGRADO) <=> true) AS madre_POSTGRADO#29602, ((pythonUDF0#66568 = NINGUNA) <=> true) AS madre_NINGUNA#29657, ((pythonUDF1#66569 = PRIMARIA_COMPLETA) <=> true) AS padre_PRIMARIA_COMPLETA#29713, ((pythonUDF1#66569 = PREGRADO_COMPLETO) <=> true) AS padre_PREGRADO_COMPLETO#29947, ((pythonUDF1#66569 = TECNICO_O_TECNOLOGIA_COMPLETA) <=> true) AS padre_TECNICO_O_TECNOLOGIA_COMPLETA#30070, ((pythonUDF1#66569 = POSTGRADO) <=> true) AS padre_POSTGRADO#30197, ((pythonUDF1#66569 = NINGUNA) <=> true) AS padre_NINGUNA#30262, upper(trim(ESTU_DEPTO_RESIDE#15335, None)) AS DEPARTAMENTO#39678]\n",
            "Input [18]: [COLE_CALENDARIO#15315, COLE_CARACTER#15316, COLE_JORNADA#15324, COLE_NATURALEZA#15326, ESTU_DEPTO_RESIDE#15335, ESTU_GENERO#15339, FAMI_EDUCACIONMADRE#15346, FAMI_EDUCACIONPADRE#15347, PUNT_INGLES#15355, PUNT_MATEMATICAS#15356, PUNT_SOCIALES_CIUDADANAS#15357, PUNT_C_NATURALES#15358, PUNT_LECTURA_CRITICA#15359, PUNT_GLOBAL#15360, AÑOS#15361, TRIMESTRES#15362, pythonUDF0#66568, pythonUDF1#66569]\n",
            "\n",
            "(8) Project [codegen id : 7]\n",
            "Output [28]: [AÑO#36074, TRIMESTRES#15362, DEPARTAMENTO#39678, PUNT_GLOBAL#15360, PUNT_MATEMATICAS#15356, PUNT_LECTURA_CRITICA#15359, PUNT_SOCIALES_CIUDADANAS#15357, PUNT_INGLES#15355, PUNT_C_NATURALES#15358, madre_PRIMARIA_COMPLETA#29198, madre_PRIMARIA_INCOMPLETA#29245, madre_SECUNDARIA_COMPLETA#29293, madre_SECUNDARIA_INCOMPLETA#29342, madre_PREGRADO_COMPLETO#29392, madre_TECNICO_O_TECNOLOGIA_COMPLETA#29495, madre_POSTGRADO#29602, madre_NINGUNA#29657, padre_PRIMARIA_COMPLETA#29713, padre_PREGRADO_COMPLETO#29947, padre_TECNICO_O_TECNOLOGIA_COMPLETA#30070, padre_POSTGRADO#30197, padre_NINGUNA#30262, COLE_CALENDARIO#15315, COLE_CARACTER#15316, COLE_NATURALEZA#15326, COLE_JORNADA#15324, DEPARTAMENTO#39678, ESTU_GENERO#15339]\n",
            "Input [27]: [COLE_CALENDARIO#15315, COLE_CARACTER#15316, COLE_JORNADA#15324, COLE_NATURALEZA#15326, ESTU_GENERO#15339, PUNT_INGLES#15355, PUNT_MATEMATICAS#15356, PUNT_SOCIALES_CIUDADANAS#15357, PUNT_C_NATURALES#15358, PUNT_LECTURA_CRITICA#15359, PUNT_GLOBAL#15360, AÑO#36074, TRIMESTRES#15362, madre_PRIMARIA_COMPLETA#29198, madre_PRIMARIA_INCOMPLETA#29245, madre_SECUNDARIA_COMPLETA#29293, madre_SECUNDARIA_INCOMPLETA#29342, madre_PREGRADO_COMPLETO#29392, madre_TECNICO_O_TECNOLOGIA_COMPLETA#29495, madre_POSTGRADO#29602, madre_NINGUNA#29657, padre_PRIMARIA_COMPLETA#29713, padre_PREGRADO_COMPLETO#29947, padre_TECNICO_O_TECNOLOGIA_COMPLETA#30070, padre_POSTGRADO#30197, padre_NINGUNA#30262, DEPARTAMENTO#39678]\n",
            "\n",
            "(9) Scan csv \n",
            "Output [2]: [AÑO#17125, DEPARTAMENTO#17128]\n",
            "Batched: false\n",
            "Location: InMemoryFileIndex [file:/tmp/spark-e96d2dea-91a6-41f0-90e6-ef506b732df1/userFiles-bcc26b9a-e96e-480a-8e85-04e3aba66e03/Internet_Fijo_Penetracion_Municipio_20250521_Limpio.csv]\n",
            "PushedFilters: [IsNotNull(AÑO), GreaterThanOrEqual(AÑO,2015), LessThanOrEqual(AÑO,2018)]\n",
            "ReadSchema: struct<AÑO:int,DEPARTAMENTO:string>\n",
            "\n",
            "(10) Filter [codegen id : 1]\n",
            "Input [2]: [AÑO#17125, DEPARTAMENTO#17128]\n",
            "Condition : (((isnotnull(AÑO#17125) AND (AÑO#17125 >= 2015)) AND (AÑO#17125 <= 2018)) AND isnotnull(upper(trim(DEPARTAMENTO#17128, None))))\n",
            "\n",
            "(11) Project [codegen id : 1]\n",
            "Output [2]: [AÑO#17125, upper(trim(DEPARTAMENTO#17128, None)) AS DEPARTAMENTO#39776]\n",
            "Input [2]: [AÑO#17125, DEPARTAMENTO#17128]\n",
            "\n",
            "(12) HashAggregate [codegen id : 1]\n",
            "Input [2]: [AÑO#17125, DEPARTAMENTO#39776]\n",
            "Keys [2]: [AÑO#17125, DEPARTAMENTO#39776]\n",
            "Functions: []\n",
            "Aggregate Attributes: []\n",
            "Results [2]: [AÑO#17125, DEPARTAMENTO#39776]\n",
            "\n",
            "(13) Exchange\n",
            "Input [2]: [AÑO#17125, DEPARTAMENTO#39776]\n",
            "Arguments: hashpartitioning(AÑO#17125, DEPARTAMENTO#39776, 200), ENSURE_REQUIREMENTS, [plan_id=56702]\n",
            "\n",
            "(14) ShuffleQueryStage\n",
            "Output [2]: [AÑO#17125, DEPARTAMENTO#39776]\n",
            "Arguments: 0\n",
            "\n",
            "(15) AQEShuffleRead\n",
            "Input [2]: [AÑO#17125, DEPARTAMENTO#39776]\n",
            "Arguments: coalesced\n",
            "\n",
            "(16) HashAggregate [codegen id : 4]\n",
            "Input [2]: [AÑO#17125, DEPARTAMENTO#39776]\n",
            "Keys [2]: [AÑO#17125, DEPARTAMENTO#39776]\n",
            "Functions: []\n",
            "Aggregate Attributes: []\n",
            "Results [2]: [AÑO#17125, DEPARTAMENTO#39776]\n",
            "\n",
            "(17) BroadcastExchange\n",
            "Input [2]: [AÑO#17125, DEPARTAMENTO#39776]\n",
            "Arguments: HashedRelationBroadcastMode(List(input[0, int, true], input[1, string, true]),false), [plan_id=56892]\n",
            "\n",
            "(18) BroadcastQueryStage\n",
            "Output [2]: [AÑO#17125, DEPARTAMENTO#39776]\n",
            "Arguments: 3\n",
            "\n",
            "(19) BroadcastHashJoin [codegen id : 7]\n",
            "Left keys [2]: [AÑO#36074, DEPARTAMENTO#39678]\n",
            "Right keys [2]: [AÑO#17125, DEPARTAMENTO#39776]\n",
            "Join type: Inner\n",
            "Join condition: None\n",
            "\n",
            "(20) Project [codegen id : 7]\n",
            "Output [27]: [AÑO#36074, DEPARTAMENTO#39678, TRIMESTRES#15362, PUNT_GLOBAL#15360, PUNT_MATEMATICAS#15356, PUNT_LECTURA_CRITICA#15359, PUNT_SOCIALES_CIUDADANAS#15357, PUNT_INGLES#15355, PUNT_C_NATURALES#15358, madre_PRIMARIA_COMPLETA#29198, madre_PRIMARIA_INCOMPLETA#29245, madre_SECUNDARIA_COMPLETA#29293, madre_SECUNDARIA_INCOMPLETA#29342, madre_PREGRADO_COMPLETO#29392, madre_TECNICO_O_TECNOLOGIA_COMPLETA#29495, madre_POSTGRADO#29602, madre_NINGUNA#29657, padre_PRIMARIA_COMPLETA#29713, padre_PREGRADO_COMPLETO#29947, padre_TECNICO_O_TECNOLOGIA_COMPLETA#30070, padre_POSTGRADO#30197, padre_NINGUNA#30262, COLE_CALENDARIO#15315, COLE_CARACTER#15316, COLE_NATURALEZA#15326, COLE_JORNADA#15324, ESTU_GENERO#15339]\n",
            "Input [30]: [AÑO#36074, TRIMESTRES#15362, DEPARTAMENTO#39678, PUNT_GLOBAL#15360, PUNT_MATEMATICAS#15356, PUNT_LECTURA_CRITICA#15359, PUNT_SOCIALES_CIUDADANAS#15357, PUNT_INGLES#15355, PUNT_C_NATURALES#15358, madre_PRIMARIA_COMPLETA#29198, madre_PRIMARIA_INCOMPLETA#29245, madre_SECUNDARIA_COMPLETA#29293, madre_SECUNDARIA_INCOMPLETA#29342, madre_PREGRADO_COMPLETO#29392, madre_TECNICO_O_TECNOLOGIA_COMPLETA#29495, madre_POSTGRADO#29602, madre_NINGUNA#29657, padre_PRIMARIA_COMPLETA#29713, padre_PREGRADO_COMPLETO#29947, padre_TECNICO_O_TECNOLOGIA_COMPLETA#30070, padre_POSTGRADO#30197, padre_NINGUNA#30262, COLE_CALENDARIO#15315, COLE_CARACTER#15316, COLE_NATURALEZA#15326, COLE_JORNADA#15324, DEPARTAMENTO#39678, ESTU_GENERO#15339, AÑO#17125, DEPARTAMENTO#39776]\n",
            "\n",
            "(21) Scan csv \n",
            "Output [3]: [DEPARTAME_NOMBRE#17073, FECHA DE CARGUE#17078, FECHA VIGENCIA#17081]\n",
            "Batched: false\n",
            "Location: InMemoryFileIndex [file:/tmp/spark-e96d2dea-91a6-41f0-90e6-ef506b732df1/userFiles-bcc26b9a-e96e-480a-8e85-04e3aba66e03/RedVolucion_20250521_Limpio.csv]\n",
            "ReadSchema: struct<DEPARTAME_NOMBRE:string,FECHA DE CARGUE:date,FECHA VIGENCIA:date>\n",
            "\n",
            "(22) Filter [codegen id : 2]\n",
            "Input [3]: [DEPARTAME_NOMBRE#17073, FECHA DE CARGUE#17078, FECHA VIGENCIA#17081]\n",
            "Condition : (((CASE WHEN (year(FECHA DE CARGUE#17078) = year(FECHA VIGENCIA#17081)) THEN year(FECHA DE CARGUE#17078) ELSE year(FECHA VIGENCIA#17081) END >= 2015) AND (CASE WHEN (year(FECHA DE CARGUE#17078) = year(FECHA VIGENCIA#17081)) THEN year(FECHA DE CARGUE#17078) ELSE year(FECHA VIGENCIA#17081) END <= 2018)) AND isnotnull(upper(trim(DEPARTAME_NOMBRE#17073, None))))\n",
            "\n",
            "(23) Project [codegen id : 2]\n",
            "Output [3]: [DEPARTAME_NOMBRE#17073, year(FECHA DE CARGUE#17078) AS anio_cargue#35834, year(FECHA VIGENCIA#17081) AS anio_vigencia#35845]\n",
            "Input [3]: [DEPARTAME_NOMBRE#17073, FECHA DE CARGUE#17078, FECHA VIGENCIA#17081]\n",
            "\n",
            "(24) Project [codegen id : 2]\n",
            "Output [2]: [upper(trim(DEPARTAME_NOMBRE#17073, None)) AS DEPARTAMENTO#39796, CASE WHEN (anio_cargue#35834 = anio_vigencia#35845) THEN anio_cargue#35834 ELSE anio_vigencia#35845 END AS AÑO#35857]\n",
            "Input [3]: [DEPARTAME_NOMBRE#17073, anio_cargue#35834, anio_vigencia#35845]\n",
            "\n",
            "(25) HashAggregate [codegen id : 2]\n",
            "Input [2]: [DEPARTAMENTO#39796, AÑO#35857]\n",
            "Keys [2]: [AÑO#35857, DEPARTAMENTO#39796]\n",
            "Functions: []\n",
            "Aggregate Attributes: []\n",
            "Results [2]: [AÑO#35857, DEPARTAMENTO#39796]\n",
            "\n",
            "(26) Exchange\n",
            "Input [2]: [AÑO#35857, DEPARTAMENTO#39796]\n",
            "Arguments: hashpartitioning(AÑO#35857, DEPARTAMENTO#39796, 200), ENSURE_REQUIREMENTS, [plan_id=56738]\n",
            "\n",
            "(27) ShuffleQueryStage\n",
            "Output [2]: [AÑO#35857, DEPARTAMENTO#39796]\n",
            "Arguments: 1\n",
            "\n",
            "(28) AQEShuffleRead\n",
            "Input [2]: [AÑO#35857, DEPARTAMENTO#39796]\n",
            "Arguments: coalesced\n",
            "\n",
            "(29) HashAggregate [codegen id : 3]\n",
            "Input [2]: [AÑO#35857, DEPARTAMENTO#39796]\n",
            "Keys [2]: [AÑO#35857, DEPARTAMENTO#39796]\n",
            "Functions: []\n",
            "Aggregate Attributes: []\n",
            "Results [2]: [AÑO#35857, DEPARTAMENTO#39796]\n",
            "\n",
            "(30) BroadcastExchange\n",
            "Input [2]: [AÑO#35857, DEPARTAMENTO#39796]\n",
            "Arguments: HashedRelationBroadcastMode(List(input[0, int, true], input[1, string, true]),false), [plan_id=56823]\n",
            "\n",
            "(31) BroadcastQueryStage\n",
            "Output [2]: [AÑO#35857, DEPARTAMENTO#39796]\n",
            "Arguments: 2\n",
            "\n",
            "(32) BroadcastHashJoin [codegen id : 7]\n",
            "Left keys [2]: [AÑO#36074, DEPARTAMENTO#39678]\n",
            "Right keys [2]: [AÑO#35857, DEPARTAMENTO#39796]\n",
            "Join type: Inner\n",
            "Join condition: None\n",
            "\n",
            "(33) Project [codegen id : 7]\n",
            "Output [27]: [PUNT_GLOBAL#15360, PUNT_C_NATURALES#15358, PUNT_SOCIALES_CIUDADANAS#15357, PUNT_MATEMATICAS#15356, PUNT_LECTURA_CRITICA#15359, PUNT_INGLES#15355, cast(madre_PRIMARIA_COMPLETA#29198 as int) AS madre_PRIMARIA_COMPLETA#57825, cast(padre_PREGRADO_COMPLETO#29947 as int) AS padre_PREGRADO_COMPLETO#57839, cast(padre_PRIMARIA_COMPLETA#29713 as int) AS padre_PRIMARIA_COMPLETA#57835, cast(padre_POSTGRADO#30197 as int) AS padre_POSTGRADO#57843, cast(madre_POSTGRADO#29602 as int) AS madre_POSTGRADO#57833, cast(madre_TECNICO_O_TECNOLOGIA_COMPLETA#29495 as int) AS madre_TECNICO_O_TECNOLOGIA_COMPLETA#57831, cast(padre_TECNICO_O_TECNOLOGIA_COMPLETA#30070 as int) AS padre_TECNICO_O_TECNOLOGIA_COMPLETA#57841, cast(madre_NINGUNA#29657 as int) AS madre_NINGUNA#57834, cast(padre_NINGUNA#30262 as int) AS padre_NINGUNA#57844, TRIMESTRES#15362, AÑO#36074, cast(madre_PRIMARIA_INCOMPLETA#29245 as int) AS madre_PRIMARIA_INCOMPLETA#57826, cast(madre_SECUNDARIA_COMPLETA#29293 as int) AS madre_SECUNDARIA_COMPLETA#57827, cast(madre_SECUNDARIA_INCOMPLETA#29342 as int) AS madre_SECUNDARIA_INCOMPLETA#57828, cast(madre_PREGRADO_COMPLETO#29392 as int) AS madre_PREGRADO_COMPLETO#57829, COLE_CALENDARIO#15315, COLE_CARACTER#15316, COLE_NATURALEZA#15326, COLE_JORNADA#15324, DEPARTAMENTO#39678, ESTU_GENERO#15339]\n",
            "Input [29]: [AÑO#36074, DEPARTAMENTO#39678, TRIMESTRES#15362, PUNT_GLOBAL#15360, PUNT_MATEMATICAS#15356, PUNT_LECTURA_CRITICA#15359, PUNT_SOCIALES_CIUDADANAS#15357, PUNT_INGLES#15355, PUNT_C_NATURALES#15358, madre_PRIMARIA_COMPLETA#29198, madre_PRIMARIA_INCOMPLETA#29245, madre_SECUNDARIA_COMPLETA#29293, madre_SECUNDARIA_INCOMPLETA#29342, madre_PREGRADO_COMPLETO#29392, madre_TECNICO_O_TECNOLOGIA_COMPLETA#29495, madre_POSTGRADO#29602, madre_NINGUNA#29657, padre_PRIMARIA_COMPLETA#29713, padre_PREGRADO_COMPLETO#29947, padre_TECNICO_O_TECNOLOGIA_COMPLETA#30070, padre_POSTGRADO#30197, padre_NINGUNA#30262, COLE_CALENDARIO#15315, COLE_CARACTER#15316, COLE_NATURALEZA#15326, COLE_JORNADA#15324, ESTU_GENERO#15339, AÑO#35857, DEPARTAMENTO#39796]\n",
            "\n",
            "(34) Filter\n",
            "Input [16]: [COLE_CALENDARIO#15315, COLE_CARACTER#15316, COLE_JORNADA#15324, COLE_NATURALEZA#15326, ESTU_DEPTO_RESIDE#15335, ESTU_GENERO#15339, FAMI_EDUCACIONMADRE#15346, FAMI_EDUCACIONPADRE#15347, PUNT_INGLES#15355, PUNT_MATEMATICAS#15356, PUNT_SOCIALES_CIUDADANAS#15357, PUNT_C_NATURALES#15358, PUNT_LECTURA_CRITICA#15359, PUNT_GLOBAL#15360, AÑOS#15361, TRIMESTRES#15362]\n",
            "Condition : (((((((((isnotnull(FAMI_EDUCACIONMADRE#15346) AND isnotnull(FAMI_EDUCACIONPADRE#15347)) AND isnotnull(AÑOS#15361)) AND isnotnull(lower(FAMI_EDUCACIONMADRE#15346))) AND isnotnull(lower(FAMI_EDUCACIONPADRE#15347))) AND NOT Contains(lower(FAMI_EDUCACIONMADRE#15346), no sabe)) AND NOT Contains(lower(FAMI_EDUCACIONPADRE#15347), no sabe)) AND (AÑOS#15361 >= 2015)) AND (AÑOS#15361 <= 2018)) AND isnotnull(upper(trim(ESTU_DEPTO_RESIDE#15335, None))))\n",
            "\n",
            "(35) BatchEvalPython\n",
            "Input [16]: [COLE_CALENDARIO#15315, COLE_CARACTER#15316, COLE_JORNADA#15324, COLE_NATURALEZA#15326, ESTU_DEPTO_RESIDE#15335, ESTU_GENERO#15339, FAMI_EDUCACIONMADRE#15346, FAMI_EDUCACIONPADRE#15347, PUNT_INGLES#15355, PUNT_MATEMATICAS#15356, PUNT_SOCIALES_CIUDADANAS#15357, PUNT_C_NATURALES#15358, PUNT_LECTURA_CRITICA#15359, PUNT_GLOBAL#15360, AÑOS#15361, TRIMESTRES#15362]\n",
            "Arguments: [map_edu_level(FAMI_EDUCACIONMADRE#15346)#29105, map_edu_level(FAMI_EDUCACIONPADRE#15347)#29151], [pythonUDF0#66566, pythonUDF1#66567]\n",
            "\n",
            "(36) Filter\n",
            "Input [18]: [COLE_CALENDARIO#15315, COLE_CARACTER#15316, COLE_JORNADA#15324, COLE_NATURALEZA#15326, ESTU_DEPTO_RESIDE#15335, ESTU_GENERO#15339, FAMI_EDUCACIONMADRE#15346, FAMI_EDUCACIONPADRE#15347, PUNT_INGLES#15355, PUNT_MATEMATICAS#15356, PUNT_SOCIALES_CIUDADANAS#15357, PUNT_C_NATURALES#15358, PUNT_LECTURA_CRITICA#15359, PUNT_GLOBAL#15360, AÑOS#15361, TRIMESTRES#15362, pythonUDF0#66566, pythonUDF1#66567]\n",
            "Condition : atleastnnonnulls(27, PUNT_GLOBAL#15360, PUNT_C_NATURALES#15358, PUNT_SOCIALES_CIUDADANAS#15357, PUNT_MATEMATICAS#15356, PUNT_LECTURA_CRITICA#15359, PUNT_INGLES#15355, cast(((pythonUDF0#66566 = PRIMARIA_COMPLETA) <=> true) as int), cast(((pythonUDF1#66567 = PREGRADO_COMPLETO) <=> true) as int), cast(((pythonUDF1#66567 = PRIMARIA_COMPLETA) <=> true) as int), cast(((pythonUDF1#66567 = POSTGRADO) <=> true) as int), cast(((pythonUDF0#66566 = POSTGRADO) <=> true) as int), cast(((pythonUDF0#66566 = TECNICO_O_TECNOLOGIA_COMPLETA) <=> true) as int), cast(((pythonUDF1#66567 = TECNICO_O_TECNOLOGIA_COMPLETA) <=> true) as int), cast(((pythonUDF0#66566 = NINGUNA) <=> true) as int), cast(((pythonUDF1#66567 = NINGUNA) <=> true) as int), TRIMESTRES#15362, AÑOS#15361, cast(((pythonUDF0#66566 = PRIMARIA_INCOMPLETA) <=> true) as int), cast(((pythonUDF0#66566 = SECUNDARIA_COMPLETA) <=> true) as int), cast(((pythonUDF0#66566 = SECUNDARIA_INCOMPLETA) <=> true) as int), cast(((pythonUDF0#66566 = PREGRADO_COMPLETO) <=> true) as int), COLE_CALENDARIO#15315, COLE_CARACTER#15316, ... 4 more fields)\n",
            "\n",
            "(37) Project\n",
            "Output [16]: [COLE_CALENDARIO#15315, COLE_CARACTER#15316, COLE_JORNADA#15324, COLE_NATURALEZA#15326, ESTU_DEPTO_RESIDE#15335, ESTU_GENERO#15339, FAMI_EDUCACIONMADRE#15346, FAMI_EDUCACIONPADRE#15347, PUNT_INGLES#15355, PUNT_MATEMATICAS#15356, PUNT_SOCIALES_CIUDADANAS#15357, PUNT_C_NATURALES#15358, PUNT_LECTURA_CRITICA#15359, PUNT_GLOBAL#15360, AÑOS#15361, TRIMESTRES#15362]\n",
            "Input [18]: [COLE_CALENDARIO#15315, COLE_CARACTER#15316, COLE_JORNADA#15324, COLE_NATURALEZA#15326, ESTU_DEPTO_RESIDE#15335, ESTU_GENERO#15339, FAMI_EDUCACIONMADRE#15346, FAMI_EDUCACIONPADRE#15347, PUNT_INGLES#15355, PUNT_MATEMATICAS#15356, PUNT_SOCIALES_CIUDADANAS#15357, PUNT_C_NATURALES#15358, PUNT_LECTURA_CRITICA#15359, PUNT_GLOBAL#15360, AÑOS#15361, TRIMESTRES#15362, pythonUDF0#66566, pythonUDF1#66567]\n",
            "\n",
            "(38) BatchEvalPython\n",
            "Input [16]: [COLE_CALENDARIO#15315, COLE_CARACTER#15316, COLE_JORNADA#15324, COLE_NATURALEZA#15326, ESTU_DEPTO_RESIDE#15335, ESTU_GENERO#15339, FAMI_EDUCACIONMADRE#15346, FAMI_EDUCACIONPADRE#15347, PUNT_INGLES#15355, PUNT_MATEMATICAS#15356, PUNT_SOCIALES_CIUDADANAS#15357, PUNT_C_NATURALES#15358, PUNT_LECTURA_CRITICA#15359, PUNT_GLOBAL#15360, AÑOS#15361, TRIMESTRES#15362]\n",
            "Arguments: [map_edu_level(FAMI_EDUCACIONMADRE#15346)#29105, map_edu_level(FAMI_EDUCACIONPADRE#15347)#29151], [pythonUDF0#66568, pythonUDF1#66569]\n",
            "\n",
            "(39) Project\n",
            "Output [27]: [COLE_CALENDARIO#15315, COLE_CARACTER#15316, COLE_JORNADA#15324, COLE_NATURALEZA#15326, ESTU_GENERO#15339, PUNT_INGLES#15355, PUNT_MATEMATICAS#15356, PUNT_SOCIALES_CIUDADANAS#15357, PUNT_C_NATURALES#15358, PUNT_LECTURA_CRITICA#15359, PUNT_GLOBAL#15360, AÑOS#15361 AS AÑO#36074, TRIMESTRES#15362, ((pythonUDF0#66568 = PRIMARIA_COMPLETA) <=> true) AS madre_PRIMARIA_COMPLETA#29198, ((pythonUDF0#66568 = PRIMARIA_INCOMPLETA) <=> true) AS madre_PRIMARIA_INCOMPLETA#29245, ((pythonUDF0#66568 = SECUNDARIA_COMPLETA) <=> true) AS madre_SECUNDARIA_COMPLETA#29293, ((pythonUDF0#66568 = SECUNDARIA_INCOMPLETA) <=> true) AS madre_SECUNDARIA_INCOMPLETA#29342, ((pythonUDF0#66568 = PREGRADO_COMPLETO) <=> true) AS madre_PREGRADO_COMPLETO#29392, ((pythonUDF0#66568 = TECNICO_O_TECNOLOGIA_COMPLETA) <=> true) AS madre_TECNICO_O_TECNOLOGIA_COMPLETA#29495, ((pythonUDF0#66568 = POSTGRADO) <=> true) AS madre_POSTGRADO#29602, ((pythonUDF0#66568 = NINGUNA) <=> true) AS madre_NINGUNA#29657, ((pythonUDF1#66569 = PRIMARIA_COMPLETA) <=> true) AS padre_PRIMARIA_COMPLETA#29713, ((pythonUDF1#66569 = PREGRADO_COMPLETO) <=> true) AS padre_PREGRADO_COMPLETO#29947, ((pythonUDF1#66569 = TECNICO_O_TECNOLOGIA_COMPLETA) <=> true) AS padre_TECNICO_O_TECNOLOGIA_COMPLETA#30070, ((pythonUDF1#66569 = POSTGRADO) <=> true) AS padre_POSTGRADO#30197, ((pythonUDF1#66569 = NINGUNA) <=> true) AS padre_NINGUNA#30262, upper(trim(ESTU_DEPTO_RESIDE#15335, None)) AS DEPARTAMENTO#39678]\n",
            "Input [18]: [COLE_CALENDARIO#15315, COLE_CARACTER#15316, COLE_JORNADA#15324, COLE_NATURALEZA#15326, ESTU_DEPTO_RESIDE#15335, ESTU_GENERO#15339, FAMI_EDUCACIONMADRE#15346, FAMI_EDUCACIONPADRE#15347, PUNT_INGLES#15355, PUNT_MATEMATICAS#15356, PUNT_SOCIALES_CIUDADANAS#15357, PUNT_C_NATURALES#15358, PUNT_LECTURA_CRITICA#15359, PUNT_GLOBAL#15360, AÑOS#15361, TRIMESTRES#15362, pythonUDF0#66568, pythonUDF1#66569]\n",
            "\n",
            "(40) Project\n",
            "Output [28]: [AÑO#36074, TRIMESTRES#15362, DEPARTAMENTO#39678, PUNT_GLOBAL#15360, PUNT_MATEMATICAS#15356, PUNT_LECTURA_CRITICA#15359, PUNT_SOCIALES_CIUDADANAS#15357, PUNT_INGLES#15355, PUNT_C_NATURALES#15358, madre_PRIMARIA_COMPLETA#29198, madre_PRIMARIA_INCOMPLETA#29245, madre_SECUNDARIA_COMPLETA#29293, madre_SECUNDARIA_INCOMPLETA#29342, madre_PREGRADO_COMPLETO#29392, madre_TECNICO_O_TECNOLOGIA_COMPLETA#29495, madre_POSTGRADO#29602, madre_NINGUNA#29657, padre_PRIMARIA_COMPLETA#29713, padre_PREGRADO_COMPLETO#29947, padre_TECNICO_O_TECNOLOGIA_COMPLETA#30070, padre_POSTGRADO#30197, padre_NINGUNA#30262, COLE_CALENDARIO#15315, COLE_CARACTER#15316, COLE_NATURALEZA#15326, COLE_JORNADA#15324, DEPARTAMENTO#39678, ESTU_GENERO#15339]\n",
            "Input [27]: [COLE_CALENDARIO#15315, COLE_CARACTER#15316, COLE_JORNADA#15324, COLE_NATURALEZA#15326, ESTU_GENERO#15339, PUNT_INGLES#15355, PUNT_MATEMATICAS#15356, PUNT_SOCIALES_CIUDADANAS#15357, PUNT_C_NATURALES#15358, PUNT_LECTURA_CRITICA#15359, PUNT_GLOBAL#15360, AÑO#36074, TRIMESTRES#15362, madre_PRIMARIA_COMPLETA#29198, madre_PRIMARIA_INCOMPLETA#29245, madre_SECUNDARIA_COMPLETA#29293, madre_SECUNDARIA_INCOMPLETA#29342, madre_PREGRADO_COMPLETO#29392, madre_TECNICO_O_TECNOLOGIA_COMPLETA#29495, madre_POSTGRADO#29602, madre_NINGUNA#29657, padre_PRIMARIA_COMPLETA#29713, padre_PREGRADO_COMPLETO#29947, padre_TECNICO_O_TECNOLOGIA_COMPLETA#30070, padre_POSTGRADO#30197, padre_NINGUNA#30262, DEPARTAMENTO#39678]\n",
            "\n",
            "(41) Filter\n",
            "Input [2]: [AÑO#17125, DEPARTAMENTO#17128]\n",
            "Condition : (((isnotnull(AÑO#17125) AND (AÑO#17125 >= 2015)) AND (AÑO#17125 <= 2018)) AND isnotnull(upper(trim(DEPARTAMENTO#17128, None))))\n",
            "\n",
            "(42) Project\n",
            "Output [2]: [AÑO#17125, upper(trim(DEPARTAMENTO#17128, None)) AS DEPARTAMENTO#39776]\n",
            "Input [2]: [AÑO#17125, DEPARTAMENTO#17128]\n",
            "\n",
            "(43) HashAggregate\n",
            "Input [2]: [AÑO#17125, DEPARTAMENTO#39776]\n",
            "Keys [2]: [AÑO#17125, DEPARTAMENTO#39776]\n",
            "Functions: []\n",
            "Aggregate Attributes: []\n",
            "Results [2]: [AÑO#17125, DEPARTAMENTO#39776]\n",
            "\n",
            "(44) Exchange\n",
            "Input [2]: [AÑO#17125, DEPARTAMENTO#39776]\n",
            "Arguments: hashpartitioning(AÑO#17125, DEPARTAMENTO#39776, 200), ENSURE_REQUIREMENTS, [plan_id=56673]\n",
            "\n",
            "(45) HashAggregate\n",
            "Input [2]: [AÑO#17125, DEPARTAMENTO#39776]\n",
            "Keys [2]: [AÑO#17125, DEPARTAMENTO#39776]\n",
            "Functions: []\n",
            "Aggregate Attributes: []\n",
            "Results [2]: [AÑO#17125, DEPARTAMENTO#39776]\n",
            "\n",
            "(46) BroadcastExchange\n",
            "Input [2]: [AÑO#17125, DEPARTAMENTO#39776]\n",
            "Arguments: HashedRelationBroadcastMode(List(input[0, int, true], input[1, string, true]),false), [plan_id=56676]\n",
            "\n",
            "(47) BroadcastHashJoin\n",
            "Left keys [2]: [AÑO#36074, DEPARTAMENTO#39678]\n",
            "Right keys [2]: [AÑO#17125, DEPARTAMENTO#39776]\n",
            "Join type: Inner\n",
            "Join condition: None\n",
            "\n",
            "(48) Project\n",
            "Output [27]: [AÑO#36074, DEPARTAMENTO#39678, TRIMESTRES#15362, PUNT_GLOBAL#15360, PUNT_MATEMATICAS#15356, PUNT_LECTURA_CRITICA#15359, PUNT_SOCIALES_CIUDADANAS#15357, PUNT_INGLES#15355, PUNT_C_NATURALES#15358, madre_PRIMARIA_COMPLETA#29198, madre_PRIMARIA_INCOMPLETA#29245, madre_SECUNDARIA_COMPLETA#29293, madre_SECUNDARIA_INCOMPLETA#29342, madre_PREGRADO_COMPLETO#29392, madre_TECNICO_O_TECNOLOGIA_COMPLETA#29495, madre_POSTGRADO#29602, madre_NINGUNA#29657, padre_PRIMARIA_COMPLETA#29713, padre_PREGRADO_COMPLETO#29947, padre_TECNICO_O_TECNOLOGIA_COMPLETA#30070, padre_POSTGRADO#30197, padre_NINGUNA#30262, COLE_CALENDARIO#15315, COLE_CARACTER#15316, COLE_NATURALEZA#15326, COLE_JORNADA#15324, ESTU_GENERO#15339]\n",
            "Input [30]: [AÑO#36074, TRIMESTRES#15362, DEPARTAMENTO#39678, PUNT_GLOBAL#15360, PUNT_MATEMATICAS#15356, PUNT_LECTURA_CRITICA#15359, PUNT_SOCIALES_CIUDADANAS#15357, PUNT_INGLES#15355, PUNT_C_NATURALES#15358, madre_PRIMARIA_COMPLETA#29198, madre_PRIMARIA_INCOMPLETA#29245, madre_SECUNDARIA_COMPLETA#29293, madre_SECUNDARIA_INCOMPLETA#29342, madre_PREGRADO_COMPLETO#29392, madre_TECNICO_O_TECNOLOGIA_COMPLETA#29495, madre_POSTGRADO#29602, madre_NINGUNA#29657, padre_PRIMARIA_COMPLETA#29713, padre_PREGRADO_COMPLETO#29947, padre_TECNICO_O_TECNOLOGIA_COMPLETA#30070, padre_POSTGRADO#30197, padre_NINGUNA#30262, COLE_CALENDARIO#15315, COLE_CARACTER#15316, COLE_NATURALEZA#15326, COLE_JORNADA#15324, DEPARTAMENTO#39678, ESTU_GENERO#15339, AÑO#17125, DEPARTAMENTO#39776]\n",
            "\n",
            "(49) Filter\n",
            "Input [3]: [DEPARTAME_NOMBRE#17073, FECHA DE CARGUE#17078, FECHA VIGENCIA#17081]\n",
            "Condition : (((CASE WHEN (year(FECHA DE CARGUE#17078) = year(FECHA VIGENCIA#17081)) THEN year(FECHA DE CARGUE#17078) ELSE year(FECHA VIGENCIA#17081) END >= 2015) AND (CASE WHEN (year(FECHA DE CARGUE#17078) = year(FECHA VIGENCIA#17081)) THEN year(FECHA DE CARGUE#17078) ELSE year(FECHA VIGENCIA#17081) END <= 2018)) AND isnotnull(upper(trim(DEPARTAME_NOMBRE#17073, None))))\n",
            "\n",
            "(50) Project\n",
            "Output [3]: [DEPARTAME_NOMBRE#17073, year(FECHA DE CARGUE#17078) AS anio_cargue#35834, year(FECHA VIGENCIA#17081) AS anio_vigencia#35845]\n",
            "Input [3]: [DEPARTAME_NOMBRE#17073, FECHA DE CARGUE#17078, FECHA VIGENCIA#17081]\n",
            "\n",
            "(51) Project\n",
            "Output [2]: [upper(trim(DEPARTAME_NOMBRE#17073, None)) AS DEPARTAMENTO#39796, CASE WHEN (anio_cargue#35834 = anio_vigencia#35845) THEN anio_cargue#35834 ELSE anio_vigencia#35845 END AS AÑO#35857]\n",
            "Input [3]: [DEPARTAME_NOMBRE#17073, anio_cargue#35834, anio_vigencia#35845]\n",
            "\n",
            "(52) HashAggregate\n",
            "Input [2]: [DEPARTAMENTO#39796, AÑO#35857]\n",
            "Keys [2]: [AÑO#35857, DEPARTAMENTO#39796]\n",
            "Functions: []\n",
            "Aggregate Attributes: []\n",
            "Results [2]: [AÑO#35857, DEPARTAMENTO#39796]\n",
            "\n",
            "(53) Exchange\n",
            "Input [2]: [AÑO#35857, DEPARTAMENTO#39796]\n",
            "Arguments: hashpartitioning(AÑO#35857, DEPARTAMENTO#39796, 200), ENSURE_REQUIREMENTS, [plan_id=56679]\n",
            "\n",
            "(54) HashAggregate\n",
            "Input [2]: [AÑO#35857, DEPARTAMENTO#39796]\n",
            "Keys [2]: [AÑO#35857, DEPARTAMENTO#39796]\n",
            "Functions: []\n",
            "Aggregate Attributes: []\n",
            "Results [2]: [AÑO#35857, DEPARTAMENTO#39796]\n",
            "\n",
            "(55) BroadcastExchange\n",
            "Input [2]: [AÑO#35857, DEPARTAMENTO#39796]\n",
            "Arguments: HashedRelationBroadcastMode(List(input[0, int, true], input[1, string, true]),false), [plan_id=56682]\n",
            "\n",
            "(56) BroadcastHashJoin\n",
            "Left keys [2]: [AÑO#36074, DEPARTAMENTO#39678]\n",
            "Right keys [2]: [AÑO#35857, DEPARTAMENTO#39796]\n",
            "Join type: Inner\n",
            "Join condition: None\n",
            "\n",
            "(57) Project\n",
            "Output [27]: [PUNT_GLOBAL#15360, PUNT_C_NATURALES#15358, PUNT_SOCIALES_CIUDADANAS#15357, PUNT_MATEMATICAS#15356, PUNT_LECTURA_CRITICA#15359, PUNT_INGLES#15355, cast(madre_PRIMARIA_COMPLETA#29198 as int) AS madre_PRIMARIA_COMPLETA#57825, cast(padre_PREGRADO_COMPLETO#29947 as int) AS padre_PREGRADO_COMPLETO#57839, cast(padre_PRIMARIA_COMPLETA#29713 as int) AS padre_PRIMARIA_COMPLETA#57835, cast(padre_POSTGRADO#30197 as int) AS padre_POSTGRADO#57843, cast(madre_POSTGRADO#29602 as int) AS madre_POSTGRADO#57833, cast(madre_TECNICO_O_TECNOLOGIA_COMPLETA#29495 as int) AS madre_TECNICO_O_TECNOLOGIA_COMPLETA#57831, cast(padre_TECNICO_O_TECNOLOGIA_COMPLETA#30070 as int) AS padre_TECNICO_O_TECNOLOGIA_COMPLETA#57841, cast(madre_NINGUNA#29657 as int) AS madre_NINGUNA#57834, cast(padre_NINGUNA#30262 as int) AS padre_NINGUNA#57844, TRIMESTRES#15362, AÑO#36074, cast(madre_PRIMARIA_INCOMPLETA#29245 as int) AS madre_PRIMARIA_INCOMPLETA#57826, cast(madre_SECUNDARIA_COMPLETA#29293 as int) AS madre_SECUNDARIA_COMPLETA#57827, cast(madre_SECUNDARIA_INCOMPLETA#29342 as int) AS madre_SECUNDARIA_INCOMPLETA#57828, cast(madre_PREGRADO_COMPLETO#29392 as int) AS madre_PREGRADO_COMPLETO#57829, COLE_CALENDARIO#15315, COLE_CARACTER#15316, COLE_NATURALEZA#15326, COLE_JORNADA#15324, DEPARTAMENTO#39678, ESTU_GENERO#15339]\n",
            "Input [29]: [AÑO#36074, DEPARTAMENTO#39678, TRIMESTRES#15362, PUNT_GLOBAL#15360, PUNT_MATEMATICAS#15356, PUNT_LECTURA_CRITICA#15359, PUNT_SOCIALES_CIUDADANAS#15357, PUNT_INGLES#15355, PUNT_C_NATURALES#15358, madre_PRIMARIA_COMPLETA#29198, madre_PRIMARIA_INCOMPLETA#29245, madre_SECUNDARIA_COMPLETA#29293, madre_SECUNDARIA_INCOMPLETA#29342, madre_PREGRADO_COMPLETO#29392, madre_TECNICO_O_TECNOLOGIA_COMPLETA#29495, madre_POSTGRADO#29602, madre_NINGUNA#29657, padre_PRIMARIA_COMPLETA#29713, padre_PREGRADO_COMPLETO#29947, padre_TECNICO_O_TECNOLOGIA_COMPLETA#30070, padre_POSTGRADO#30197, padre_NINGUNA#30262, COLE_CALENDARIO#15315, COLE_CARACTER#15316, COLE_NATURALEZA#15326, COLE_JORNADA#15324, ESTU_GENERO#15339, AÑO#35857, DEPARTAMENTO#39796]\n",
            "\n",
            "(58) AdaptiveSparkPlan\n",
            "Output [27]: [PUNT_GLOBAL#15360, PUNT_C_NATURALES#15358, PUNT_SOCIALES_CIUDADANAS#15357, PUNT_MATEMATICAS#15356, PUNT_LECTURA_CRITICA#15359, PUNT_INGLES#15355, madre_PRIMARIA_COMPLETA#57825, padre_PREGRADO_COMPLETO#57839, padre_PRIMARIA_COMPLETA#57835, padre_POSTGRADO#57843, madre_POSTGRADO#57833, madre_TECNICO_O_TECNOLOGIA_COMPLETA#57831, padre_TECNICO_O_TECNOLOGIA_COMPLETA#57841, madre_NINGUNA#57834, padre_NINGUNA#57844, TRIMESTRES#15362, AÑO#36074, madre_PRIMARIA_INCOMPLETA#57826, madre_SECUNDARIA_COMPLETA#57827, madre_SECUNDARIA_INCOMPLETA#57828, madre_PREGRADO_COMPLETO#57829, COLE_CALENDARIO#15315, COLE_CARACTER#15316, COLE_NATURALEZA#15326, COLE_JORNADA#15324, DEPARTAMENTO#39678, ESTU_GENERO#15339]\n",
            "Arguments: isFinalPlan=true\n",
            "\n",
            "\n",
            "+-----------+----------------+------------------------+----------------+--------------------+-----------+-----------------------+-----------------------+-----------------------+---------------+---------------+-----------------------------------+-----------------------------------+-------------+-------------+----------+----+-------------------------+-------------------------+---------------------------+-----------------------+---------------+-----------------+---------------+------------+------------+-----------+\n",
            "|PUNT_GLOBAL|PUNT_C_NATURALES|PUNT_SOCIALES_CIUDADANAS|PUNT_MATEMATICAS|PUNT_LECTURA_CRITICA|PUNT_INGLES|madre_PRIMARIA_COMPLETA|padre_PREGRADO_COMPLETO|padre_PRIMARIA_COMPLETA|padre_POSTGRADO|madre_POSTGRADO|madre_TECNICO_O_TECNOLOGIA_COMPLETA|padre_TECNICO_O_TECNOLOGIA_COMPLETA|madre_NINGUNA|padre_NINGUNA|TRIMESTRES|AÑO |madre_PRIMARIA_INCOMPLETA|madre_SECUNDARIA_COMPLETA|madre_SECUNDARIA_INCOMPLETA|madre_PREGRADO_COMPLETO|COLE_CALENDARIO|COLE_CARACTER    |COLE_NATURALEZA|COLE_JORNADA|DEPARTAMENTO|ESTU_GENERO|\n",
            "+-----------+----------------+------------------------+----------------+--------------------+-----------+-----------------------+-----------------------+-----------------------+---------------+---------------+-----------------------------------+-----------------------------------+-------------+-------------+----------+----+-------------------------+-------------------------+---------------------------+-----------------------+---------------+-----------------+---------------+------------+------------+-----------+\n",
            "|217        |48              |44                      |38              |44                  |44         |1                      |0                      |1                      |0              |0              |0                                  |0                                  |0            |0            |2         |2016|0                        |0                        |0                          |0                      |A              |TÉCNICO/ACADÉMICO|OFICIAL        |SABATINA    |ANTIOQUIA   |F          |\n",
            "|222        |44              |47                      |40              |48                  |40         |0                      |0                      |0                      |0              |0              |1                                  |0                                  |0            |0            |2         |2017|0                        |0                        |0                          |0                      |A              |TÉCNICO/ACADÉMICO|OFICIAL        |COMPLETA    |SANTANDER   |M          |\n",
            "|267        |55              |59                      |49              |54                  |43         |0                      |0                      |0                      |0              |0              |1                                  |1                                  |0            |0            |2         |2015|0                        |0                        |0                          |0                      |A              |TÉCNICO/ACADÉMICO|OFICIAL        |MAÑANA      |SANTANDER   |M          |\n",
            "|170        |39              |27                      |34              |35                  |34         |1                      |0                      |1                      |0              |0              |0                                  |0                                  |0            |0            |2         |2016|0                        |0                        |0                          |0                      |A              |ACADÉMICO        |OFICIAL        |SABATINA    |SANTANDER   |M          |\n",
            "|266        |59              |53                      |49              |53                  |49         |1                      |0                      |0                      |0              |0              |0                                  |0                                  |0            |0            |2         |2015|0                        |0                        |0                          |0                      |A              |ACADÉMICO        |OFICIAL        |COMPLETA    |HUILA       |M          |\n",
            "|228        |45              |46                      |47              |45                  |43         |1                      |0                      |1                      |0              |0              |0                                  |0                                  |0            |0            |2         |2015|0                        |0                        |0                          |0                      |A              |TÉCNICO/ACADÉMICO|OFICIAL        |MAÑANA      |CUNDINAMARCA|M          |\n",
            "|423        |90              |81                      |87              |80                  |85         |0                      |0                      |0                      |0              |0              |0                                  |0                                  |0            |0            |2         |2015|0                        |1                        |0                          |0                      |A              |ACADÉMICO        |OFICIAL        |MAÑANA      |SUCRE       |F          |\n",
            "|236        |43              |46                      |52              |47                  |50         |1                      |0                      |1                      |0              |0              |0                                  |0                                  |0            |0            |2         |2015|0                        |0                        |0                          |0                      |A              |ACADÉMICO        |OFICIAL        |TARDE       |ANTIOQUIA   |F          |\n",
            "|245        |50              |56                      |43              |49                  |42         |0                      |0                      |1                      |0              |0              |0                                  |0                                  |0            |0            |2         |2017|0                        |1                        |0                          |0                      |A              |NO APLICA        |NO OFICIAL     |NOCHE       |CUNDINAMARCA|M          |\n",
            "|234        |47              |51                      |44              |50                  |32         |0                      |0                      |1                      |0              |0              |0                                  |0                                  |0            |0            |2         |2016|0                        |1                        |0                          |0                      |A              |ACADÉMICO        |OFICIAL        |MAÑANA      |SANTANDER   |M          |\n",
            "+-----------+----------------+------------------------+----------------+--------------------+-----------+-----------------------+-----------------------+-----------------------+---------------+---------------+-----------------------------------+-----------------------------------+-------------+-------------+----------+----+-------------------------+-------------------------+---------------------------+-----------------------+---------------+-----------------+---------------+------------+------------+-----------+\n",
            "only showing top 10 rows\n",
            "\n",
            "+-----------+----------------+------------------------+----------------+--------------------+-----------+-----------------------+-----------------------+-----------------------+---------------+---------------+-----------------------------------+-----------------------------------+-------------+-------------+----------+----+-------------------------+-------------------------+---------------------------+-----------------------+---------------+-----------------+---------------+------------+------------+-----------+\n",
            "|PUNT_GLOBAL|PUNT_C_NATURALES|PUNT_SOCIALES_CIUDADANAS|PUNT_MATEMATICAS|PUNT_LECTURA_CRITICA|PUNT_INGLES|madre_PRIMARIA_COMPLETA|padre_PREGRADO_COMPLETO|padre_PRIMARIA_COMPLETA|padre_POSTGRADO|madre_POSTGRADO|madre_TECNICO_O_TECNOLOGIA_COMPLETA|padre_TECNICO_O_TECNOLOGIA_COMPLETA|madre_NINGUNA|padre_NINGUNA|TRIMESTRES|AÑO |madre_PRIMARIA_INCOMPLETA|madre_SECUNDARIA_COMPLETA|madre_SECUNDARIA_INCOMPLETA|madre_PREGRADO_COMPLETO|COLE_CALENDARIO|COLE_CARACTER    |COLE_NATURALEZA|COLE_JORNADA|DEPARTAMENTO|ESTU_GENERO|\n",
            "+-----------+----------------+------------------------+----------------+--------------------+-----------+-----------------------+-----------------------+-----------------------+---------------+---------------+-----------------------------------+-----------------------------------+-------------+-------------+----------+----+-------------------------+-------------------------+---------------------------+-----------------------+---------------+-----------------+---------------+------------+------------+-----------+\n",
            "|253        |44              |54                      |53              |54                  |44         |0                      |0                      |1                      |0              |0              |0                                  |0                                  |0            |0            |2         |2017|0                        |1                        |0                          |0                      |A              |TÉCNICO/ACADÉMICO|NO OFICIAL     |SABATINA    |ANTIOQUIA   |F          |\n",
            "|265        |51              |56                      |56              |56                  |32         |1                      |0                      |1                      |0              |0              |0                                  |0                                  |0            |0            |2         |2016|0                        |0                        |0                          |0                      |A              |TÉCNICO/ACADÉMICO|OFICIAL        |MAÑANA      |MAGDALENA   |M          |\n",
            "|352        |68              |73                      |71              |68                  |75         |0                      |0                      |0                      |0              |0              |1                                  |0                                  |0            |0            |2         |2016|0                        |0                        |0                          |0                      |A              |TÉCNICO          |NO OFICIAL     |COMPLETA    |ANTIOQUIA   |M          |\n",
            "|230        |43              |49                      |44              |46                  |52         |1                      |0                      |1                      |0              |0              |0                                  |0                                  |0            |0            |2         |2015|0                        |0                        |0                          |0                      |A              |ACADÉMICO        |OFICIAL        |SABATINA    |HUILA       |F          |\n",
            "|228        |44              |53                      |44              |44                  |38         |1                      |0                      |1                      |0              |0              |0                                  |0                                  |0            |0            |2         |2015|0                        |0                        |0                          |0                      |A              |ACADÉMICO        |NO OFICIAL     |SABATINA    |TOLIMA      |F          |\n",
            "|246        |49              |50                      |51              |48                  |46         |0                      |0                      |1                      |0              |0              |0                                  |0                                  |0            |0            |2         |2017|0                        |1                        |0                          |0                      |A              |TÉCNICO          |OFICIAL        |MAÑANA      |CASANARE    |F          |\n",
            "|264        |48              |53                      |47              |65                  |45         |1                      |0                      |1                      |0              |0              |0                                  |0                                  |0            |0            |2         |2016|0                        |0                        |0                          |0                      |A              |ACADÉMICO        |OFICIAL        |SABATINA    |ANTIOQUIA   |F          |\n",
            "|227        |48              |46                      |44              |43                  |46         |0                      |0                      |0                      |0              |0              |0                                  |0                                  |0            |1            |2         |2015|0                        |1                        |0                          |0                      |A              |ACADÉMICO        |OFICIAL        |TARDE       |ANTIOQUIA   |F          |\n",
            "|307        |59              |64                      |59              |68                  |47         |0                      |0                      |1                      |0              |0              |0                                  |0                                  |0            |0            |2         |2017|0                        |1                        |0                          |0                      |A              |TÉCNICO/ACADÉMICO|OFICIAL        |TARDE       |SANTANDER   |F          |\n",
            "|243        |48              |54                      |49              |48                  |35         |0                      |1                      |0                      |0              |0              |1                                  |0                                  |0            |0            |2         |2017|0                        |0                        |0                          |0                      |A              |ACADÉMICO        |OFICIAL        |MAÑANA      |CALDAS      |M          |\n",
            "+-----------+----------------+------------------------+----------------+--------------------+-----------+-----------------------+-----------------------+-----------------------+---------------+---------------+-----------------------------------+-----------------------------------+-------------+-------------+----------+----+-------------------------+-------------------------+---------------------------+-----------------------+---------------+-----------------+---------------+------------+------------+-----------+\n",
            "\n"
          ]
        }
      ]
    },
    {
      "cell_type": "code",
      "source": [],
      "metadata": {
        "id": "xmsCBkXfwLTE"
      },
      "execution_count": null,
      "outputs": []
    },
    {
      "cell_type": "code",
      "source": [
        "# 1. Reparte el DataFrame en 1 partición\n",
        "df_single = df_model.coalesce(1)\n",
        "\n",
        "# 2. Escríbelo en modo overwrite con cabecera CSV\n",
        "output_dir = \"Resultados_icfes_limpios_temp\"\n",
        "df_single.write \\\n",
        "    .option(\"header\", True) \\\n",
        "    .mode(\"overwrite\") \\\n",
        "    .csv(output_dir)\n",
        "\n",
        "# 3. Renombra el único part-*.csv al nombre final\n",
        "import glob, shutil, os\n",
        "\n",
        "# Busca el archivo CSV generado\n",
        "part_file = glob.glob(f\"{output_dir}/part-*.csv\")[0]\n",
        "\n",
        "# Muévelo y renómbralo\n",
        "shutil.move(part_file, \"Resultados_icfes_limpios.csv\")\n",
        "\n",
        "# 4. Borra el directorio temporal\n",
        "shutil.rmtree(output_dir)\n"
      ],
      "metadata": {
        "id": "edv_DN3hkaCa"
      },
      "execution_count": 213,
      "outputs": []
    },
    {
      "cell_type": "markdown",
      "source": [
        "### Gráficas"
      ],
      "metadata": {
        "id": "XTT9BgNP91uA"
      }
    },
    {
      "cell_type": "code",
      "source": [
        "import matplotlib.pyplot as plt\n",
        "import seaborn as sns\n",
        "\n",
        "pdf = df_model.select(\n",
        "    \"PUNT_GLOBAL\",\n",
        "    \"PUNT_MATEMATICAS\",\n",
        "    \"PUNT_LECTURA_CRITICA\",\n",
        "    \"PUNT_SOCIALES_CIUDADANAS\",\n",
        "    \"PUNT_INGLES\",\n",
        "    \"PUNT_C_NATURALES\"\n",
        ").sample(False, 0.005).toPandas()\n",
        "\n",
        "pdf.hist(bins=30, figsize=(12,8))\n",
        "plt.suptitle(\"Distribución de puntajes ICFES 2015-2018\", y=1.02)\n",
        "plt.show()\n"
      ],
      "metadata": {
        "colab": {
          "base_uri": "https://localhost:8080/",
          "height": 788
        },
        "id": "bBTrQ0vj94dT",
        "outputId": "939c5711-82aa-4d3e-a856-0d359b49c24b"
      },
      "execution_count": 218,
      "outputs": [
        {
          "output_type": "display_data",
          "data": {
            "text/plain": [
              "<Figure size 1200x800 with 6 Axes>"
            ],
            "image/png": "[encoded data removed]"
          },
          "metadata": {}
        }
      ]
    },
    {
      "cell_type": "code",
      "source": [
        "plt.figure(figsize=(10,4))\n",
        "sns.boxplot(data=df_model.select(\"AÑO\", \"PUNT_GLOBAL\").toPandas(),\n",
        "            x=\"AÑO\", y=\"PUNT_GLOBAL\")\n",
        "plt.title(\"Puntaje global por año\")\n",
        "plt.show()\n",
        "\n",
        "plt.figure(figsize=(10,4))\n",
        "sns.boxplot(data=df_model.select(\"TRIMESTRES\", \"PUNT_GLOBAL\").toPandas(),\n",
        "            x=\"TRIMESTRES\", y=\"PUNT_GLOBAL\")\n",
        "plt.title(\"Puntaje global por trimestre 2015-2018\")\n",
        "plt.show()"
      ],
      "metadata": {
        "colab": {
          "base_uri": "https://localhost:8080/",
          "height": 803
        },
        "id": "XMH_bT8m9_xv",
        "outputId": "e1860c69-63d7-4c69-f6ea-3ee2f8fe2012"
      },
      "execution_count": 220,
      "outputs": [
        {
          "output_type": "display_data",
          "data": {
            "text/plain": [
              "<Figure size 1000x400 with 1 Axes>"
            ],
            "image/png": "[encoded data removed]"
          },
          "metadata": {}
        },
        {
          "output_type": "display_data",
          "data": {
            "text/plain": [
              "<Figure size 1000x400 with 1 Axes>"
            ],
            "image/png": "[encoded data removed]"
          },
          "metadata": {}
        }
      ]
    },
    {
      "cell_type": "code",
      "source": [
        "for col in [\"COLE_CALENDARIO\", \"COLE_CARACTER\", \"COLE_NATURALEZA\", \"COLE_JORNADA\"]:\n",
        "    (df_model\n",
        "        .groupBy(col).count()\n",
        "        .orderBy(\"count\", ascending=False)\n",
        "        .toPandas()\n",
        "        .plot.bar(x=col, y=\"count\", legend=False, figsize=(6,3), rot=45)\n",
        "    )\n",
        "    plt.title(f\"Distribución de {col}\")\n",
        "    plt.show()"
      ],
      "metadata": {
        "colab": {
          "base_uri": "https://localhost:8080/",
          "height": 1000
        },
        "id": "b59QC8Ht_QNK",
        "outputId": "0113558b-67af-4971-c7a4-9962ade7f4be"
      },
      "execution_count": 221,
      "outputs": [
        {
          "output_type": "display_data",
          "data": {
            "text/plain": [
              "<Figure size 600x300 with 1 Axes>"
            ],
            "image/png": "[encoded data removed]"
          },
          "metadata": {}
        },
        {
          "output_type": "display_data",
          "data": {
            "text/plain": [
              "<Figure size 600x300 with 1 Axes>"
            ],
            "image/png": "[encoded data removed]"
          },
          "metadata": {}
        },
        {
          "output_type": "display_data",
          "data": {
            "text/plain": [
              "<Figure size 600x300 with 1 Axes>"
            ],
            "image/png": "[encoded data removed]"
          },
          "metadata": {}
        },
        {
          "output_type": "display_data",
          "data": {
            "text/plain": [
              "<Figure size 600x300 with 1 Axes>"
            ],
            "image/png": "[encoded data removed]"
          },
          "metadata": {}
        }
      ]
    }
  ]
}